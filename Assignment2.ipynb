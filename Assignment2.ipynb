{
 "cells": [
  {
   "cell_type": "code",
   "execution_count": 1,
   "metadata": {},
   "outputs": [],
   "source": [
    "%matplotlib inline\n",
    "import json\n",
    "from pandas.io.json import json_normalize\n",
    "import numpy as np\n",
    "import seaborn as sns\n",
    "import pandas as pd\n",
    "import matplotlib.pyplot as plt\n",
    "from matplotlib.patches import Arc, Rectangle, ConnectionPatch\n",
    "from matplotlib.offsetbox import  OffsetImage\n",
    "import squarify\n",
    "from functools import reduce"
   ]
  },
  {
   "cell_type": "code",
   "execution_count": 169,
   "metadata": {},
   "outputs": [
    {
     "data": {
      "text/plain": [
       "106"
      ]
     },
     "execution_count": 169,
     "metadata": {},
     "output_type": "execute_result"
    }
   ],
   "source": [
    "len(df.columns)"
   ]
  },
  {
   "cell_type": "code",
   "execution_count": 170,
   "metadata": {},
   "outputs": [],
   "source": [
    "# loading the json file\n",
    "with open('7567.json',encoding='UTF-8') as data_file:    \n",
    "    data = json.load(data_file)"
   ]
  },
  {
   "cell_type": "code",
   "execution_count": 3,
   "metadata": {},
   "outputs": [
    {
     "name": "stderr",
     "output_type": "stream",
     "text": [
      "C:\\Users\\Aman\\Anaconda3\\lib\\site-packages\\ipykernel_launcher.py:1: FutureWarning: pandas.io.json.json_normalize is deprecated, use pandas.json_normalize instead\n",
      "  \"\"\"Entry point for launching an IPython kernel.\n"
     ]
    }
   ],
   "source": [
    "df = json_normalize(data, sep = \"_\")\n",
    "# ozil_pass = df[(df['type_name'] == \"Pass\") & (df['player_name']=='Mesut Özil')] # get passing information of Ozil\n",
    "# pass_column = [i for i in df.columns if i.startswith(\"pass\")]\n",
    "# ozil_pass = ozil_pass[[\"id\", \"period\", \"timestamp\", \"location\", \"pass_end_location\", \"pass_recipient_name\"]]\n",
    "# ozil_pass.head()"
   ]
  },
  {
   "cell_type": "code",
   "execution_count": 4,
   "metadata": {},
   "outputs": [],
   "source": [
    "bins = [x for x in range(-180,180,15)]\n",
    "labels = [x for x in range(-165,180,15)]\n",
    "df['pass_angle_degree'] = df['pass_angle'].map(lambda x: np.degrees(x))\n",
    "df['binned_pass_angle'] = pd.cut(df['pass_angle_degree'], bins=bins, labels=labels)\n",
    "pass_length_bins = [0,10,20,30,40,50]\n",
    "pass_length_labels = [\"very_short\",\"short\",\"medium\",\"long\",\"very_long\"]\n",
    "df['binned_pass_length'] = pd.cut(df['pass_length'], bins=pass_length_bins, labels=pass_length_labels)"
   ]
  },
  {
   "cell_type": "code",
   "execution_count": 90,
   "metadata": {},
   "outputs": [],
   "source": [
    "positions = {}\n",
    "for x  in df.tactics_lineup[0]:\n",
    "    positions[x['player']['name']] = x['position']['name']"
   ]
  },
  {
   "cell_type": "code",
   "execution_count": 5,
   "metadata": {},
   "outputs": [],
   "source": [
    "def player_pass_df(df,name):\n",
    "    df = df[(df['type_name'] == \"Pass\") & (df['player_name']==name)]\n",
    "    df = df[[\n",
    "    'position_name',\n",
    "    'pass_recipient_id',\n",
    "    'pass_recipient_name',\n",
    "    'pass_length',\n",
    "    'pass_angle',\n",
    "    'pass_height_id',\n",
    "    'pass_height_name',\n",
    "    'pass_end_location',\n",
    "    'pass_body_part_id',\n",
    "    'pass_body_part_name',\n",
    "    'pass_type_id',\n",
    "    'pass_type_name',\n",
    "    'pass_angle_degree',\n",
    "    'binned_pass_angle',\n",
    "    'binned_pass_length'\n",
    "    ]]\n",
    "    grouped = df.groupby('binned_pass_angle')\n",
    "    data_new = pd.DataFrame(columns=[\"Angle\",\"Length\",\"Frequency\"])\n",
    "    for name,group in grouped:\n",
    "        angle = name\n",
    "        frequency = group['pass_length'].count()\n",
    "        length = group['pass_length'].mean()\n",
    "        data_new = data_new.append({\"Angle\":angle,\"Length\":length,\"Frequency\":frequency}, ignore_index=True)\n",
    "    pass_length_bins = [0,10,20,30,40,100]\n",
    "    pass_length_labels = [\"very_short\",\"short\",\"medium\",\"long\",\"very_long\"]\n",
    "    data_new['binned_pass_length'] = pd.cut(data_new['Length'], bins=pass_length_bins, labels=pass_length_labels)\n",
    "    data_new['binned_pass_length'] = data_new['binned_pass_length'].cat.add_categories('No Pass')\n",
    "    data_new['binned_pass_length'].fillna('No Pass',inplace=True)\n",
    "    return data_new\n",
    "    "
   ]
  },
  {
   "cell_type": "code",
   "execution_count": 6,
   "metadata": {},
   "outputs": [],
   "source": [
    "positions = {'Jonas Hector': 'Left Back',\n",
    " 'Joshua Kimmich': 'Right Back',\n",
    " 'Leon Goretzka': 'Right Wing',\n",
    " 'Manuel Neuer': 'Goalkeeper',\n",
    " 'Marco Reus': 'Left Wing',\n",
    " 'Mats Hummels': 'Left Center Back',\n",
    " 'Mesut Özil': 'Center Attacking Midfield',\n",
    " 'Niklas Süle': 'Right Center Back',\n",
    " 'Sami Khedira': 'Right Center Midfield',\n",
    " 'Timo Werner': 'Center Forward',\n",
    " 'Toni Kroos': 'Left Center Midfield'}"
   ]
  },
  {
   "cell_type": "code",
   "execution_count": 167,
   "metadata": {},
   "outputs": [],
   "source": [
    "import plotly.express as px\n",
    "from plotly.graph_objs import *\n",
    "def plot_wagon(pass_df):\n",
    "\n",
    "    fig1 = px.bar_polar(pass_df, r=\"Frequency\", theta=\"Angle\",color= 'binned_pass_length',    color_discrete_map={\n",
    "                \"medium\": \"rgb(252, 123, 3)\",\n",
    "                \"long\": \"rgb(252, 70, 3)\",\n",
    "                \"very_long\": \"rgb(252, 3, 3)\",\n",
    "                \"short\": \"rgb(252, 177, 3)\",\n",
    "                \"very_short\": \"rgb(252, 219, 3)\"\n",
    "            },\n",
    "                      )\n",
    "    fig1.update_layout(showlegend=False,\n",
    "    template=None,\n",
    "    polar = dict(\n",
    "        radialaxis = dict(color='rgba(0,0,0,0)',gridcolor = 'rgba(0,0,0,0)',linecolor='rgba(0,0,0,0)'),\n",
    "        angularaxis = dict(color='rgba(0,0,0,0)',gridcolor = 'rgba(0,0,0,0)',linecolor='rgba(0,0,0,0)'),\n",
    "        bgcolor='rgba(0,0,0,0)'\n",
    "        ),\n",
    "    paper_bgcolor='rgba(0,0,0,0)',\n",
    "        autosize=False\n",
    "\n",
    "                     )\n",
    "\n",
    "    fig1.show()\n",
    "    fig_dic = fig1.to_dict()\n",
    "    for x in fig_dic['data']:\n",
    "        x['legendgroup'] =\"B\"\n",
    "    return fig_dic\n",
    "    \n"
   ]
  },
  {
   "cell_type": "code",
   "execution_count": null,
   "metadata": {},
   "outputs": [],
   "source": []
  },
  {
   "cell_type": "code",
   "execution_count": 91,
   "metadata": {},
   "outputs": [
    {
     "data": {
      "text/plain": [
       "{'Chul Hong': 'Left Back',\n",
       " 'Heung-Min Son': 'Right Center Forward',\n",
       " 'Hyun-Soo Jang': 'Right Center Midfield',\n",
       " 'Hyun-Woo Cho': 'Goalkeeper',\n",
       " 'Ja-Cheol Koo': 'Left Center Forward',\n",
       " 'Jae-Sung Lee': 'Right Midfield',\n",
       " 'Seon-Min Moon': 'Left Midfield',\n",
       " 'Woo-Young Jung': 'Left Center Midfield',\n",
       " 'Yong Lee': 'Right Back',\n",
       " 'Young-Gwon Kim': 'Left Center Back',\n",
       " 'Young-Sun Yun': 'Right Center Back'}"
      ]
     },
     "execution_count": 91,
     "metadata": {},
     "output_type": "execute_result"
    }
   ],
   "source": [
    "positions"
   ]
  },
  {
   "cell_type": "code",
   "execution_count": 110,
   "metadata": {},
   "outputs": [],
   "source": [
    "def code_position(pos,length):\n",
    "    rows = []\n",
    "    cols = []\n",
    "    if pos == 'Left Back':\n",
    "        row =4\n",
    "        col = 1\n",
    "        rows = [row for x in range(length)]\n",
    "        cols = [col for X in range(length)]\n",
    "            \n",
    " \n",
    "    if pos == 'Right Back':\n",
    "        row = 4\n",
    "        col = 5\n",
    "        rows = [row for x in range(length)]\n",
    "        cols = [col for X in range(length)]\n",
    "    if pos == 'Right Wing' or pos == 'Right Center Forward':\n",
    "        row =2\n",
    "        col = 4\n",
    "        rows = [row for x in range(length)]\n",
    "        cols = [col for X in range(length)]\n",
    "    if pos == 'Goalkeeper':\n",
    "        row =  5\n",
    "        col = 3\n",
    "        rows = [row for x in range(length)]\n",
    "        cols = [col for X in range(length)]\n",
    "    if pos =='Left Wing' or pos == 'Left Center Forward':\n",
    "        row = 2\n",
    "        col = 2\n",
    "        rows = [row for x in range(length)]\n",
    "        cols = [col for X in range(length)]\n",
    "    if pos =='Left Center Back':\n",
    "        row= 4\n",
    "        col = 2\n",
    "        rows = [row for x in range(length)]\n",
    "        cols = [col for X in range(length)]\n",
    "    if pos =='Center Attacking Midfield':\n",
    "        row = 3\n",
    "        col = 3\n",
    "        rows = [row for x in range(length)]\n",
    "        cols = [col for X in range(length)]\n",
    "    if pos =='Right Center Back':\n",
    "        row = 4\n",
    "        col = 4\n",
    "        rows = [row for x in range(length)]\n",
    "        cols = [col for X in range(length)]\n",
    "    if pos == 'Right Center Midfield':\n",
    "        row = 3\n",
    "        col = 4\n",
    "        rows = [row for x in range(length)]\n",
    "        cols = [col for X in range(length)]\n",
    "    if pos == 'Right Midfield':\n",
    "        row = 3\n",
    "        col = 5\n",
    "        rows = [row for x in range(length)]\n",
    "        cols = [col for X in range(length)]\n",
    "    if pos == 'Center Forward':\n",
    "        row = 2\n",
    "        col = 3\n",
    "        rows = [row for x in range(length)]\n",
    "        cols = [col for X in range(length)]        \n",
    "    if pos == 'Left Center Midfield':\n",
    "        row = 3\n",
    "        col = 2\n",
    "        rows = [row for x in range(length)]\n",
    "        cols = [col for X in range(length)]\n",
    "    if pos == 'Left Midfield':\n",
    "        row = 3\n",
    "        col = 1\n",
    "        rows = [row for x in range(length)]\n",
    "        cols = [col for X in range(length)]\n",
    "    return rows,cols"
   ]
  },
  {
   "cell_type": "code",
   "execution_count": 168,
   "metadata": {},
   "outputs": [
    {
     "name": "stdout",
     "output_type": "stream",
     "text": [
      "Hyun-Woo Cho\n"
     ]
    },
    {
     "data": {
      "application/vnd.plotly.v1+json": {
       "config": {
        "plotlyServerURL": "https://plot.ly"
       },
       "data": [
        {
         "hoverlabel": {
          "namelength": 0
         },
         "hovertemplate": "binned_pass_length=No Pass<br>Frequency=%{r}<br>Angle=%{theta}",
         "legendgroup": "binned_pass_length=No Pass",
         "marker": {
          "color": "#19d3f3"
         },
         "name": "binned_pass_length=No Pass",
         "r": [
          0,
          0,
          0,
          0,
          0,
          0,
          0,
          0,
          0,
          0,
          0,
          0,
          0,
          0
         ],
         "showlegend": true,
         "subplot": "polar",
         "theta": [
          -165,
          -150,
          -135,
          -120,
          -105,
          -75,
          -45,
          60,
          90,
          105,
          120,
          135,
          150,
          165
         ],
         "type": "barpolar"
        },
        {
         "hoverlabel": {
          "namelength": 0
         },
         "hovertemplate": "binned_pass_length=medium<br>Frequency=%{r}<br>Angle=%{theta}",
         "legendgroup": "binned_pass_length=medium",
         "marker": {
          "color": "rgb(252, 123, 3)"
         },
         "name": "binned_pass_length=medium",
         "r": [
          1,
          2
         ],
         "showlegend": true,
         "subplot": "polar",
         "theta": [
          -90,
          -60
         ],
         "type": "barpolar"
        },
        {
         "hoverlabel": {
          "namelength": 0
         },
         "hovertemplate": "binned_pass_length=long<br>Frequency=%{r}<br>Angle=%{theta}",
         "legendgroup": "binned_pass_length=long",
         "marker": {
          "color": "rgb(252, 70, 3)"
         },
         "name": "binned_pass_length=long",
         "r": [
          2
         ],
         "showlegend": true,
         "subplot": "polar",
         "theta": [
          -30
         ],
         "type": "barpolar"
        },
        {
         "hoverlabel": {
          "namelength": 0
         },
         "hovertemplate": "binned_pass_length=very_long<br>Frequency=%{r}<br>Angle=%{theta}",
         "legendgroup": "binned_pass_length=very_long",
         "marker": {
          "color": "rgb(252, 3, 3)"
         },
         "name": "binned_pass_length=very_long",
         "r": [
          4,
          4,
          7,
          8,
          2
         ],
         "showlegend": true,
         "subplot": "polar",
         "theta": [
          -15,
          0,
          15,
          30,
          45
         ],
         "type": "barpolar"
        },
        {
         "hoverlabel": {
          "namelength": 0
         },
         "hovertemplate": "binned_pass_length=short<br>Frequency=%{r}<br>Angle=%{theta}",
         "legendgroup": "binned_pass_length=short",
         "marker": {
          "color": "rgb(252, 177, 3)"
         },
         "name": "binned_pass_length=short",
         "r": [
          1
         ],
         "showlegend": true,
         "subplot": "polar",
         "theta": [
          75
         ],
         "type": "barpolar"
        }
       ],
       "layout": {
        "autosize": false,
        "barmode": "relative",
        "height": 600,
        "legend": {
         "tracegroupgap": 0
        },
        "margin": {
         "t": 60
        },
        "paper_bgcolor": "rgba(0,0,0,0)",
        "polar": {
         "angularaxis": {
          "color": "rgba(0,0,0,0)",
          "direction": "clockwise",
          "gridcolor": "rgba(0,0,0,0)",
          "linecolor": "rgba(0,0,0,0)",
          "rotation": 90
         },
         "bgcolor": "rgba(0,0,0,0)",
         "domain": {
          "x": [
           0,
           1
          ],
          "y": [
           0,
           1
          ]
         },
         "radialaxis": {
          "color": "rgba(0,0,0,0)",
          "gridcolor": "rgba(0,0,0,0)",
          "linecolor": "rgba(0,0,0,0)"
         }
        },
        "showlegend": false,
        "template": {}
       }
      },
      "text/html": [
       "<div>\n",
       "        \n",
       "        \n",
       "            <div id=\"90d5b75b-585d-4afe-976a-5f3f9d8317f0\" class=\"plotly-graph-div\" style=\"height:600px; width:100%;\"></div>\n",
       "            <script type=\"text/javascript\">\n",
       "                require([\"plotly\"], function(Plotly) {\n",
       "                    window.PLOTLYENV=window.PLOTLYENV || {};\n",
       "                    \n",
       "                if (document.getElementById(\"90d5b75b-585d-4afe-976a-5f3f9d8317f0\")) {\n",
       "                    Plotly.newPlot(\n",
       "                        '90d5b75b-585d-4afe-976a-5f3f9d8317f0',\n",
       "                        [{\"hoverlabel\": {\"namelength\": 0}, \"hovertemplate\": \"binned_pass_length=No Pass<br>Frequency=%{r}<br>Angle=%{theta}\", \"legendgroup\": \"binned_pass_length=No Pass\", \"marker\": {\"color\": \"#19d3f3\"}, \"name\": \"binned_pass_length=No Pass\", \"r\": [0.0, 0.0, 0.0, 0.0, 0.0, 0.0, 0.0, 0.0, 0.0, 0.0, 0.0, 0.0, 0.0, 0.0], \"showlegend\": true, \"subplot\": \"polar\", \"theta\": [-165.0, -150.0, -135.0, -120.0, -105.0, -75.0, -45.0, 60.0, 90.0, 105.0, 120.0, 135.0, 150.0, 165.0], \"type\": \"barpolar\"}, {\"hoverlabel\": {\"namelength\": 0}, \"hovertemplate\": \"binned_pass_length=medium<br>Frequency=%{r}<br>Angle=%{theta}\", \"legendgroup\": \"binned_pass_length=medium\", \"marker\": {\"color\": \"rgb(252, 123, 3)\"}, \"name\": \"binned_pass_length=medium\", \"r\": [1.0, 2.0], \"showlegend\": true, \"subplot\": \"polar\", \"theta\": [-90.0, -60.0], \"type\": \"barpolar\"}, {\"hoverlabel\": {\"namelength\": 0}, \"hovertemplate\": \"binned_pass_length=long<br>Frequency=%{r}<br>Angle=%{theta}\", \"legendgroup\": \"binned_pass_length=long\", \"marker\": {\"color\": \"rgb(252, 70, 3)\"}, \"name\": \"binned_pass_length=long\", \"r\": [2.0], \"showlegend\": true, \"subplot\": \"polar\", \"theta\": [-30.0], \"type\": \"barpolar\"}, {\"hoverlabel\": {\"namelength\": 0}, \"hovertemplate\": \"binned_pass_length=very_long<br>Frequency=%{r}<br>Angle=%{theta}\", \"legendgroup\": \"binned_pass_length=very_long\", \"marker\": {\"color\": \"rgb(252, 3, 3)\"}, \"name\": \"binned_pass_length=very_long\", \"r\": [4.0, 4.0, 7.0, 8.0, 2.0], \"showlegend\": true, \"subplot\": \"polar\", \"theta\": [-15.0, 0.0, 15.0, 30.0, 45.0], \"type\": \"barpolar\"}, {\"hoverlabel\": {\"namelength\": 0}, \"hovertemplate\": \"binned_pass_length=short<br>Frequency=%{r}<br>Angle=%{theta}\", \"legendgroup\": \"binned_pass_length=short\", \"marker\": {\"color\": \"rgb(252, 177, 3)\"}, \"name\": \"binned_pass_length=short\", \"r\": [1.0], \"showlegend\": true, \"subplot\": \"polar\", \"theta\": [75.0], \"type\": \"barpolar\"}],\n",
       "                        {\"autosize\": false, \"barmode\": \"relative\", \"height\": 600, \"legend\": {\"tracegroupgap\": 0}, \"margin\": {\"t\": 60}, \"paper_bgcolor\": \"rgba(0,0,0,0)\", \"polar\": {\"angularaxis\": {\"color\": \"rgba(0,0,0,0)\", \"direction\": \"clockwise\", \"gridcolor\": \"rgba(0,0,0,0)\", \"linecolor\": \"rgba(0,0,0,0)\", \"rotation\": 90}, \"bgcolor\": \"rgba(0,0,0,0)\", \"domain\": {\"x\": [0.0, 1.0], \"y\": [0.0, 1.0]}, \"radialaxis\": {\"color\": \"rgba(0,0,0,0)\", \"gridcolor\": \"rgba(0,0,0,0)\", \"linecolor\": \"rgba(0,0,0,0)\"}}, \"showlegend\": false, \"template\": {}},\n",
       "                        {\"responsive\": true}\n",
       "                    ).then(function(){\n",
       "                            \n",
       "var gd = document.getElementById('90d5b75b-585d-4afe-976a-5f3f9d8317f0');\n",
       "var x = new MutationObserver(function (mutations, observer) {{\n",
       "        var display = window.getComputedStyle(gd).display;\n",
       "        if (!display || display === 'none') {{\n",
       "            console.log([gd, 'removed!']);\n",
       "            Plotly.purge(gd);\n",
       "            observer.disconnect();\n",
       "        }}\n",
       "}});\n",
       "\n",
       "// Listen for the removal of the full notebook cells\n",
       "var notebookContainer = gd.closest('#notebook-container');\n",
       "if (notebookContainer) {{\n",
       "    x.observe(notebookContainer, {childList: true});\n",
       "}}\n",
       "\n",
       "// Listen for the clearing of the current output cell\n",
       "var outputEl = gd.closest('.output');\n",
       "if (outputEl) {{\n",
       "    x.observe(outputEl, {childList: true});\n",
       "}}\n",
       "\n",
       "                        })\n",
       "                };\n",
       "                });\n",
       "            </script>\n",
       "        </div>"
      ]
     },
     "metadata": {},
     "output_type": "display_data"
    },
    {
     "name": "stdout",
     "output_type": "stream",
     "text": [
      "Yong Lee\n"
     ]
    },
    {
     "data": {
      "application/vnd.plotly.v1+json": {
       "config": {
        "plotlyServerURL": "https://plot.ly"
       },
       "data": [
        {
         "hoverlabel": {
          "namelength": 0
         },
         "hovertemplate": "binned_pass_length=No Pass<br>Frequency=%{r}<br>Angle=%{theta}",
         "legendgroup": "binned_pass_length=No Pass",
         "marker": {
          "color": "#19d3f3"
         },
         "name": "binned_pass_length=No Pass",
         "r": [
          0,
          0,
          0,
          0,
          0,
          0,
          0,
          0,
          0
         ],
         "showlegend": true,
         "subplot": "polar",
         "theta": [
          -165,
          -105,
          45,
          90,
          105,
          120,
          135,
          150,
          165
         ],
         "type": "barpolar"
        },
        {
         "hoverlabel": {
          "namelength": 0
         },
         "hovertemplate": "binned_pass_length=long<br>Frequency=%{r}<br>Angle=%{theta}",
         "legendgroup": "binned_pass_length=long",
         "marker": {
          "color": "rgb(252, 70, 3)"
         },
         "name": "binned_pass_length=long",
         "r": [
          1,
          1,
          3
         ],
         "showlegend": true,
         "subplot": "polar",
         "theta": [
          -150,
          -120,
          15
         ],
         "type": "barpolar"
        },
        {
         "hoverlabel": {
          "namelength": 0
         },
         "hovertemplate": "binned_pass_length=short<br>Frequency=%{r}<br>Angle=%{theta}",
         "legendgroup": "binned_pass_length=short",
         "marker": {
          "color": "rgb(252, 177, 3)"
         },
         "name": "binned_pass_length=short",
         "r": [
          2,
          3,
          3,
          6,
          1
         ],
         "showlegend": true,
         "subplot": "polar",
         "theta": [
          -135,
          -90,
          -75,
          -45,
          60
         ],
         "type": "barpolar"
        },
        {
         "hoverlabel": {
          "namelength": 0
         },
         "hovertemplate": "binned_pass_length=medium<br>Frequency=%{r}<br>Angle=%{theta}",
         "legendgroup": "binned_pass_length=medium",
         "marker": {
          "color": "rgb(252, 123, 3)"
         },
         "name": "binned_pass_length=medium",
         "r": [
          4,
          1,
          4,
          1
         ],
         "showlegend": true,
         "subplot": "polar",
         "theta": [
          -60,
          -30,
          0,
          75
         ],
         "type": "barpolar"
        },
        {
         "hoverlabel": {
          "namelength": 0
         },
         "hovertemplate": "binned_pass_length=very_long<br>Frequency=%{r}<br>Angle=%{theta}",
         "legendgroup": "binned_pass_length=very_long",
         "marker": {
          "color": "rgb(252, 3, 3)"
         },
         "name": "binned_pass_length=very_long",
         "r": [
          2,
          1
         ],
         "showlegend": true,
         "subplot": "polar",
         "theta": [
          -15,
          30
         ],
         "type": "barpolar"
        }
       ],
       "layout": {
        "autosize": false,
        "barmode": "relative",
        "height": 600,
        "legend": {
         "tracegroupgap": 0
        },
        "margin": {
         "t": 60
        },
        "paper_bgcolor": "rgba(0,0,0,0)",
        "polar": {
         "angularaxis": {
          "color": "rgba(0,0,0,0)",
          "direction": "clockwise",
          "gridcolor": "rgba(0,0,0,0)",
          "linecolor": "rgba(0,0,0,0)",
          "rotation": 90
         },
         "bgcolor": "rgba(0,0,0,0)",
         "domain": {
          "x": [
           0,
           1
          ],
          "y": [
           0,
           1
          ]
         },
         "radialaxis": {
          "color": "rgba(0,0,0,0)",
          "gridcolor": "rgba(0,0,0,0)",
          "linecolor": "rgba(0,0,0,0)"
         }
        },
        "showlegend": false,
        "template": {}
       }
      },
      "text/html": [
       "<div>\n",
       "        \n",
       "        \n",
       "            <div id=\"80a06222-fd20-4c09-bde8-6a5bdf36bae5\" class=\"plotly-graph-div\" style=\"height:600px; width:100%;\"></div>\n",
       "            <script type=\"text/javascript\">\n",
       "                require([\"plotly\"], function(Plotly) {\n",
       "                    window.PLOTLYENV=window.PLOTLYENV || {};\n",
       "                    \n",
       "                if (document.getElementById(\"80a06222-fd20-4c09-bde8-6a5bdf36bae5\")) {\n",
       "                    Plotly.newPlot(\n",
       "                        '80a06222-fd20-4c09-bde8-6a5bdf36bae5',\n",
       "                        [{\"hoverlabel\": {\"namelength\": 0}, \"hovertemplate\": \"binned_pass_length=No Pass<br>Frequency=%{r}<br>Angle=%{theta}\", \"legendgroup\": \"binned_pass_length=No Pass\", \"marker\": {\"color\": \"#19d3f3\"}, \"name\": \"binned_pass_length=No Pass\", \"r\": [0.0, 0.0, 0.0, 0.0, 0.0, 0.0, 0.0, 0.0, 0.0], \"showlegend\": true, \"subplot\": \"polar\", \"theta\": [-165.0, -105.0, 45.0, 90.0, 105.0, 120.0, 135.0, 150.0, 165.0], \"type\": \"barpolar\"}, {\"hoverlabel\": {\"namelength\": 0}, \"hovertemplate\": \"binned_pass_length=long<br>Frequency=%{r}<br>Angle=%{theta}\", \"legendgroup\": \"binned_pass_length=long\", \"marker\": {\"color\": \"rgb(252, 70, 3)\"}, \"name\": \"binned_pass_length=long\", \"r\": [1.0, 1.0, 3.0], \"showlegend\": true, \"subplot\": \"polar\", \"theta\": [-150.0, -120.0, 15.0], \"type\": \"barpolar\"}, {\"hoverlabel\": {\"namelength\": 0}, \"hovertemplate\": \"binned_pass_length=short<br>Frequency=%{r}<br>Angle=%{theta}\", \"legendgroup\": \"binned_pass_length=short\", \"marker\": {\"color\": \"rgb(252, 177, 3)\"}, \"name\": \"binned_pass_length=short\", \"r\": [2.0, 3.0, 3.0, 6.0, 1.0], \"showlegend\": true, \"subplot\": \"polar\", \"theta\": [-135.0, -90.0, -75.0, -45.0, 60.0], \"type\": \"barpolar\"}, {\"hoverlabel\": {\"namelength\": 0}, \"hovertemplate\": \"binned_pass_length=medium<br>Frequency=%{r}<br>Angle=%{theta}\", \"legendgroup\": \"binned_pass_length=medium\", \"marker\": {\"color\": \"rgb(252, 123, 3)\"}, \"name\": \"binned_pass_length=medium\", \"r\": [4.0, 1.0, 4.0, 1.0], \"showlegend\": true, \"subplot\": \"polar\", \"theta\": [-60.0, -30.0, 0.0, 75.0], \"type\": \"barpolar\"}, {\"hoverlabel\": {\"namelength\": 0}, \"hovertemplate\": \"binned_pass_length=very_long<br>Frequency=%{r}<br>Angle=%{theta}\", \"legendgroup\": \"binned_pass_length=very_long\", \"marker\": {\"color\": \"rgb(252, 3, 3)\"}, \"name\": \"binned_pass_length=very_long\", \"r\": [2.0, 1.0], \"showlegend\": true, \"subplot\": \"polar\", \"theta\": [-15.0, 30.0], \"type\": \"barpolar\"}],\n",
       "                        {\"autosize\": false, \"barmode\": \"relative\", \"height\": 600, \"legend\": {\"tracegroupgap\": 0}, \"margin\": {\"t\": 60}, \"paper_bgcolor\": \"rgba(0,0,0,0)\", \"polar\": {\"angularaxis\": {\"color\": \"rgba(0,0,0,0)\", \"direction\": \"clockwise\", \"gridcolor\": \"rgba(0,0,0,0)\", \"linecolor\": \"rgba(0,0,0,0)\", \"rotation\": 90}, \"bgcolor\": \"rgba(0,0,0,0)\", \"domain\": {\"x\": [0.0, 1.0], \"y\": [0.0, 1.0]}, \"radialaxis\": {\"color\": \"rgba(0,0,0,0)\", \"gridcolor\": \"rgba(0,0,0,0)\", \"linecolor\": \"rgba(0,0,0,0)\"}}, \"showlegend\": false, \"template\": {}},\n",
       "                        {\"responsive\": true}\n",
       "                    ).then(function(){\n",
       "                            \n",
       "var gd = document.getElementById('80a06222-fd20-4c09-bde8-6a5bdf36bae5');\n",
       "var x = new MutationObserver(function (mutations, observer) {{\n",
       "        var display = window.getComputedStyle(gd).display;\n",
       "        if (!display || display === 'none') {{\n",
       "            console.log([gd, 'removed!']);\n",
       "            Plotly.purge(gd);\n",
       "            observer.disconnect();\n",
       "        }}\n",
       "}});\n",
       "\n",
       "// Listen for the removal of the full notebook cells\n",
       "var notebookContainer = gd.closest('#notebook-container');\n",
       "if (notebookContainer) {{\n",
       "    x.observe(notebookContainer, {childList: true});\n",
       "}}\n",
       "\n",
       "// Listen for the clearing of the current output cell\n",
       "var outputEl = gd.closest('.output');\n",
       "if (outputEl) {{\n",
       "    x.observe(outputEl, {childList: true});\n",
       "}}\n",
       "\n",
       "                        })\n",
       "                };\n",
       "                });\n",
       "            </script>\n",
       "        </div>"
      ]
     },
     "metadata": {},
     "output_type": "display_data"
    },
    {
     "name": "stdout",
     "output_type": "stream",
     "text": [
      "Young-Sun Yun\n"
     ]
    },
    {
     "data": {
      "application/vnd.plotly.v1+json": {
       "config": {
        "plotlyServerURL": "https://plot.ly"
       },
       "data": [
        {
         "hoverlabel": {
          "namelength": 0
         },
         "hovertemplate": "binned_pass_length=No Pass<br>Frequency=%{r}<br>Angle=%{theta}",
         "legendgroup": "binned_pass_length=No Pass",
         "marker": {
          "color": "#19d3f3"
         },
         "name": "binned_pass_length=No Pass",
         "r": [
          0,
          0,
          0,
          0,
          0,
          0,
          0,
          0,
          0,
          0,
          0,
          0,
          0
         ],
         "showlegend": true,
         "subplot": "polar",
         "theta": [
          -165,
          -135,
          -105,
          -75,
          -60,
          -30,
          0,
          15,
          45,
          105,
          120,
          135,
          165
         ],
         "type": "barpolar"
        },
        {
         "hoverlabel": {
          "namelength": 0
         },
         "hovertemplate": "binned_pass_length=short<br>Frequency=%{r}<br>Angle=%{theta}",
         "legendgroup": "binned_pass_length=short",
         "marker": {
          "color": "rgb(252, 177, 3)"
         },
         "name": "binned_pass_length=short",
         "r": [
          1,
          1,
          2
         ],
         "showlegend": true,
         "subplot": "polar",
         "theta": [
          -150,
          -45,
          30
         ],
         "type": "barpolar"
        },
        {
         "hoverlabel": {
          "namelength": 0
         },
         "hovertemplate": "binned_pass_length=long<br>Frequency=%{r}<br>Angle=%{theta}",
         "legendgroup": "binned_pass_length=long",
         "marker": {
          "color": "rgb(252, 70, 3)"
         },
         "name": "binned_pass_length=long",
         "r": [
          1,
          1
         ],
         "showlegend": true,
         "subplot": "polar",
         "theta": [
          -120,
          -90
         ],
         "type": "barpolar"
        },
        {
         "hoverlabel": {
          "namelength": 0
         },
         "hovertemplate": "binned_pass_length=very_short<br>Frequency=%{r}<br>Angle=%{theta}",
         "legendgroup": "binned_pass_length=very_short",
         "marker": {
          "color": "rgb(252, 219, 3)"
         },
         "name": "binned_pass_length=very_short",
         "r": [
          1,
          1
         ],
         "showlegend": true,
         "subplot": "polar",
         "theta": [
          -15,
          75
         ],
         "type": "barpolar"
        },
        {
         "hoverlabel": {
          "namelength": 0
         },
         "hovertemplate": "binned_pass_length=medium<br>Frequency=%{r}<br>Angle=%{theta}",
         "legendgroup": "binned_pass_length=medium",
         "marker": {
          "color": "rgb(252, 123, 3)"
         },
         "name": "binned_pass_length=medium",
         "r": [
          2,
          1,
          1
         ],
         "showlegend": true,
         "subplot": "polar",
         "theta": [
          60,
          90,
          150
         ],
         "type": "barpolar"
        }
       ],
       "layout": {
        "autosize": false,
        "barmode": "relative",
        "height": 600,
        "legend": {
         "tracegroupgap": 0
        },
        "margin": {
         "t": 60
        },
        "paper_bgcolor": "rgba(0,0,0,0)",
        "polar": {
         "angularaxis": {
          "color": "rgba(0,0,0,0)",
          "direction": "clockwise",
          "gridcolor": "rgba(0,0,0,0)",
          "linecolor": "rgba(0,0,0,0)",
          "rotation": 90
         },
         "bgcolor": "rgba(0,0,0,0)",
         "domain": {
          "x": [
           0,
           1
          ],
          "y": [
           0,
           1
          ]
         },
         "radialaxis": {
          "color": "rgba(0,0,0,0)",
          "gridcolor": "rgba(0,0,0,0)",
          "linecolor": "rgba(0,0,0,0)"
         }
        },
        "showlegend": false,
        "template": {}
       }
      },
      "text/html": [
       "<div>\n",
       "        \n",
       "        \n",
       "            <div id=\"00b34cee-7200-44ad-946a-82ca1155e54c\" class=\"plotly-graph-div\" style=\"height:600px; width:100%;\"></div>\n",
       "            <script type=\"text/javascript\">\n",
       "                require([\"plotly\"], function(Plotly) {\n",
       "                    window.PLOTLYENV=window.PLOTLYENV || {};\n",
       "                    \n",
       "                if (document.getElementById(\"00b34cee-7200-44ad-946a-82ca1155e54c\")) {\n",
       "                    Plotly.newPlot(\n",
       "                        '00b34cee-7200-44ad-946a-82ca1155e54c',\n",
       "                        [{\"hoverlabel\": {\"namelength\": 0}, \"hovertemplate\": \"binned_pass_length=No Pass<br>Frequency=%{r}<br>Angle=%{theta}\", \"legendgroup\": \"binned_pass_length=No Pass\", \"marker\": {\"color\": \"#19d3f3\"}, \"name\": \"binned_pass_length=No Pass\", \"r\": [0.0, 0.0, 0.0, 0.0, 0.0, 0.0, 0.0, 0.0, 0.0, 0.0, 0.0, 0.0, 0.0], \"showlegend\": true, \"subplot\": \"polar\", \"theta\": [-165.0, -135.0, -105.0, -75.0, -60.0, -30.0, 0.0, 15.0, 45.0, 105.0, 120.0, 135.0, 165.0], \"type\": \"barpolar\"}, {\"hoverlabel\": {\"namelength\": 0}, \"hovertemplate\": \"binned_pass_length=short<br>Frequency=%{r}<br>Angle=%{theta}\", \"legendgroup\": \"binned_pass_length=short\", \"marker\": {\"color\": \"rgb(252, 177, 3)\"}, \"name\": \"binned_pass_length=short\", \"r\": [1.0, 1.0, 2.0], \"showlegend\": true, \"subplot\": \"polar\", \"theta\": [-150.0, -45.0, 30.0], \"type\": \"barpolar\"}, {\"hoverlabel\": {\"namelength\": 0}, \"hovertemplate\": \"binned_pass_length=long<br>Frequency=%{r}<br>Angle=%{theta}\", \"legendgroup\": \"binned_pass_length=long\", \"marker\": {\"color\": \"rgb(252, 70, 3)\"}, \"name\": \"binned_pass_length=long\", \"r\": [1.0, 1.0], \"showlegend\": true, \"subplot\": \"polar\", \"theta\": [-120.0, -90.0], \"type\": \"barpolar\"}, {\"hoverlabel\": {\"namelength\": 0}, \"hovertemplate\": \"binned_pass_length=very_short<br>Frequency=%{r}<br>Angle=%{theta}\", \"legendgroup\": \"binned_pass_length=very_short\", \"marker\": {\"color\": \"rgb(252, 219, 3)\"}, \"name\": \"binned_pass_length=very_short\", \"r\": [1.0, 1.0], \"showlegend\": true, \"subplot\": \"polar\", \"theta\": [-15.0, 75.0], \"type\": \"barpolar\"}, {\"hoverlabel\": {\"namelength\": 0}, \"hovertemplate\": \"binned_pass_length=medium<br>Frequency=%{r}<br>Angle=%{theta}\", \"legendgroup\": \"binned_pass_length=medium\", \"marker\": {\"color\": \"rgb(252, 123, 3)\"}, \"name\": \"binned_pass_length=medium\", \"r\": [2.0, 1.0, 1.0], \"showlegend\": true, \"subplot\": \"polar\", \"theta\": [60.0, 90.0, 150.0], \"type\": \"barpolar\"}],\n",
       "                        {\"autosize\": false, \"barmode\": \"relative\", \"height\": 600, \"legend\": {\"tracegroupgap\": 0}, \"margin\": {\"t\": 60}, \"paper_bgcolor\": \"rgba(0,0,0,0)\", \"polar\": {\"angularaxis\": {\"color\": \"rgba(0,0,0,0)\", \"direction\": \"clockwise\", \"gridcolor\": \"rgba(0,0,0,0)\", \"linecolor\": \"rgba(0,0,0,0)\", \"rotation\": 90}, \"bgcolor\": \"rgba(0,0,0,0)\", \"domain\": {\"x\": [0.0, 1.0], \"y\": [0.0, 1.0]}, \"radialaxis\": {\"color\": \"rgba(0,0,0,0)\", \"gridcolor\": \"rgba(0,0,0,0)\", \"linecolor\": \"rgba(0,0,0,0)\"}}, \"showlegend\": false, \"template\": {}},\n",
       "                        {\"responsive\": true}\n",
       "                    ).then(function(){\n",
       "                            \n",
       "var gd = document.getElementById('00b34cee-7200-44ad-946a-82ca1155e54c');\n",
       "var x = new MutationObserver(function (mutations, observer) {{\n",
       "        var display = window.getComputedStyle(gd).display;\n",
       "        if (!display || display === 'none') {{\n",
       "            console.log([gd, 'removed!']);\n",
       "            Plotly.purge(gd);\n",
       "            observer.disconnect();\n",
       "        }}\n",
       "}});\n",
       "\n",
       "// Listen for the removal of the full notebook cells\n",
       "var notebookContainer = gd.closest('#notebook-container');\n",
       "if (notebookContainer) {{\n",
       "    x.observe(notebookContainer, {childList: true});\n",
       "}}\n",
       "\n",
       "// Listen for the clearing of the current output cell\n",
       "var outputEl = gd.closest('.output');\n",
       "if (outputEl) {{\n",
       "    x.observe(outputEl, {childList: true});\n",
       "}}\n",
       "\n",
       "                        })\n",
       "                };\n",
       "                });\n",
       "            </script>\n",
       "        </div>"
      ]
     },
     "metadata": {},
     "output_type": "display_data"
    },
    {
     "name": "stdout",
     "output_type": "stream",
     "text": [
      "Young-Gwon Kim\n"
     ]
    },
    {
     "data": {
      "application/vnd.plotly.v1+json": {
       "config": {
        "plotlyServerURL": "https://plot.ly"
       },
       "data": [
        {
         "hoverlabel": {
          "namelength": 0
         },
         "hovertemplate": "binned_pass_length=No Pass<br>Frequency=%{r}<br>Angle=%{theta}",
         "legendgroup": "binned_pass_length=No Pass",
         "marker": {
          "color": "#19d3f3"
         },
         "name": "binned_pass_length=No Pass",
         "r": [
          0,
          0,
          0,
          0,
          0,
          0,
          0,
          0,
          0,
          0,
          0,
          0,
          0,
          0,
          0
         ],
         "showlegend": true,
         "subplot": "polar",
         "theta": [
          -165,
          -150,
          -135,
          -120,
          -105,
          -90,
          -75,
          -45,
          -30,
          30,
          75,
          105,
          120,
          135,
          165
         ],
         "type": "barpolar"
        },
        {
         "hoverlabel": {
          "namelength": 0
         },
         "hovertemplate": "binned_pass_length=medium<br>Frequency=%{r}<br>Angle=%{theta}",
         "legendgroup": "binned_pass_length=medium",
         "marker": {
          "color": "rgb(252, 123, 3)"
         },
         "name": "binned_pass_length=medium",
         "r": [
          3,
          2,
          3,
          1
         ],
         "showlegend": true,
         "subplot": "polar",
         "theta": [
          -60,
          -15,
          90,
          150
         ],
         "type": "barpolar"
        },
        {
         "hoverlabel": {
          "namelength": 0
         },
         "hovertemplate": "binned_pass_length=long<br>Frequency=%{r}<br>Angle=%{theta}",
         "legendgroup": "binned_pass_length=long",
         "marker": {
          "color": "rgb(252, 70, 3)"
         },
         "name": "binned_pass_length=long",
         "r": [
          3
         ],
         "showlegend": true,
         "subplot": "polar",
         "theta": [
          0
         ],
         "type": "barpolar"
        },
        {
         "hoverlabel": {
          "namelength": 0
         },
         "hovertemplate": "binned_pass_length=very_long<br>Frequency=%{r}<br>Angle=%{theta}",
         "legendgroup": "binned_pass_length=very_long",
         "marker": {
          "color": "rgb(252, 3, 3)"
         },
         "name": "binned_pass_length=very_long",
         "r": [
          1,
          2
         ],
         "showlegend": true,
         "subplot": "polar",
         "theta": [
          15,
          60
         ],
         "type": "barpolar"
        },
        {
         "hoverlabel": {
          "namelength": 0
         },
         "hovertemplate": "binned_pass_length=short<br>Frequency=%{r}<br>Angle=%{theta}",
         "legendgroup": "binned_pass_length=short",
         "marker": {
          "color": "rgb(252, 177, 3)"
         },
         "name": "binned_pass_length=short",
         "r": [
          3
         ],
         "showlegend": true,
         "subplot": "polar",
         "theta": [
          45
         ],
         "type": "barpolar"
        }
       ],
       "layout": {
        "autosize": false,
        "barmode": "relative",
        "height": 600,
        "legend": {
         "tracegroupgap": 0
        },
        "margin": {
         "t": 60
        },
        "paper_bgcolor": "rgba(0,0,0,0)",
        "polar": {
         "angularaxis": {
          "color": "rgba(0,0,0,0)",
          "direction": "clockwise",
          "gridcolor": "rgba(0,0,0,0)",
          "linecolor": "rgba(0,0,0,0)",
          "rotation": 90
         },
         "bgcolor": "rgba(0,0,0,0)",
         "domain": {
          "x": [
           0,
           1
          ],
          "y": [
           0,
           1
          ]
         },
         "radialaxis": {
          "color": "rgba(0,0,0,0)",
          "gridcolor": "rgba(0,0,0,0)",
          "linecolor": "rgba(0,0,0,0)"
         }
        },
        "showlegend": false,
        "template": {}
       }
      },
      "text/html": [
       "<div>\n",
       "        \n",
       "        \n",
       "            <div id=\"ba2fc3f8-fc41-4113-8dda-65ebcc08eb14\" class=\"plotly-graph-div\" style=\"height:600px; width:100%;\"></div>\n",
       "            <script type=\"text/javascript\">\n",
       "                require([\"plotly\"], function(Plotly) {\n",
       "                    window.PLOTLYENV=window.PLOTLYENV || {};\n",
       "                    \n",
       "                if (document.getElementById(\"ba2fc3f8-fc41-4113-8dda-65ebcc08eb14\")) {\n",
       "                    Plotly.newPlot(\n",
       "                        'ba2fc3f8-fc41-4113-8dda-65ebcc08eb14',\n",
       "                        [{\"hoverlabel\": {\"namelength\": 0}, \"hovertemplate\": \"binned_pass_length=No Pass<br>Frequency=%{r}<br>Angle=%{theta}\", \"legendgroup\": \"binned_pass_length=No Pass\", \"marker\": {\"color\": \"#19d3f3\"}, \"name\": \"binned_pass_length=No Pass\", \"r\": [0.0, 0.0, 0.0, 0.0, 0.0, 0.0, 0.0, 0.0, 0.0, 0.0, 0.0, 0.0, 0.0, 0.0, 0.0], \"showlegend\": true, \"subplot\": \"polar\", \"theta\": [-165.0, -150.0, -135.0, -120.0, -105.0, -90.0, -75.0, -45.0, -30.0, 30.0, 75.0, 105.0, 120.0, 135.0, 165.0], \"type\": \"barpolar\"}, {\"hoverlabel\": {\"namelength\": 0}, \"hovertemplate\": \"binned_pass_length=medium<br>Frequency=%{r}<br>Angle=%{theta}\", \"legendgroup\": \"binned_pass_length=medium\", \"marker\": {\"color\": \"rgb(252, 123, 3)\"}, \"name\": \"binned_pass_length=medium\", \"r\": [3.0, 2.0, 3.0, 1.0], \"showlegend\": true, \"subplot\": \"polar\", \"theta\": [-60.0, -15.0, 90.0, 150.0], \"type\": \"barpolar\"}, {\"hoverlabel\": {\"namelength\": 0}, \"hovertemplate\": \"binned_pass_length=long<br>Frequency=%{r}<br>Angle=%{theta}\", \"legendgroup\": \"binned_pass_length=long\", \"marker\": {\"color\": \"rgb(252, 70, 3)\"}, \"name\": \"binned_pass_length=long\", \"r\": [3.0], \"showlegend\": true, \"subplot\": \"polar\", \"theta\": [0.0], \"type\": \"barpolar\"}, {\"hoverlabel\": {\"namelength\": 0}, \"hovertemplate\": \"binned_pass_length=very_long<br>Frequency=%{r}<br>Angle=%{theta}\", \"legendgroup\": \"binned_pass_length=very_long\", \"marker\": {\"color\": \"rgb(252, 3, 3)\"}, \"name\": \"binned_pass_length=very_long\", \"r\": [1.0, 2.0], \"showlegend\": true, \"subplot\": \"polar\", \"theta\": [15.0, 60.0], \"type\": \"barpolar\"}, {\"hoverlabel\": {\"namelength\": 0}, \"hovertemplate\": \"binned_pass_length=short<br>Frequency=%{r}<br>Angle=%{theta}\", \"legendgroup\": \"binned_pass_length=short\", \"marker\": {\"color\": \"rgb(252, 177, 3)\"}, \"name\": \"binned_pass_length=short\", \"r\": [3.0], \"showlegend\": true, \"subplot\": \"polar\", \"theta\": [45.0], \"type\": \"barpolar\"}],\n",
       "                        {\"autosize\": false, \"barmode\": \"relative\", \"height\": 600, \"legend\": {\"tracegroupgap\": 0}, \"margin\": {\"t\": 60}, \"paper_bgcolor\": \"rgba(0,0,0,0)\", \"polar\": {\"angularaxis\": {\"color\": \"rgba(0,0,0,0)\", \"direction\": \"clockwise\", \"gridcolor\": \"rgba(0,0,0,0)\", \"linecolor\": \"rgba(0,0,0,0)\", \"rotation\": 90}, \"bgcolor\": \"rgba(0,0,0,0)\", \"domain\": {\"x\": [0.0, 1.0], \"y\": [0.0, 1.0]}, \"radialaxis\": {\"color\": \"rgba(0,0,0,0)\", \"gridcolor\": \"rgba(0,0,0,0)\", \"linecolor\": \"rgba(0,0,0,0)\"}}, \"showlegend\": false, \"template\": {}},\n",
       "                        {\"responsive\": true}\n",
       "                    ).then(function(){\n",
       "                            \n",
       "var gd = document.getElementById('ba2fc3f8-fc41-4113-8dda-65ebcc08eb14');\n",
       "var x = new MutationObserver(function (mutations, observer) {{\n",
       "        var display = window.getComputedStyle(gd).display;\n",
       "        if (!display || display === 'none') {{\n",
       "            console.log([gd, 'removed!']);\n",
       "            Plotly.purge(gd);\n",
       "            observer.disconnect();\n",
       "        }}\n",
       "}});\n",
       "\n",
       "// Listen for the removal of the full notebook cells\n",
       "var notebookContainer = gd.closest('#notebook-container');\n",
       "if (notebookContainer) {{\n",
       "    x.observe(notebookContainer, {childList: true});\n",
       "}}\n",
       "\n",
       "// Listen for the clearing of the current output cell\n",
       "var outputEl = gd.closest('.output');\n",
       "if (outputEl) {{\n",
       "    x.observe(outputEl, {childList: true});\n",
       "}}\n",
       "\n",
       "                        })\n",
       "                };\n",
       "                });\n",
       "            </script>\n",
       "        </div>"
      ]
     },
     "metadata": {},
     "output_type": "display_data"
    },
    {
     "name": "stdout",
     "output_type": "stream",
     "text": [
      "Chul Hong\n"
     ]
    },
    {
     "data": {
      "application/vnd.plotly.v1+json": {
       "config": {
        "plotlyServerURL": "https://plot.ly"
       },
       "data": [
        {
         "hoverlabel": {
          "namelength": 0
         },
         "hovertemplate": "binned_pass_length=No Pass<br>Frequency=%{r}<br>Angle=%{theta}",
         "legendgroup": "binned_pass_length=No Pass",
         "marker": {
          "color": "#19d3f3"
         },
         "name": "binned_pass_length=No Pass",
         "r": [
          0,
          0,
          0,
          0,
          0,
          0,
          0,
          0,
          0
         ],
         "showlegend": true,
         "subplot": "polar",
         "theta": [
          -165,
          -150,
          -135,
          -120,
          -105,
          -90,
          -75,
          -30,
          165
         ],
         "type": "barpolar"
        },
        {
         "hoverlabel": {
          "namelength": 0
         },
         "hovertemplate": "binned_pass_length=very_short<br>Frequency=%{r}<br>Angle=%{theta}",
         "legendgroup": "binned_pass_length=very_short",
         "marker": {
          "color": "rgb(252, 219, 3)"
         },
         "name": "binned_pass_length=very_short",
         "r": [
          1
         ],
         "showlegend": true,
         "subplot": "polar",
         "theta": [
          -60
         ],
         "type": "barpolar"
        },
        {
         "hoverlabel": {
          "namelength": 0
         },
         "hovertemplate": "binned_pass_length=medium<br>Frequency=%{r}<br>Angle=%{theta}",
         "legendgroup": "binned_pass_length=medium",
         "marker": {
          "color": "rgb(252, 123, 3)"
         },
         "name": "binned_pass_length=medium",
         "r": [
          1,
          3,
          4,
          2,
          1,
          1,
          1
         ],
         "showlegend": true,
         "subplot": "polar",
         "theta": [
          -45,
          30,
          45,
          90,
          105,
          120,
          150
         ],
         "type": "barpolar"
        },
        {
         "hoverlabel": {
          "namelength": 0
         },
         "hovertemplate": "binned_pass_length=long<br>Frequency=%{r}<br>Angle=%{theta}",
         "legendgroup": "binned_pass_length=long",
         "marker": {
          "color": "rgb(252, 70, 3)"
         },
         "name": "binned_pass_length=long",
         "r": [
          2,
          3,
          3,
          1
         ],
         "showlegend": true,
         "subplot": "polar",
         "theta": [
          -15,
          15,
          60,
          135
         ],
         "type": "barpolar"
        },
        {
         "hoverlabel": {
          "namelength": 0
         },
         "hovertemplate": "binned_pass_length=very_long<br>Frequency=%{r}<br>Angle=%{theta}",
         "legendgroup": "binned_pass_length=very_long",
         "marker": {
          "color": "rgb(252, 3, 3)"
         },
         "name": "binned_pass_length=very_long",
         "r": [
          4
         ],
         "showlegend": true,
         "subplot": "polar",
         "theta": [
          0
         ],
         "type": "barpolar"
        },
        {
         "hoverlabel": {
          "namelength": 0
         },
         "hovertemplate": "binned_pass_length=short<br>Frequency=%{r}<br>Angle=%{theta}",
         "legendgroup": "binned_pass_length=short",
         "marker": {
          "color": "rgb(252, 177, 3)"
         },
         "name": "binned_pass_length=short",
         "r": [
          3
         ],
         "showlegend": true,
         "subplot": "polar",
         "theta": [
          75
         ],
         "type": "barpolar"
        }
       ],
       "layout": {
        "autosize": false,
        "barmode": "relative",
        "height": 600,
        "legend": {
         "tracegroupgap": 0
        },
        "margin": {
         "t": 60
        },
        "paper_bgcolor": "rgba(0,0,0,0)",
        "polar": {
         "angularaxis": {
          "color": "rgba(0,0,0,0)",
          "direction": "clockwise",
          "gridcolor": "rgba(0,0,0,0)",
          "linecolor": "rgba(0,0,0,0)",
          "rotation": 90
         },
         "bgcolor": "rgba(0,0,0,0)",
         "domain": {
          "x": [
           0,
           1
          ],
          "y": [
           0,
           1
          ]
         },
         "radialaxis": {
          "color": "rgba(0,0,0,0)",
          "gridcolor": "rgba(0,0,0,0)",
          "linecolor": "rgba(0,0,0,0)"
         }
        },
        "showlegend": false,
        "template": {}
       }
      },
      "text/html": [
       "<div>\n",
       "        \n",
       "        \n",
       "            <div id=\"d00ac02c-59c9-4666-ac71-87211af38b6c\" class=\"plotly-graph-div\" style=\"height:600px; width:100%;\"></div>\n",
       "            <script type=\"text/javascript\">\n",
       "                require([\"plotly\"], function(Plotly) {\n",
       "                    window.PLOTLYENV=window.PLOTLYENV || {};\n",
       "                    \n",
       "                if (document.getElementById(\"d00ac02c-59c9-4666-ac71-87211af38b6c\")) {\n",
       "                    Plotly.newPlot(\n",
       "                        'd00ac02c-59c9-4666-ac71-87211af38b6c',\n",
       "                        [{\"hoverlabel\": {\"namelength\": 0}, \"hovertemplate\": \"binned_pass_length=No Pass<br>Frequency=%{r}<br>Angle=%{theta}\", \"legendgroup\": \"binned_pass_length=No Pass\", \"marker\": {\"color\": \"#19d3f3\"}, \"name\": \"binned_pass_length=No Pass\", \"r\": [0.0, 0.0, 0.0, 0.0, 0.0, 0.0, 0.0, 0.0, 0.0], \"showlegend\": true, \"subplot\": \"polar\", \"theta\": [-165.0, -150.0, -135.0, -120.0, -105.0, -90.0, -75.0, -30.0, 165.0], \"type\": \"barpolar\"}, {\"hoverlabel\": {\"namelength\": 0}, \"hovertemplate\": \"binned_pass_length=very_short<br>Frequency=%{r}<br>Angle=%{theta}\", \"legendgroup\": \"binned_pass_length=very_short\", \"marker\": {\"color\": \"rgb(252, 219, 3)\"}, \"name\": \"binned_pass_length=very_short\", \"r\": [1.0], \"showlegend\": true, \"subplot\": \"polar\", \"theta\": [-60.0], \"type\": \"barpolar\"}, {\"hoverlabel\": {\"namelength\": 0}, \"hovertemplate\": \"binned_pass_length=medium<br>Frequency=%{r}<br>Angle=%{theta}\", \"legendgroup\": \"binned_pass_length=medium\", \"marker\": {\"color\": \"rgb(252, 123, 3)\"}, \"name\": \"binned_pass_length=medium\", \"r\": [1.0, 3.0, 4.0, 2.0, 1.0, 1.0, 1.0], \"showlegend\": true, \"subplot\": \"polar\", \"theta\": [-45.0, 30.0, 45.0, 90.0, 105.0, 120.0, 150.0], \"type\": \"barpolar\"}, {\"hoverlabel\": {\"namelength\": 0}, \"hovertemplate\": \"binned_pass_length=long<br>Frequency=%{r}<br>Angle=%{theta}\", \"legendgroup\": \"binned_pass_length=long\", \"marker\": {\"color\": \"rgb(252, 70, 3)\"}, \"name\": \"binned_pass_length=long\", \"r\": [2.0, 3.0, 3.0, 1.0], \"showlegend\": true, \"subplot\": \"polar\", \"theta\": [-15.0, 15.0, 60.0, 135.0], \"type\": \"barpolar\"}, {\"hoverlabel\": {\"namelength\": 0}, \"hovertemplate\": \"binned_pass_length=very_long<br>Frequency=%{r}<br>Angle=%{theta}\", \"legendgroup\": \"binned_pass_length=very_long\", \"marker\": {\"color\": \"rgb(252, 3, 3)\"}, \"name\": \"binned_pass_length=very_long\", \"r\": [4.0], \"showlegend\": true, \"subplot\": \"polar\", \"theta\": [0.0], \"type\": \"barpolar\"}, {\"hoverlabel\": {\"namelength\": 0}, \"hovertemplate\": \"binned_pass_length=short<br>Frequency=%{r}<br>Angle=%{theta}\", \"legendgroup\": \"binned_pass_length=short\", \"marker\": {\"color\": \"rgb(252, 177, 3)\"}, \"name\": \"binned_pass_length=short\", \"r\": [3.0], \"showlegend\": true, \"subplot\": \"polar\", \"theta\": [75.0], \"type\": \"barpolar\"}],\n",
       "                        {\"autosize\": false, \"barmode\": \"relative\", \"height\": 600, \"legend\": {\"tracegroupgap\": 0}, \"margin\": {\"t\": 60}, \"paper_bgcolor\": \"rgba(0,0,0,0)\", \"polar\": {\"angularaxis\": {\"color\": \"rgba(0,0,0,0)\", \"direction\": \"clockwise\", \"gridcolor\": \"rgba(0,0,0,0)\", \"linecolor\": \"rgba(0,0,0,0)\", \"rotation\": 90}, \"bgcolor\": \"rgba(0,0,0,0)\", \"domain\": {\"x\": [0.0, 1.0], \"y\": [0.0, 1.0]}, \"radialaxis\": {\"color\": \"rgba(0,0,0,0)\", \"gridcolor\": \"rgba(0,0,0,0)\", \"linecolor\": \"rgba(0,0,0,0)\"}}, \"showlegend\": false, \"template\": {}},\n",
       "                        {\"responsive\": true}\n",
       "                    ).then(function(){\n",
       "                            \n",
       "var gd = document.getElementById('d00ac02c-59c9-4666-ac71-87211af38b6c');\n",
       "var x = new MutationObserver(function (mutations, observer) {{\n",
       "        var display = window.getComputedStyle(gd).display;\n",
       "        if (!display || display === 'none') {{\n",
       "            console.log([gd, 'removed!']);\n",
       "            Plotly.purge(gd);\n",
       "            observer.disconnect();\n",
       "        }}\n",
       "}});\n",
       "\n",
       "// Listen for the removal of the full notebook cells\n",
       "var notebookContainer = gd.closest('#notebook-container');\n",
       "if (notebookContainer) {{\n",
       "    x.observe(notebookContainer, {childList: true});\n",
       "}}\n",
       "\n",
       "// Listen for the clearing of the current output cell\n",
       "var outputEl = gd.closest('.output');\n",
       "if (outputEl) {{\n",
       "    x.observe(outputEl, {childList: true});\n",
       "}}\n",
       "\n",
       "                        })\n",
       "                };\n",
       "                });\n",
       "            </script>\n",
       "        </div>"
      ]
     },
     "metadata": {},
     "output_type": "display_data"
    },
    {
     "name": "stdout",
     "output_type": "stream",
     "text": [
      "Jae-Sung Lee\n"
     ]
    },
    {
     "data": {
      "application/vnd.plotly.v1+json": {
       "config": {
        "plotlyServerURL": "https://plot.ly"
       },
       "data": [
        {
         "hoverlabel": {
          "namelength": 0
         },
         "hovertemplate": "binned_pass_length=No Pass<br>Frequency=%{r}<br>Angle=%{theta}",
         "legendgroup": "binned_pass_length=No Pass",
         "marker": {
          "color": "#19d3f3"
         },
         "name": "binned_pass_length=No Pass",
         "r": [
          0,
          0,
          0,
          0
         ],
         "showlegend": true,
         "subplot": "polar",
         "theta": [
          -165,
          -135,
          -120,
          75
         ],
         "type": "barpolar"
        },
        {
         "hoverlabel": {
          "namelength": 0
         },
         "hovertemplate": "binned_pass_length=very_short<br>Frequency=%{r}<br>Angle=%{theta}",
         "legendgroup": "binned_pass_length=very_short",
         "marker": {
          "color": "rgb(252, 219, 3)"
         },
         "name": "binned_pass_length=very_short",
         "r": [
          1
         ],
         "showlegend": true,
         "subplot": "polar",
         "theta": [
          -150
         ],
         "type": "barpolar"
        },
        {
         "hoverlabel": {
          "namelength": 0
         },
         "hovertemplate": "binned_pass_length=short<br>Frequency=%{r}<br>Angle=%{theta}",
         "legendgroup": "binned_pass_length=short",
         "marker": {
          "color": "rgb(252, 177, 3)"
         },
         "name": "binned_pass_length=short",
         "r": [
          1,
          5,
          2,
          2,
          1,
          1,
          1,
          2,
          1,
          2,
          2
         ],
         "showlegend": true,
         "subplot": "polar",
         "theta": [
          -105,
          -60,
          -15,
          0,
          30,
          60,
          105,
          120,
          135,
          150,
          165
         ],
         "type": "barpolar"
        },
        {
         "hoverlabel": {
          "namelength": 0
         },
         "hovertemplate": "binned_pass_length=medium<br>Frequency=%{r}<br>Angle=%{theta}",
         "legendgroup": "binned_pass_length=medium",
         "marker": {
          "color": "rgb(252, 123, 3)"
         },
         "name": "binned_pass_length=medium",
         "r": [
          2,
          2,
          2,
          2,
          1,
          1
         ],
         "showlegend": true,
         "subplot": "polar",
         "theta": [
          -90,
          -75,
          -45,
          15,
          45,
          90
         ],
         "type": "barpolar"
        },
        {
         "hoverlabel": {
          "namelength": 0
         },
         "hovertemplate": "binned_pass_length=long<br>Frequency=%{r}<br>Angle=%{theta}",
         "legendgroup": "binned_pass_length=long",
         "marker": {
          "color": "rgb(252, 70, 3)"
         },
         "name": "binned_pass_length=long",
         "r": [
          3
         ],
         "showlegend": true,
         "subplot": "polar",
         "theta": [
          -30
         ],
         "type": "barpolar"
        }
       ],
       "layout": {
        "autosize": false,
        "barmode": "relative",
        "height": 600,
        "legend": {
         "tracegroupgap": 0
        },
        "margin": {
         "t": 60
        },
        "paper_bgcolor": "rgba(0,0,0,0)",
        "polar": {
         "angularaxis": {
          "color": "rgba(0,0,0,0)",
          "direction": "clockwise",
          "gridcolor": "rgba(0,0,0,0)",
          "linecolor": "rgba(0,0,0,0)",
          "rotation": 90
         },
         "bgcolor": "rgba(0,0,0,0)",
         "domain": {
          "x": [
           0,
           1
          ],
          "y": [
           0,
           1
          ]
         },
         "radialaxis": {
          "color": "rgba(0,0,0,0)",
          "gridcolor": "rgba(0,0,0,0)",
          "linecolor": "rgba(0,0,0,0)"
         }
        },
        "showlegend": false,
        "template": {}
       }
      },
      "text/html": [
       "<div>\n",
       "        \n",
       "        \n",
       "            <div id=\"cd99ca72-80cd-46d3-9894-64c7c8aeac9b\" class=\"plotly-graph-div\" style=\"height:600px; width:100%;\"></div>\n",
       "            <script type=\"text/javascript\">\n",
       "                require([\"plotly\"], function(Plotly) {\n",
       "                    window.PLOTLYENV=window.PLOTLYENV || {};\n",
       "                    \n",
       "                if (document.getElementById(\"cd99ca72-80cd-46d3-9894-64c7c8aeac9b\")) {\n",
       "                    Plotly.newPlot(\n",
       "                        'cd99ca72-80cd-46d3-9894-64c7c8aeac9b',\n",
       "                        [{\"hoverlabel\": {\"namelength\": 0}, \"hovertemplate\": \"binned_pass_length=No Pass<br>Frequency=%{r}<br>Angle=%{theta}\", \"legendgroup\": \"binned_pass_length=No Pass\", \"marker\": {\"color\": \"#19d3f3\"}, \"name\": \"binned_pass_length=No Pass\", \"r\": [0.0, 0.0, 0.0, 0.0], \"showlegend\": true, \"subplot\": \"polar\", \"theta\": [-165.0, -135.0, -120.0, 75.0], \"type\": \"barpolar\"}, {\"hoverlabel\": {\"namelength\": 0}, \"hovertemplate\": \"binned_pass_length=very_short<br>Frequency=%{r}<br>Angle=%{theta}\", \"legendgroup\": \"binned_pass_length=very_short\", \"marker\": {\"color\": \"rgb(252, 219, 3)\"}, \"name\": \"binned_pass_length=very_short\", \"r\": [1.0], \"showlegend\": true, \"subplot\": \"polar\", \"theta\": [-150.0], \"type\": \"barpolar\"}, {\"hoverlabel\": {\"namelength\": 0}, \"hovertemplate\": \"binned_pass_length=short<br>Frequency=%{r}<br>Angle=%{theta}\", \"legendgroup\": \"binned_pass_length=short\", \"marker\": {\"color\": \"rgb(252, 177, 3)\"}, \"name\": \"binned_pass_length=short\", \"r\": [1.0, 5.0, 2.0, 2.0, 1.0, 1.0, 1.0, 2.0, 1.0, 2.0, 2.0], \"showlegend\": true, \"subplot\": \"polar\", \"theta\": [-105.0, -60.0, -15.0, 0.0, 30.0, 60.0, 105.0, 120.0, 135.0, 150.0, 165.0], \"type\": \"barpolar\"}, {\"hoverlabel\": {\"namelength\": 0}, \"hovertemplate\": \"binned_pass_length=medium<br>Frequency=%{r}<br>Angle=%{theta}\", \"legendgroup\": \"binned_pass_length=medium\", \"marker\": {\"color\": \"rgb(252, 123, 3)\"}, \"name\": \"binned_pass_length=medium\", \"r\": [2.0, 2.0, 2.0, 2.0, 1.0, 1.0], \"showlegend\": true, \"subplot\": \"polar\", \"theta\": [-90.0, -75.0, -45.0, 15.0, 45.0, 90.0], \"type\": \"barpolar\"}, {\"hoverlabel\": {\"namelength\": 0}, \"hovertemplate\": \"binned_pass_length=long<br>Frequency=%{r}<br>Angle=%{theta}\", \"legendgroup\": \"binned_pass_length=long\", \"marker\": {\"color\": \"rgb(252, 70, 3)\"}, \"name\": \"binned_pass_length=long\", \"r\": [3.0], \"showlegend\": true, \"subplot\": \"polar\", \"theta\": [-30.0], \"type\": \"barpolar\"}],\n",
       "                        {\"autosize\": false, \"barmode\": \"relative\", \"height\": 600, \"legend\": {\"tracegroupgap\": 0}, \"margin\": {\"t\": 60}, \"paper_bgcolor\": \"rgba(0,0,0,0)\", \"polar\": {\"angularaxis\": {\"color\": \"rgba(0,0,0,0)\", \"direction\": \"clockwise\", \"gridcolor\": \"rgba(0,0,0,0)\", \"linecolor\": \"rgba(0,0,0,0)\", \"rotation\": 90}, \"bgcolor\": \"rgba(0,0,0,0)\", \"domain\": {\"x\": [0.0, 1.0], \"y\": [0.0, 1.0]}, \"radialaxis\": {\"color\": \"rgba(0,0,0,0)\", \"gridcolor\": \"rgba(0,0,0,0)\", \"linecolor\": \"rgba(0,0,0,0)\"}}, \"showlegend\": false, \"template\": {}},\n",
       "                        {\"responsive\": true}\n",
       "                    ).then(function(){\n",
       "                            \n",
       "var gd = document.getElementById('cd99ca72-80cd-46d3-9894-64c7c8aeac9b');\n",
       "var x = new MutationObserver(function (mutations, observer) {{\n",
       "        var display = window.getComputedStyle(gd).display;\n",
       "        if (!display || display === 'none') {{\n",
       "            console.log([gd, 'removed!']);\n",
       "            Plotly.purge(gd);\n",
       "            observer.disconnect();\n",
       "        }}\n",
       "}});\n",
       "\n",
       "// Listen for the removal of the full notebook cells\n",
       "var notebookContainer = gd.closest('#notebook-container');\n",
       "if (notebookContainer) {{\n",
       "    x.observe(notebookContainer, {childList: true});\n",
       "}}\n",
       "\n",
       "// Listen for the clearing of the current output cell\n",
       "var outputEl = gd.closest('.output');\n",
       "if (outputEl) {{\n",
       "    x.observe(outputEl, {childList: true});\n",
       "}}\n",
       "\n",
       "                        })\n",
       "                };\n",
       "                });\n",
       "            </script>\n",
       "        </div>"
      ]
     },
     "metadata": {},
     "output_type": "display_data"
    },
    {
     "name": "stdout",
     "output_type": "stream",
     "text": [
      "Hyun-Soo Jang\n"
     ]
    },
    {
     "data": {
      "application/vnd.plotly.v1+json": {
       "config": {
        "plotlyServerURL": "https://plot.ly"
       },
       "data": [
        {
         "hoverlabel": {
          "namelength": 0
         },
         "hovertemplate": "binned_pass_length=No Pass<br>Frequency=%{r}<br>Angle=%{theta}",
         "legendgroup": "binned_pass_length=No Pass",
         "marker": {
          "color": "#19d3f3"
         },
         "name": "binned_pass_length=No Pass",
         "r": [
          0,
          0,
          0,
          0,
          0,
          0,
          0,
          0,
          0,
          0
         ],
         "showlegend": true,
         "subplot": "polar",
         "theta": [
          -165,
          -150,
          -135,
          -105,
          -60,
          0,
          30,
          60,
          105,
          165
         ],
         "type": "barpolar"
        },
        {
         "hoverlabel": {
          "namelength": 0
         },
         "hovertemplate": "binned_pass_length=very_short<br>Frequency=%{r}<br>Angle=%{theta}",
         "legendgroup": "binned_pass_length=very_short",
         "marker": {
          "color": "rgb(252, 219, 3)"
         },
         "name": "binned_pass_length=very_short",
         "r": [
          1,
          1,
          1
         ],
         "showlegend": true,
         "subplot": "polar",
         "theta": [
          -120,
          -15,
          135
         ],
         "type": "barpolar"
        },
        {
         "hoverlabel": {
          "namelength": 0
         },
         "hovertemplate": "binned_pass_length=medium<br>Frequency=%{r}<br>Angle=%{theta}",
         "legendgroup": "binned_pass_length=medium",
         "marker": {
          "color": "rgb(252, 123, 3)"
         },
         "name": "binned_pass_length=medium",
         "r": [
          2,
          1,
          2,
          2
         ],
         "showlegend": true,
         "subplot": "polar",
         "theta": [
          -90,
          -45,
          75,
          90
         ],
         "type": "barpolar"
        },
        {
         "hoverlabel": {
          "namelength": 0
         },
         "hovertemplate": "binned_pass_length=short<br>Frequency=%{r}<br>Angle=%{theta}",
         "legendgroup": "binned_pass_length=short",
         "marker": {
          "color": "rgb(252, 177, 3)"
         },
         "name": "binned_pass_length=short",
         "r": [
          2,
          1,
          1,
          1,
          1
         ],
         "showlegend": true,
         "subplot": "polar",
         "theta": [
          -75,
          -30,
          45,
          120,
          150
         ],
         "type": "barpolar"
        },
        {
         "hoverlabel": {
          "namelength": 0
         },
         "hovertemplate": "binned_pass_length=long<br>Frequency=%{r}<br>Angle=%{theta}",
         "legendgroup": "binned_pass_length=long",
         "marker": {
          "color": "rgb(252, 70, 3)"
         },
         "name": "binned_pass_length=long",
         "r": [
          2
         ],
         "showlegend": true,
         "subplot": "polar",
         "theta": [
          15
         ],
         "type": "barpolar"
        }
       ],
       "layout": {
        "autosize": false,
        "barmode": "relative",
        "height": 600,
        "legend": {
         "tracegroupgap": 0
        },
        "margin": {
         "t": 60
        },
        "paper_bgcolor": "rgba(0,0,0,0)",
        "polar": {
         "angularaxis": {
          "color": "rgba(0,0,0,0)",
          "direction": "clockwise",
          "gridcolor": "rgba(0,0,0,0)",
          "linecolor": "rgba(0,0,0,0)",
          "rotation": 90
         },
         "bgcolor": "rgba(0,0,0,0)",
         "domain": {
          "x": [
           0,
           1
          ],
          "y": [
           0,
           1
          ]
         },
         "radialaxis": {
          "color": "rgba(0,0,0,0)",
          "gridcolor": "rgba(0,0,0,0)",
          "linecolor": "rgba(0,0,0,0)"
         }
        },
        "showlegend": false,
        "template": {}
       }
      },
      "text/html": [
       "<div>\n",
       "        \n",
       "        \n",
       "            <div id=\"89c41133-83ee-4e68-8006-76191853ec85\" class=\"plotly-graph-div\" style=\"height:600px; width:100%;\"></div>\n",
       "            <script type=\"text/javascript\">\n",
       "                require([\"plotly\"], function(Plotly) {\n",
       "                    window.PLOTLYENV=window.PLOTLYENV || {};\n",
       "                    \n",
       "                if (document.getElementById(\"89c41133-83ee-4e68-8006-76191853ec85\")) {\n",
       "                    Plotly.newPlot(\n",
       "                        '89c41133-83ee-4e68-8006-76191853ec85',\n",
       "                        [{\"hoverlabel\": {\"namelength\": 0}, \"hovertemplate\": \"binned_pass_length=No Pass<br>Frequency=%{r}<br>Angle=%{theta}\", \"legendgroup\": \"binned_pass_length=No Pass\", \"marker\": {\"color\": \"#19d3f3\"}, \"name\": \"binned_pass_length=No Pass\", \"r\": [0.0, 0.0, 0.0, 0.0, 0.0, 0.0, 0.0, 0.0, 0.0, 0.0], \"showlegend\": true, \"subplot\": \"polar\", \"theta\": [-165.0, -150.0, -135.0, -105.0, -60.0, 0.0, 30.0, 60.0, 105.0, 165.0], \"type\": \"barpolar\"}, {\"hoverlabel\": {\"namelength\": 0}, \"hovertemplate\": \"binned_pass_length=very_short<br>Frequency=%{r}<br>Angle=%{theta}\", \"legendgroup\": \"binned_pass_length=very_short\", \"marker\": {\"color\": \"rgb(252, 219, 3)\"}, \"name\": \"binned_pass_length=very_short\", \"r\": [1.0, 1.0, 1.0], \"showlegend\": true, \"subplot\": \"polar\", \"theta\": [-120.0, -15.0, 135.0], \"type\": \"barpolar\"}, {\"hoverlabel\": {\"namelength\": 0}, \"hovertemplate\": \"binned_pass_length=medium<br>Frequency=%{r}<br>Angle=%{theta}\", \"legendgroup\": \"binned_pass_length=medium\", \"marker\": {\"color\": \"rgb(252, 123, 3)\"}, \"name\": \"binned_pass_length=medium\", \"r\": [2.0, 1.0, 2.0, 2.0], \"showlegend\": true, \"subplot\": \"polar\", \"theta\": [-90.0, -45.0, 75.0, 90.0], \"type\": \"barpolar\"}, {\"hoverlabel\": {\"namelength\": 0}, \"hovertemplate\": \"binned_pass_length=short<br>Frequency=%{r}<br>Angle=%{theta}\", \"legendgroup\": \"binned_pass_length=short\", \"marker\": {\"color\": \"rgb(252, 177, 3)\"}, \"name\": \"binned_pass_length=short\", \"r\": [2.0, 1.0, 1.0, 1.0, 1.0], \"showlegend\": true, \"subplot\": \"polar\", \"theta\": [-75.0, -30.0, 45.0, 120.0, 150.0], \"type\": \"barpolar\"}, {\"hoverlabel\": {\"namelength\": 0}, \"hovertemplate\": \"binned_pass_length=long<br>Frequency=%{r}<br>Angle=%{theta}\", \"legendgroup\": \"binned_pass_length=long\", \"marker\": {\"color\": \"rgb(252, 70, 3)\"}, \"name\": \"binned_pass_length=long\", \"r\": [2.0], \"showlegend\": true, \"subplot\": \"polar\", \"theta\": [15.0], \"type\": \"barpolar\"}],\n",
       "                        {\"autosize\": false, \"barmode\": \"relative\", \"height\": 600, \"legend\": {\"tracegroupgap\": 0}, \"margin\": {\"t\": 60}, \"paper_bgcolor\": \"rgba(0,0,0,0)\", \"polar\": {\"angularaxis\": {\"color\": \"rgba(0,0,0,0)\", \"direction\": \"clockwise\", \"gridcolor\": \"rgba(0,0,0,0)\", \"linecolor\": \"rgba(0,0,0,0)\", \"rotation\": 90}, \"bgcolor\": \"rgba(0,0,0,0)\", \"domain\": {\"x\": [0.0, 1.0], \"y\": [0.0, 1.0]}, \"radialaxis\": {\"color\": \"rgba(0,0,0,0)\", \"gridcolor\": \"rgba(0,0,0,0)\", \"linecolor\": \"rgba(0,0,0,0)\"}}, \"showlegend\": false, \"template\": {}},\n",
       "                        {\"responsive\": true}\n",
       "                    ).then(function(){\n",
       "                            \n",
       "var gd = document.getElementById('89c41133-83ee-4e68-8006-76191853ec85');\n",
       "var x = new MutationObserver(function (mutations, observer) {{\n",
       "        var display = window.getComputedStyle(gd).display;\n",
       "        if (!display || display === 'none') {{\n",
       "            console.log([gd, 'removed!']);\n",
       "            Plotly.purge(gd);\n",
       "            observer.disconnect();\n",
       "        }}\n",
       "}});\n",
       "\n",
       "// Listen for the removal of the full notebook cells\n",
       "var notebookContainer = gd.closest('#notebook-container');\n",
       "if (notebookContainer) {{\n",
       "    x.observe(notebookContainer, {childList: true});\n",
       "}}\n",
       "\n",
       "// Listen for the clearing of the current output cell\n",
       "var outputEl = gd.closest('.output');\n",
       "if (outputEl) {{\n",
       "    x.observe(outputEl, {childList: true});\n",
       "}}\n",
       "\n",
       "                        })\n",
       "                };\n",
       "                });\n",
       "            </script>\n",
       "        </div>"
      ]
     },
     "metadata": {},
     "output_type": "display_data"
    },
    {
     "name": "stdout",
     "output_type": "stream",
     "text": [
      "Woo-Young Jung\n"
     ]
    },
    {
     "data": {
      "application/vnd.plotly.v1+json": {
       "config": {
        "plotlyServerURL": "https://plot.ly"
       },
       "data": [
        {
         "hoverlabel": {
          "namelength": 0
         },
         "hovertemplate": "binned_pass_length=short<br>Frequency=%{r}<br>Angle=%{theta}",
         "legendgroup": "binned_pass_length=short",
         "marker": {
          "color": "rgb(252, 177, 3)"
         },
         "name": "binned_pass_length=short",
         "r": [
          2,
          1,
          2,
          1,
          1
         ],
         "showlegend": true,
         "subplot": "polar",
         "theta": [
          -165,
          -105,
          45,
          105,
          135
         ],
         "type": "barpolar"
        },
        {
         "hoverlabel": {
          "namelength": 0
         },
         "hovertemplate": "binned_pass_length=No Pass<br>Frequency=%{r}<br>Angle=%{theta}",
         "legendgroup": "binned_pass_length=No Pass",
         "marker": {
          "color": "#19d3f3"
         },
         "name": "binned_pass_length=No Pass",
         "r": [
          0,
          0,
          0,
          0,
          0,
          0,
          0
         ],
         "showlegend": true,
         "subplot": "polar",
         "theta": [
          -150,
          -120,
          -30,
          90,
          120,
          150,
          165
         ],
         "type": "barpolar"
        },
        {
         "hoverlabel": {
          "namelength": 0
         },
         "hovertemplate": "binned_pass_length=medium<br>Frequency=%{r}<br>Angle=%{theta}",
         "legendgroup": "binned_pass_length=medium",
         "marker": {
          "color": "rgb(252, 123, 3)"
         },
         "name": "binned_pass_length=medium",
         "r": [
          1,
          1,
          3,
          2
         ],
         "showlegend": true,
         "subplot": "polar",
         "theta": [
          -135,
          -75,
          -45,
          0
         ],
         "type": "barpolar"
        },
        {
         "hoverlabel": {
          "namelength": 0
         },
         "hovertemplate": "binned_pass_length=very_short<br>Frequency=%{r}<br>Angle=%{theta}",
         "legendgroup": "binned_pass_length=very_short",
         "marker": {
          "color": "rgb(252, 219, 3)"
         },
         "name": "binned_pass_length=very_short",
         "r": [
          2
         ],
         "showlegend": true,
         "subplot": "polar",
         "theta": [
          -90
         ],
         "type": "barpolar"
        },
        {
         "hoverlabel": {
          "namelength": 0
         },
         "hovertemplate": "binned_pass_length=very_long<br>Frequency=%{r}<br>Angle=%{theta}",
         "legendgroup": "binned_pass_length=very_long",
         "marker": {
          "color": "rgb(252, 3, 3)"
         },
         "name": "binned_pass_length=very_long",
         "r": [
          2,
          2
         ],
         "showlegend": true,
         "subplot": "polar",
         "theta": [
          -60,
          30
         ],
         "type": "barpolar"
        },
        {
         "hoverlabel": {
          "namelength": 0
         },
         "hovertemplate": "binned_pass_length=long<br>Frequency=%{r}<br>Angle=%{theta}",
         "legendgroup": "binned_pass_length=long",
         "marker": {
          "color": "rgb(252, 70, 3)"
         },
         "name": "binned_pass_length=long",
         "r": [
          1,
          3,
          3,
          1
         ],
         "showlegend": true,
         "subplot": "polar",
         "theta": [
          -15,
          15,
          60,
          75
         ],
         "type": "barpolar"
        }
       ],
       "layout": {
        "autosize": false,
        "barmode": "relative",
        "height": 600,
        "legend": {
         "tracegroupgap": 0
        },
        "margin": {
         "t": 60
        },
        "paper_bgcolor": "rgba(0,0,0,0)",
        "polar": {
         "angularaxis": {
          "color": "rgba(0,0,0,0)",
          "direction": "clockwise",
          "gridcolor": "rgba(0,0,0,0)",
          "linecolor": "rgba(0,0,0,0)",
          "rotation": 90
         },
         "bgcolor": "rgba(0,0,0,0)",
         "domain": {
          "x": [
           0,
           1
          ],
          "y": [
           0,
           1
          ]
         },
         "radialaxis": {
          "color": "rgba(0,0,0,0)",
          "gridcolor": "rgba(0,0,0,0)",
          "linecolor": "rgba(0,0,0,0)"
         }
        },
        "showlegend": false,
        "template": {}
       }
      },
      "text/html": [
       "<div>\n",
       "        \n",
       "        \n",
       "            <div id=\"edd79d53-e685-445b-9161-8e61c7b7a79b\" class=\"plotly-graph-div\" style=\"height:600px; width:100%;\"></div>\n",
       "            <script type=\"text/javascript\">\n",
       "                require([\"plotly\"], function(Plotly) {\n",
       "                    window.PLOTLYENV=window.PLOTLYENV || {};\n",
       "                    \n",
       "                if (document.getElementById(\"edd79d53-e685-445b-9161-8e61c7b7a79b\")) {\n",
       "                    Plotly.newPlot(\n",
       "                        'edd79d53-e685-445b-9161-8e61c7b7a79b',\n",
       "                        [{\"hoverlabel\": {\"namelength\": 0}, \"hovertemplate\": \"binned_pass_length=short<br>Frequency=%{r}<br>Angle=%{theta}\", \"legendgroup\": \"binned_pass_length=short\", \"marker\": {\"color\": \"rgb(252, 177, 3)\"}, \"name\": \"binned_pass_length=short\", \"r\": [2.0, 1.0, 2.0, 1.0, 1.0], \"showlegend\": true, \"subplot\": \"polar\", \"theta\": [-165.0, -105.0, 45.0, 105.0, 135.0], \"type\": \"barpolar\"}, {\"hoverlabel\": {\"namelength\": 0}, \"hovertemplate\": \"binned_pass_length=No Pass<br>Frequency=%{r}<br>Angle=%{theta}\", \"legendgroup\": \"binned_pass_length=No Pass\", \"marker\": {\"color\": \"#19d3f3\"}, \"name\": \"binned_pass_length=No Pass\", \"r\": [0.0, 0.0, 0.0, 0.0, 0.0, 0.0, 0.0], \"showlegend\": true, \"subplot\": \"polar\", \"theta\": [-150.0, -120.0, -30.0, 90.0, 120.0, 150.0, 165.0], \"type\": \"barpolar\"}, {\"hoverlabel\": {\"namelength\": 0}, \"hovertemplate\": \"binned_pass_length=medium<br>Frequency=%{r}<br>Angle=%{theta}\", \"legendgroup\": \"binned_pass_length=medium\", \"marker\": {\"color\": \"rgb(252, 123, 3)\"}, \"name\": \"binned_pass_length=medium\", \"r\": [1.0, 1.0, 3.0, 2.0], \"showlegend\": true, \"subplot\": \"polar\", \"theta\": [-135.0, -75.0, -45.0, 0.0], \"type\": \"barpolar\"}, {\"hoverlabel\": {\"namelength\": 0}, \"hovertemplate\": \"binned_pass_length=very_short<br>Frequency=%{r}<br>Angle=%{theta}\", \"legendgroup\": \"binned_pass_length=very_short\", \"marker\": {\"color\": \"rgb(252, 219, 3)\"}, \"name\": \"binned_pass_length=very_short\", \"r\": [2.0], \"showlegend\": true, \"subplot\": \"polar\", \"theta\": [-90.0], \"type\": \"barpolar\"}, {\"hoverlabel\": {\"namelength\": 0}, \"hovertemplate\": \"binned_pass_length=very_long<br>Frequency=%{r}<br>Angle=%{theta}\", \"legendgroup\": \"binned_pass_length=very_long\", \"marker\": {\"color\": \"rgb(252, 3, 3)\"}, \"name\": \"binned_pass_length=very_long\", \"r\": [2.0, 2.0], \"showlegend\": true, \"subplot\": \"polar\", \"theta\": [-60.0, 30.0], \"type\": \"barpolar\"}, {\"hoverlabel\": {\"namelength\": 0}, \"hovertemplate\": \"binned_pass_length=long<br>Frequency=%{r}<br>Angle=%{theta}\", \"legendgroup\": \"binned_pass_length=long\", \"marker\": {\"color\": \"rgb(252, 70, 3)\"}, \"name\": \"binned_pass_length=long\", \"r\": [1.0, 3.0, 3.0, 1.0], \"showlegend\": true, \"subplot\": \"polar\", \"theta\": [-15.0, 15.0, 60.0, 75.0], \"type\": \"barpolar\"}],\n",
       "                        {\"autosize\": false, \"barmode\": \"relative\", \"height\": 600, \"legend\": {\"tracegroupgap\": 0}, \"margin\": {\"t\": 60}, \"paper_bgcolor\": \"rgba(0,0,0,0)\", \"polar\": {\"angularaxis\": {\"color\": \"rgba(0,0,0,0)\", \"direction\": \"clockwise\", \"gridcolor\": \"rgba(0,0,0,0)\", \"linecolor\": \"rgba(0,0,0,0)\", \"rotation\": 90}, \"bgcolor\": \"rgba(0,0,0,0)\", \"domain\": {\"x\": [0.0, 1.0], \"y\": [0.0, 1.0]}, \"radialaxis\": {\"color\": \"rgba(0,0,0,0)\", \"gridcolor\": \"rgba(0,0,0,0)\", \"linecolor\": \"rgba(0,0,0,0)\"}}, \"showlegend\": false, \"template\": {}},\n",
       "                        {\"responsive\": true}\n",
       "                    ).then(function(){\n",
       "                            \n",
       "var gd = document.getElementById('edd79d53-e685-445b-9161-8e61c7b7a79b');\n",
       "var x = new MutationObserver(function (mutations, observer) {{\n",
       "        var display = window.getComputedStyle(gd).display;\n",
       "        if (!display || display === 'none') {{\n",
       "            console.log([gd, 'removed!']);\n",
       "            Plotly.purge(gd);\n",
       "            observer.disconnect();\n",
       "        }}\n",
       "}});\n",
       "\n",
       "// Listen for the removal of the full notebook cells\n",
       "var notebookContainer = gd.closest('#notebook-container');\n",
       "if (notebookContainer) {{\n",
       "    x.observe(notebookContainer, {childList: true});\n",
       "}}\n",
       "\n",
       "// Listen for the clearing of the current output cell\n",
       "var outputEl = gd.closest('.output');\n",
       "if (outputEl) {{\n",
       "    x.observe(outputEl, {childList: true});\n",
       "}}\n",
       "\n",
       "                        })\n",
       "                };\n",
       "                });\n",
       "            </script>\n",
       "        </div>"
      ]
     },
     "metadata": {},
     "output_type": "display_data"
    },
    {
     "name": "stdout",
     "output_type": "stream",
     "text": [
      "Seon-Min Moon\n"
     ]
    },
    {
     "data": {
      "application/vnd.plotly.v1+json": {
       "config": {
        "plotlyServerURL": "https://plot.ly"
       },
       "data": [
        {
         "hoverlabel": {
          "namelength": 0
         },
         "hovertemplate": "binned_pass_length=short<br>Frequency=%{r}<br>Angle=%{theta}",
         "legendgroup": "binned_pass_length=short",
         "marker": {
          "color": "rgb(252, 177, 3)"
         },
         "name": "binned_pass_length=short",
         "r": [
          1,
          1,
          2,
          1,
          1
         ],
         "showlegend": true,
         "subplot": "polar",
         "theta": [
          -165,
          60,
          75,
          120,
          165
         ],
         "type": "barpolar"
        },
        {
         "hoverlabel": {
          "namelength": 0
         },
         "hovertemplate": "binned_pass_length=No Pass<br>Frequency=%{r}<br>Angle=%{theta}",
         "legendgroup": "binned_pass_length=No Pass",
         "marker": {
          "color": "#19d3f3"
         },
         "name": "binned_pass_length=No Pass",
         "r": [
          0,
          0,
          0,
          0,
          0,
          0,
          0,
          0,
          0,
          0,
          0,
          0,
          0,
          0
         ],
         "showlegend": true,
         "subplot": "polar",
         "theta": [
          -150,
          -135,
          -120,
          -90,
          -60,
          -45,
          -30,
          -15,
          15,
          30,
          45,
          90,
          135,
          150
         ],
         "type": "barpolar"
        },
        {
         "hoverlabel": {
          "namelength": 0
         },
         "hovertemplate": "binned_pass_length=very_short<br>Frequency=%{r}<br>Angle=%{theta}",
         "legendgroup": "binned_pass_length=very_short",
         "marker": {
          "color": "rgb(252, 219, 3)"
         },
         "name": "binned_pass_length=very_short",
         "r": [
          1,
          1,
          2
         ],
         "showlegend": true,
         "subplot": "polar",
         "theta": [
          -105,
          0,
          105
         ],
         "type": "barpolar"
        },
        {
         "hoverlabel": {
          "namelength": 0
         },
         "hovertemplate": "binned_pass_length=medium<br>Frequency=%{r}<br>Angle=%{theta}",
         "legendgroup": "binned_pass_length=medium",
         "marker": {
          "color": "rgb(252, 123, 3)"
         },
         "name": "binned_pass_length=medium",
         "r": [
          1
         ],
         "showlegend": true,
         "subplot": "polar",
         "theta": [
          -75
         ],
         "type": "barpolar"
        }
       ],
       "layout": {
        "autosize": false,
        "barmode": "relative",
        "height": 600,
        "legend": {
         "tracegroupgap": 0
        },
        "margin": {
         "t": 60
        },
        "paper_bgcolor": "rgba(0,0,0,0)",
        "polar": {
         "angularaxis": {
          "color": "rgba(0,0,0,0)",
          "direction": "clockwise",
          "gridcolor": "rgba(0,0,0,0)",
          "linecolor": "rgba(0,0,0,0)",
          "rotation": 90
         },
         "bgcolor": "rgba(0,0,0,0)",
         "domain": {
          "x": [
           0,
           1
          ],
          "y": [
           0,
           1
          ]
         },
         "radialaxis": {
          "color": "rgba(0,0,0,0)",
          "gridcolor": "rgba(0,0,0,0)",
          "linecolor": "rgba(0,0,0,0)"
         }
        },
        "showlegend": false,
        "template": {}
       }
      },
      "text/html": [
       "<div>\n",
       "        \n",
       "        \n",
       "            <div id=\"46650c0b-4479-4a4d-b0b5-6f05c001ce9a\" class=\"plotly-graph-div\" style=\"height:600px; width:100%;\"></div>\n",
       "            <script type=\"text/javascript\">\n",
       "                require([\"plotly\"], function(Plotly) {\n",
       "                    window.PLOTLYENV=window.PLOTLYENV || {};\n",
       "                    \n",
       "                if (document.getElementById(\"46650c0b-4479-4a4d-b0b5-6f05c001ce9a\")) {\n",
       "                    Plotly.newPlot(\n",
       "                        '46650c0b-4479-4a4d-b0b5-6f05c001ce9a',\n",
       "                        [{\"hoverlabel\": {\"namelength\": 0}, \"hovertemplate\": \"binned_pass_length=short<br>Frequency=%{r}<br>Angle=%{theta}\", \"legendgroup\": \"binned_pass_length=short\", \"marker\": {\"color\": \"rgb(252, 177, 3)\"}, \"name\": \"binned_pass_length=short\", \"r\": [1.0, 1.0, 2.0, 1.0, 1.0], \"showlegend\": true, \"subplot\": \"polar\", \"theta\": [-165.0, 60.0, 75.0, 120.0, 165.0], \"type\": \"barpolar\"}, {\"hoverlabel\": {\"namelength\": 0}, \"hovertemplate\": \"binned_pass_length=No Pass<br>Frequency=%{r}<br>Angle=%{theta}\", \"legendgroup\": \"binned_pass_length=No Pass\", \"marker\": {\"color\": \"#19d3f3\"}, \"name\": \"binned_pass_length=No Pass\", \"r\": [0.0, 0.0, 0.0, 0.0, 0.0, 0.0, 0.0, 0.0, 0.0, 0.0, 0.0, 0.0, 0.0, 0.0], \"showlegend\": true, \"subplot\": \"polar\", \"theta\": [-150.0, -135.0, -120.0, -90.0, -60.0, -45.0, -30.0, -15.0, 15.0, 30.0, 45.0, 90.0, 135.0, 150.0], \"type\": \"barpolar\"}, {\"hoverlabel\": {\"namelength\": 0}, \"hovertemplate\": \"binned_pass_length=very_short<br>Frequency=%{r}<br>Angle=%{theta}\", \"legendgroup\": \"binned_pass_length=very_short\", \"marker\": {\"color\": \"rgb(252, 219, 3)\"}, \"name\": \"binned_pass_length=very_short\", \"r\": [1.0, 1.0, 2.0], \"showlegend\": true, \"subplot\": \"polar\", \"theta\": [-105.0, 0.0, 105.0], \"type\": \"barpolar\"}, {\"hoverlabel\": {\"namelength\": 0}, \"hovertemplate\": \"binned_pass_length=medium<br>Frequency=%{r}<br>Angle=%{theta}\", \"legendgroup\": \"binned_pass_length=medium\", \"marker\": {\"color\": \"rgb(252, 123, 3)\"}, \"name\": \"binned_pass_length=medium\", \"r\": [1.0], \"showlegend\": true, \"subplot\": \"polar\", \"theta\": [-75.0], \"type\": \"barpolar\"}],\n",
       "                        {\"autosize\": false, \"barmode\": \"relative\", \"height\": 600, \"legend\": {\"tracegroupgap\": 0}, \"margin\": {\"t\": 60}, \"paper_bgcolor\": \"rgba(0,0,0,0)\", \"polar\": {\"angularaxis\": {\"color\": \"rgba(0,0,0,0)\", \"direction\": \"clockwise\", \"gridcolor\": \"rgba(0,0,0,0)\", \"linecolor\": \"rgba(0,0,0,0)\", \"rotation\": 90}, \"bgcolor\": \"rgba(0,0,0,0)\", \"domain\": {\"x\": [0.0, 1.0], \"y\": [0.0, 1.0]}, \"radialaxis\": {\"color\": \"rgba(0,0,0,0)\", \"gridcolor\": \"rgba(0,0,0,0)\", \"linecolor\": \"rgba(0,0,0,0)\"}}, \"showlegend\": false, \"template\": {}},\n",
       "                        {\"responsive\": true}\n",
       "                    ).then(function(){\n",
       "                            \n",
       "var gd = document.getElementById('46650c0b-4479-4a4d-b0b5-6f05c001ce9a');\n",
       "var x = new MutationObserver(function (mutations, observer) {{\n",
       "        var display = window.getComputedStyle(gd).display;\n",
       "        if (!display || display === 'none') {{\n",
       "            console.log([gd, 'removed!']);\n",
       "            Plotly.purge(gd);\n",
       "            observer.disconnect();\n",
       "        }}\n",
       "}});\n",
       "\n",
       "// Listen for the removal of the full notebook cells\n",
       "var notebookContainer = gd.closest('#notebook-container');\n",
       "if (notebookContainer) {{\n",
       "    x.observe(notebookContainer, {childList: true});\n",
       "}}\n",
       "\n",
       "// Listen for the clearing of the current output cell\n",
       "var outputEl = gd.closest('.output');\n",
       "if (outputEl) {{\n",
       "    x.observe(outputEl, {childList: true});\n",
       "}}\n",
       "\n",
       "                        })\n",
       "                };\n",
       "                });\n",
       "            </script>\n",
       "        </div>"
      ]
     },
     "metadata": {},
     "output_type": "display_data"
    },
    {
     "name": "stdout",
     "output_type": "stream",
     "text": [
      "Heung-Min Son\n"
     ]
    },
    {
     "data": {
      "application/vnd.plotly.v1+json": {
       "config": {
        "plotlyServerURL": "https://plot.ly"
       },
       "data": [
        {
         "hoverlabel": {
          "namelength": 0
         },
         "hovertemplate": "binned_pass_length=short<br>Frequency=%{r}<br>Angle=%{theta}",
         "legendgroup": "binned_pass_length=short",
         "marker": {
          "color": "rgb(252, 177, 3)"
         },
         "name": "binned_pass_length=short",
         "r": [
          1,
          1,
          2,
          2,
          1
         ],
         "showlegend": true,
         "subplot": "polar",
         "theta": [
          -165,
          -15,
          0,
          30,
          150
         ],
         "type": "barpolar"
        },
        {
         "hoverlabel": {
          "namelength": 0
         },
         "hovertemplate": "binned_pass_length=very_short<br>Frequency=%{r}<br>Angle=%{theta}",
         "legendgroup": "binned_pass_length=very_short",
         "marker": {
          "color": "rgb(252, 219, 3)"
         },
         "name": "binned_pass_length=very_short",
         "r": [
          1,
          1,
          1,
          1
         ],
         "showlegend": true,
         "subplot": "polar",
         "theta": [
          -150,
          -135,
          -45,
          120
         ],
         "type": "barpolar"
        },
        {
         "hoverlabel": {
          "namelength": 0
         },
         "hovertemplate": "binned_pass_length=No Pass<br>Frequency=%{r}<br>Angle=%{theta}",
         "legendgroup": "binned_pass_length=No Pass",
         "marker": {
          "color": "#19d3f3"
         },
         "name": "binned_pass_length=No Pass",
         "r": [
          0,
          0,
          0,
          0,
          0,
          0,
          0,
          0,
          0,
          0
         ],
         "showlegend": true,
         "subplot": "polar",
         "theta": [
          -120,
          -105,
          -60,
          -30,
          15,
          45,
          60,
          75,
          90,
          135
         ],
         "type": "barpolar"
        },
        {
         "hoverlabel": {
          "namelength": 0
         },
         "hovertemplate": "binned_pass_length=very_long<br>Frequency=%{r}<br>Angle=%{theta}",
         "legendgroup": "binned_pass_length=very_long",
         "marker": {
          "color": "rgb(252, 3, 3)"
         },
         "name": "binned_pass_length=very_long",
         "r": [
          1
         ],
         "showlegend": true,
         "subplot": "polar",
         "theta": [
          -90
         ],
         "type": "barpolar"
        },
        {
         "hoverlabel": {
          "namelength": 0
         },
         "hovertemplate": "binned_pass_length=medium<br>Frequency=%{r}<br>Angle=%{theta}",
         "legendgroup": "binned_pass_length=medium",
         "marker": {
          "color": "rgb(252, 123, 3)"
         },
         "name": "binned_pass_length=medium",
         "r": [
          1,
          3,
          2
         ],
         "showlegend": true,
         "subplot": "polar",
         "theta": [
          -75,
          105,
          165
         ],
         "type": "barpolar"
        }
       ],
       "layout": {
        "autosize": false,
        "barmode": "relative",
        "height": 600,
        "legend": {
         "tracegroupgap": 0
        },
        "margin": {
         "t": 60
        },
        "paper_bgcolor": "rgba(0,0,0,0)",
        "polar": {
         "angularaxis": {
          "color": "rgba(0,0,0,0)",
          "direction": "clockwise",
          "gridcolor": "rgba(0,0,0,0)",
          "linecolor": "rgba(0,0,0,0)",
          "rotation": 90
         },
         "bgcolor": "rgba(0,0,0,0)",
         "domain": {
          "x": [
           0,
           1
          ],
          "y": [
           0,
           1
          ]
         },
         "radialaxis": {
          "color": "rgba(0,0,0,0)",
          "gridcolor": "rgba(0,0,0,0)",
          "linecolor": "rgba(0,0,0,0)"
         }
        },
        "showlegend": false,
        "template": {}
       }
      },
      "text/html": [
       "<div>\n",
       "        \n",
       "        \n",
       "            <div id=\"03fd4c26-3308-483c-a997-9e9e78d251f4\" class=\"plotly-graph-div\" style=\"height:600px; width:100%;\"></div>\n",
       "            <script type=\"text/javascript\">\n",
       "                require([\"plotly\"], function(Plotly) {\n",
       "                    window.PLOTLYENV=window.PLOTLYENV || {};\n",
       "                    \n",
       "                if (document.getElementById(\"03fd4c26-3308-483c-a997-9e9e78d251f4\")) {\n",
       "                    Plotly.newPlot(\n",
       "                        '03fd4c26-3308-483c-a997-9e9e78d251f4',\n",
       "                        [{\"hoverlabel\": {\"namelength\": 0}, \"hovertemplate\": \"binned_pass_length=short<br>Frequency=%{r}<br>Angle=%{theta}\", \"legendgroup\": \"binned_pass_length=short\", \"marker\": {\"color\": \"rgb(252, 177, 3)\"}, \"name\": \"binned_pass_length=short\", \"r\": [1.0, 1.0, 2.0, 2.0, 1.0], \"showlegend\": true, \"subplot\": \"polar\", \"theta\": [-165.0, -15.0, 0.0, 30.0, 150.0], \"type\": \"barpolar\"}, {\"hoverlabel\": {\"namelength\": 0}, \"hovertemplate\": \"binned_pass_length=very_short<br>Frequency=%{r}<br>Angle=%{theta}\", \"legendgroup\": \"binned_pass_length=very_short\", \"marker\": {\"color\": \"rgb(252, 219, 3)\"}, \"name\": \"binned_pass_length=very_short\", \"r\": [1.0, 1.0, 1.0, 1.0], \"showlegend\": true, \"subplot\": \"polar\", \"theta\": [-150.0, -135.0, -45.0, 120.0], \"type\": \"barpolar\"}, {\"hoverlabel\": {\"namelength\": 0}, \"hovertemplate\": \"binned_pass_length=No Pass<br>Frequency=%{r}<br>Angle=%{theta}\", \"legendgroup\": \"binned_pass_length=No Pass\", \"marker\": {\"color\": \"#19d3f3\"}, \"name\": \"binned_pass_length=No Pass\", \"r\": [0.0, 0.0, 0.0, 0.0, 0.0, 0.0, 0.0, 0.0, 0.0, 0.0], \"showlegend\": true, \"subplot\": \"polar\", \"theta\": [-120.0, -105.0, -60.0, -30.0, 15.0, 45.0, 60.0, 75.0, 90.0, 135.0], \"type\": \"barpolar\"}, {\"hoverlabel\": {\"namelength\": 0}, \"hovertemplate\": \"binned_pass_length=very_long<br>Frequency=%{r}<br>Angle=%{theta}\", \"legendgroup\": \"binned_pass_length=very_long\", \"marker\": {\"color\": \"rgb(252, 3, 3)\"}, \"name\": \"binned_pass_length=very_long\", \"r\": [1.0], \"showlegend\": true, \"subplot\": \"polar\", \"theta\": [-90.0], \"type\": \"barpolar\"}, {\"hoverlabel\": {\"namelength\": 0}, \"hovertemplate\": \"binned_pass_length=medium<br>Frequency=%{r}<br>Angle=%{theta}\", \"legendgroup\": \"binned_pass_length=medium\", \"marker\": {\"color\": \"rgb(252, 123, 3)\"}, \"name\": \"binned_pass_length=medium\", \"r\": [1.0, 3.0, 2.0], \"showlegend\": true, \"subplot\": \"polar\", \"theta\": [-75.0, 105.0, 165.0], \"type\": \"barpolar\"}],\n",
       "                        {\"autosize\": false, \"barmode\": \"relative\", \"height\": 600, \"legend\": {\"tracegroupgap\": 0}, \"margin\": {\"t\": 60}, \"paper_bgcolor\": \"rgba(0,0,0,0)\", \"polar\": {\"angularaxis\": {\"color\": \"rgba(0,0,0,0)\", \"direction\": \"clockwise\", \"gridcolor\": \"rgba(0,0,0,0)\", \"linecolor\": \"rgba(0,0,0,0)\", \"rotation\": 90}, \"bgcolor\": \"rgba(0,0,0,0)\", \"domain\": {\"x\": [0.0, 1.0], \"y\": [0.0, 1.0]}, \"radialaxis\": {\"color\": \"rgba(0,0,0,0)\", \"gridcolor\": \"rgba(0,0,0,0)\", \"linecolor\": \"rgba(0,0,0,0)\"}}, \"showlegend\": false, \"template\": {}},\n",
       "                        {\"responsive\": true}\n",
       "                    ).then(function(){\n",
       "                            \n",
       "var gd = document.getElementById('03fd4c26-3308-483c-a997-9e9e78d251f4');\n",
       "var x = new MutationObserver(function (mutations, observer) {{\n",
       "        var display = window.getComputedStyle(gd).display;\n",
       "        if (!display || display === 'none') {{\n",
       "            console.log([gd, 'removed!']);\n",
       "            Plotly.purge(gd);\n",
       "            observer.disconnect();\n",
       "        }}\n",
       "}});\n",
       "\n",
       "// Listen for the removal of the full notebook cells\n",
       "var notebookContainer = gd.closest('#notebook-container');\n",
       "if (notebookContainer) {{\n",
       "    x.observe(notebookContainer, {childList: true});\n",
       "}}\n",
       "\n",
       "// Listen for the clearing of the current output cell\n",
       "var outputEl = gd.closest('.output');\n",
       "if (outputEl) {{\n",
       "    x.observe(outputEl, {childList: true});\n",
       "}}\n",
       "\n",
       "                        })\n",
       "                };\n",
       "                });\n",
       "            </script>\n",
       "        </div>"
      ]
     },
     "metadata": {},
     "output_type": "display_data"
    },
    {
     "name": "stdout",
     "output_type": "stream",
     "text": [
      "Ja-Cheol Koo\n"
     ]
    },
    {
     "data": {
      "application/vnd.plotly.v1+json": {
       "config": {
        "plotlyServerURL": "https://plot.ly"
       },
       "data": [
        {
         "hoverlabel": {
          "namelength": 0
         },
         "hovertemplate": "binned_pass_length=short<br>Frequency=%{r}<br>Angle=%{theta}",
         "legendgroup": "binned_pass_length=short",
         "marker": {
          "color": "rgb(252, 177, 3)"
         },
         "name": "binned_pass_length=short",
         "r": [
          1,
          1,
          1
         ],
         "showlegend": true,
         "subplot": "polar",
         "theta": [
          -165,
          60,
          75
         ],
         "type": "barpolar"
        },
        {
         "hoverlabel": {
          "namelength": 0
         },
         "hovertemplate": "binned_pass_length=very_short<br>Frequency=%{r}<br>Angle=%{theta}",
         "legendgroup": "binned_pass_length=very_short",
         "marker": {
          "color": "rgb(252, 219, 3)"
         },
         "name": "binned_pass_length=very_short",
         "r": [
          1,
          1,
          2
         ],
         "showlegend": true,
         "subplot": "polar",
         "theta": [
          -150,
          -60,
          90
         ],
         "type": "barpolar"
        },
        {
         "hoverlabel": {
          "namelength": 0
         },
         "hovertemplate": "binned_pass_length=No Pass<br>Frequency=%{r}<br>Angle=%{theta}",
         "legendgroup": "binned_pass_length=No Pass",
         "marker": {
          "color": "#19d3f3"
         },
         "name": "binned_pass_length=No Pass",
         "r": [
          0,
          0,
          0,
          0,
          0,
          0,
          0,
          0,
          0,
          0,
          0,
          0,
          0,
          0,
          0,
          0,
          0
         ],
         "showlegend": true,
         "subplot": "polar",
         "theta": [
          -135,
          -120,
          -105,
          -90,
          -75,
          -45,
          -30,
          -15,
          0,
          15,
          30,
          45,
          105,
          120,
          135,
          150,
          165
         ],
         "type": "barpolar"
        }
       ],
       "layout": {
        "autosize": false,
        "barmode": "relative",
        "height": 600,
        "legend": {
         "tracegroupgap": 0
        },
        "margin": {
         "t": 60
        },
        "paper_bgcolor": "rgba(0,0,0,0)",
        "polar": {
         "angularaxis": {
          "color": "rgba(0,0,0,0)",
          "direction": "clockwise",
          "gridcolor": "rgba(0,0,0,0)",
          "linecolor": "rgba(0,0,0,0)",
          "rotation": 90
         },
         "bgcolor": "rgba(0,0,0,0)",
         "domain": {
          "x": [
           0,
           1
          ],
          "y": [
           0,
           1
          ]
         },
         "radialaxis": {
          "color": "rgba(0,0,0,0)",
          "gridcolor": "rgba(0,0,0,0)",
          "linecolor": "rgba(0,0,0,0)"
         }
        },
        "showlegend": false,
        "template": {}
       }
      },
      "text/html": [
       "<div>\n",
       "        \n",
       "        \n",
       "            <div id=\"985315b9-4e3f-4530-923d-0361a284dd60\" class=\"plotly-graph-div\" style=\"height:600px; width:100%;\"></div>\n",
       "            <script type=\"text/javascript\">\n",
       "                require([\"plotly\"], function(Plotly) {\n",
       "                    window.PLOTLYENV=window.PLOTLYENV || {};\n",
       "                    \n",
       "                if (document.getElementById(\"985315b9-4e3f-4530-923d-0361a284dd60\")) {\n",
       "                    Plotly.newPlot(\n",
       "                        '985315b9-4e3f-4530-923d-0361a284dd60',\n",
       "                        [{\"hoverlabel\": {\"namelength\": 0}, \"hovertemplate\": \"binned_pass_length=short<br>Frequency=%{r}<br>Angle=%{theta}\", \"legendgroup\": \"binned_pass_length=short\", \"marker\": {\"color\": \"rgb(252, 177, 3)\"}, \"name\": \"binned_pass_length=short\", \"r\": [1.0, 1.0, 1.0], \"showlegend\": true, \"subplot\": \"polar\", \"theta\": [-165.0, 60.0, 75.0], \"type\": \"barpolar\"}, {\"hoverlabel\": {\"namelength\": 0}, \"hovertemplate\": \"binned_pass_length=very_short<br>Frequency=%{r}<br>Angle=%{theta}\", \"legendgroup\": \"binned_pass_length=very_short\", \"marker\": {\"color\": \"rgb(252, 219, 3)\"}, \"name\": \"binned_pass_length=very_short\", \"r\": [1.0, 1.0, 2.0], \"showlegend\": true, \"subplot\": \"polar\", \"theta\": [-150.0, -60.0, 90.0], \"type\": \"barpolar\"}, {\"hoverlabel\": {\"namelength\": 0}, \"hovertemplate\": \"binned_pass_length=No Pass<br>Frequency=%{r}<br>Angle=%{theta}\", \"legendgroup\": \"binned_pass_length=No Pass\", \"marker\": {\"color\": \"#19d3f3\"}, \"name\": \"binned_pass_length=No Pass\", \"r\": [0.0, 0.0, 0.0, 0.0, 0.0, 0.0, 0.0, 0.0, 0.0, 0.0, 0.0, 0.0, 0.0, 0.0, 0.0, 0.0, 0.0], \"showlegend\": true, \"subplot\": \"polar\", \"theta\": [-135.0, -120.0, -105.0, -90.0, -75.0, -45.0, -30.0, -15.0, 0.0, 15.0, 30.0, 45.0, 105.0, 120.0, 135.0, 150.0, 165.0], \"type\": \"barpolar\"}],\n",
       "                        {\"autosize\": false, \"barmode\": \"relative\", \"height\": 600, \"legend\": {\"tracegroupgap\": 0}, \"margin\": {\"t\": 60}, \"paper_bgcolor\": \"rgba(0,0,0,0)\", \"polar\": {\"angularaxis\": {\"color\": \"rgba(0,0,0,0)\", \"direction\": \"clockwise\", \"gridcolor\": \"rgba(0,0,0,0)\", \"linecolor\": \"rgba(0,0,0,0)\", \"rotation\": 90}, \"bgcolor\": \"rgba(0,0,0,0)\", \"domain\": {\"x\": [0.0, 1.0], \"y\": [0.0, 1.0]}, \"radialaxis\": {\"color\": \"rgba(0,0,0,0)\", \"gridcolor\": \"rgba(0,0,0,0)\", \"linecolor\": \"rgba(0,0,0,0)\"}}, \"showlegend\": false, \"template\": {}},\n",
       "                        {\"responsive\": true}\n",
       "                    ).then(function(){\n",
       "                            \n",
       "var gd = document.getElementById('985315b9-4e3f-4530-923d-0361a284dd60');\n",
       "var x = new MutationObserver(function (mutations, observer) {{\n",
       "        var display = window.getComputedStyle(gd).display;\n",
       "        if (!display || display === 'none') {{\n",
       "            console.log([gd, 'removed!']);\n",
       "            Plotly.purge(gd);\n",
       "            observer.disconnect();\n",
       "        }}\n",
       "}});\n",
       "\n",
       "// Listen for the removal of the full notebook cells\n",
       "var notebookContainer = gd.closest('#notebook-container');\n",
       "if (notebookContainer) {{\n",
       "    x.observe(notebookContainer, {childList: true});\n",
       "}}\n",
       "\n",
       "// Listen for the clearing of the current output cell\n",
       "var outputEl = gd.closest('.output');\n",
       "if (outputEl) {{\n",
       "    x.observe(outputEl, {childList: true});\n",
       "}}\n",
       "\n",
       "                        })\n",
       "                };\n",
       "                });\n",
       "            </script>\n",
       "        </div>"
      ]
     },
     "metadata": {},
     "output_type": "display_data"
    }
   ],
   "source": [
    "wagon_plots = {}\n",
    "for player in positions.keys():\n",
    "    print(player)\n",
    "    pass_df = player_pass_df(df,player)\n",
    "    wagon_plots[player] =  plot_wagon(pass_df)"
   ]
  },
  {
   "cell_type": "code",
   "execution_count": 112,
   "metadata": {},
   "outputs": [],
   "source": [
    "\n",
    "import matplotlib.pyplot as plt\n",
    "import plotly.tools as tls\n",
    "\n",
    "def draw_pitch(pitch, line, orientation,view):\n",
    "    \n",
    "    orientation = orientation\n",
    "    view = view\n",
    "    line = line\n",
    "    pitch = pitch\n",
    "    \n",
    "    if orientation.lower().startswith(\"h\"):\n",
    "        \n",
    "        if view.lower().startswith(\"h\"):\n",
    "            fig,ax = plt.subplots(figsize=(6.8,10.4))\n",
    "            plt.xlim(49,105)\n",
    "            plt.ylim(-1,69)\n",
    "        else:\n",
    "            fig,ax = plt.subplots(figsize=(10.4,6.8))\n",
    "            plt.xlim(-1,105)\n",
    "            plt.ylim(-1,69)\n",
    "        ax.axis('off') # this hides the x and y ticks\n",
    "    \n",
    "        # side and goal lines #\n",
    "        ly1 = [0,0,68,68,0]\n",
    "        lx1 = [0,104,104,0,0]\n",
    "\n",
    "        plt.plot(lx1,ly1,color=line,zorder=5)\n",
    "\n",
    "\n",
    "        # boxes, 6 yard box and goals\n",
    "\n",
    "            #outer boxes#\n",
    "        ly2 = [13.84,13.84,54.16,54.16] \n",
    "        lx2 = [104,87.5,87.5,104]\n",
    "        plt.plot(lx2,ly2,color=line,zorder=5)\n",
    "\n",
    "        ly3 = [13.84,13.84,54.16,54.16] \n",
    "        lx3 = [0,16.5,16.5,0]\n",
    "        plt.plot(lx3,ly3,color=line,zorder=5)\n",
    "\n",
    "            #goals#\n",
    "        ly4 = [30.34,30.34,37.66,37.66]\n",
    "        lx4 = [104,104.2,104.2,104]\n",
    "        plt.plot(lx4,ly4,color=line,zorder=5)\n",
    "\n",
    "        ly5 = [30.34,30.34,37.66,37.66]\n",
    "        lx5 = [0,-0.2,-0.2,0]\n",
    "        plt.plot(lx5,ly5,color=line,zorder=5)\n",
    "\n",
    "\n",
    "           #6 yard boxes#\n",
    "        ly6 = [24.84,24.84,43.16,43.16]\n",
    "        lx6 = [104,99.5,99.5,104]\n",
    "        plt.plot(lx6,ly6,color=line,zorder=5)\n",
    "\n",
    "        ly7 = [24.84,24.84,43.16,43.16]\n",
    "        lx7 = [0,4.5,4.5,0]\n",
    "        plt.plot(lx7,ly7,color=line,zorder=5)\n",
    "\n",
    "        #Halfway line, penalty spots, and kickoff spot\n",
    "        ly8 = [0,68] \n",
    "        lx8 = [52,52]\n",
    "        plt.plot(lx8,ly8,color=line,zorder=5)\n",
    "\n",
    "\n",
    "        plt.scatter(93,34,color=line,zorder=5)\n",
    "        plt.scatter(11,34,color=line,zorder=5)\n",
    "        plt.scatter(52,34,color=line,zorder=5)\n",
    "\n",
    "        circle1 = plt.Circle((93.5,34), 9.15,ls='solid',lw=1.5,color=line, fill=False, zorder=1,alpha=1)\n",
    "        circle2 = plt.Circle((10.5,34), 9.15,ls='solid',lw=1.5,color=line, fill=False, zorder=1,alpha=1)\n",
    "        circle3 = plt.Circle((52, 34), 9.15,ls='solid',lw=1.5,color=line, fill=False, zorder=2,alpha=1)\n",
    "\n",
    "        ## Rectangles in boxes\n",
    "        rec1 = plt.Rectangle((87.5,20), 16,30,ls='-',color=pitch, zorder=1,alpha=1)\n",
    "        rec2 = plt.Rectangle((0, 20), 16.5,30,ls='-',color=pitch, zorder=1,alpha=1)\n",
    "\n",
    "        ## Pitch rectangle\n",
    "        rec3 = plt.Rectangle((-1, -1), 106,70,ls='-',color=pitch, zorder=1,alpha=1)\n",
    "\n",
    "        ax.add_artist(rec3)\n",
    "        ax.add_artist(circle1)\n",
    "        ax.add_artist(circle2)\n",
    "        ax.add_artist(rec1)\n",
    "        ax.add_artist(rec2)\n",
    "        ax.add_artist(circle3)\n",
    "        \n",
    "    else:\n",
    "        if view.lower().startswith(\"h\"):\n",
    "            fig,ax = plt.subplots(figsize=(10.4,6.8))\n",
    "            plt.ylim(49,105)\n",
    "            plt.xlim(-1,69)\n",
    "        else:\n",
    "            fig,ax = plt.subplots(figsize=(6.8,10.4))\n",
    "            plt.ylim(-1,105)\n",
    "            plt.xlim(-1,69)\n",
    "        ax.axis('off') # this hides the x and y ticks\n",
    "\n",
    "        # side and goal lines #\n",
    "        lx1 = [0,0,68,68,0]\n",
    "        ly1 = [0,104,104,0,0]\n",
    "\n",
    "        plt.plot(lx1,ly1,color=line,zorder=5)\n",
    "\n",
    "\n",
    "        # boxes, 6 yard box and goals\n",
    "\n",
    "            #outer boxes#\n",
    "        lx2 = [13.84,13.84,54.16,54.16] \n",
    "        ly2 = [104,87.5,87.5,104]\n",
    "        plt.plot(lx2,ly2,color=line,zorder=5)\n",
    "\n",
    "        lx3 = [13.84,13.84,54.16,54.16] \n",
    "        ly3 = [0,16.5,16.5,0]\n",
    "        plt.plot(lx3,ly3,color=line,zorder=5)\n",
    "\n",
    "            #goals#\n",
    "        lx4 = [30.34,30.34,37.66,37.66]\n",
    "        ly4 = [104,104.2,104.2,104]\n",
    "        plt.plot(lx4,ly4,color=line,zorder=5)\n",
    "\n",
    "        lx5 = [30.34,30.34,37.66,37.66]\n",
    "        ly5 = [0,-0.2,-0.2,0]\n",
    "        plt.plot(lx5,ly5,color=line,zorder=5)\n",
    "\n",
    "\n",
    "           #6 yard boxes#\n",
    "        lx6 = [24.84,24.84,43.16,43.16]\n",
    "        ly6 = [104,99.5,99.5,104]\n",
    "        plt.plot(lx6,ly6,color=line,zorder=5)\n",
    "\n",
    "        lx7 = [24.84,24.84,43.16,43.16]\n",
    "        ly7 = [0,4.5,4.5,0]\n",
    "        plt.plot(lx7,ly7,color=line,zorder=5)\n",
    "\n",
    "        #Halfway line, penalty spots, and kickoff spot\n",
    "        lx8 = [0,68] \n",
    "        ly8 = [52,52]\n",
    "        plt.plot(lx8,ly8,color=line,zorder=5)\n",
    "\n",
    "\n",
    "        plt.scatter(34,93,color=line,zorder=5)\n",
    "        plt.scatter(34,11,color=line,zorder=5)\n",
    "        plt.scatter(34,52,color=line,zorder=5)\n",
    "\n",
    "        circle1 = plt.Circle((34,93.5), 9.15,ls='solid',lw=1.5,color=line, fill=False, zorder=1,alpha=1)\n",
    "        circle2 = plt.Circle((34,10.5), 9.15,ls='solid',lw=1.5,color=line, fill=False, zorder=1,alpha=1)\n",
    "        circle3 = plt.Circle((34,52), 9.15,ls='solid',lw=1.5,color=line, fill=False, zorder=2,alpha=1)\n",
    "\n",
    "\n",
    "        ## Rectangles in boxes\n",
    "        rec1 = plt.Rectangle((20, 87.5), 30,16.5,ls='-',color=pitch, zorder=1,alpha=1)\n",
    "        rec2 = plt.Rectangle((20, 0), 30,16.5,ls='-',color=pitch, zorder=1,alpha=1)\n",
    "\n",
    "        ## Pitch rectangle\n",
    "        rec3 = plt.Rectangle((-1, -1), 70,106,ls='-',color=pitch, zorder=1,alpha=1)\n",
    "\n",
    "        ax.add_artist(rec3)\n",
    "        ax.add_artist(circle1)\n",
    "        ax.add_artist(circle2)\n",
    "        ax.add_artist(rec1)\n",
    "        ax.add_artist(rec2)\n",
    "        ax.add_artist(circle3)\n",
    "#         im = OffsetImage(img)\n",
    "#         im.image.axes = ax\n",
    "#         xy = (0,100)\n",
    "#         ab = AnnotationBbox(im, xy)\n",
    "#         ax.add_artist(ab)\n",
    "        tls.mpl_to_plotly(fig)\n",
    "        return fig\n",
    "       "
   ]
  },
  {
   "cell_type": "code",
   "execution_count": 132,
   "metadata": {},
   "outputs": [
    {
     "data": {
      "text/plain": [
       "{'data': [{'hoverlabel': {'namelength': 0},\n",
       "   'hovertemplate': 'binned_pass_length=No Pass<br>Frequency=%{r}<br>Angle=%{theta}',\n",
       "   'legendgroup': 'B',\n",
       "   'marker': {'color': '#19d3f3'},\n",
       "   'name': 'binned_pass_length=No Pass',\n",
       "   'r': array([0., 0., 0., 0., 0., 0., 0., 0., 0.]),\n",
       "   'showlegend': True,\n",
       "   'subplot': 'polar',\n",
       "   'theta': array([-165., -150., -135., -120., -105.,  -90.,  -75.,  -30.,  165.]),\n",
       "   'type': 'barpolar'},\n",
       "  {'hoverlabel': {'namelength': 0},\n",
       "   'hovertemplate': 'binned_pass_length=very_short<br>Frequency=%{r}<br>Angle=%{theta}',\n",
       "   'legendgroup': 'B',\n",
       "   'marker': {'color': 'rgb(252, 219, 3)'},\n",
       "   'name': 'binned_pass_length=very_short',\n",
       "   'r': array([1.]),\n",
       "   'showlegend': True,\n",
       "   'subplot': 'polar',\n",
       "   'theta': array([-60.]),\n",
       "   'type': 'barpolar'},\n",
       "  {'hoverlabel': {'namelength': 0},\n",
       "   'hovertemplate': 'binned_pass_length=medium<br>Frequency=%{r}<br>Angle=%{theta}',\n",
       "   'legendgroup': 'B',\n",
       "   'marker': {'color': 'rgb(252, 123, 3)'},\n",
       "   'name': 'binned_pass_length=medium',\n",
       "   'r': array([1., 3., 4., 2., 1., 1., 1.]),\n",
       "   'showlegend': True,\n",
       "   'subplot': 'polar',\n",
       "   'theta': array([-45.,  30.,  45.,  90., 105., 120., 150.]),\n",
       "   'type': 'barpolar'},\n",
       "  {'hoverlabel': {'namelength': 0},\n",
       "   'hovertemplate': 'binned_pass_length=long<br>Frequency=%{r}<br>Angle=%{theta}',\n",
       "   'legendgroup': 'B',\n",
       "   'marker': {'color': 'rgb(252, 10, 3)'},\n",
       "   'name': 'binned_pass_length=long',\n",
       "   'r': array([2., 3., 3., 1.]),\n",
       "   'showlegend': True,\n",
       "   'subplot': 'polar',\n",
       "   'theta': array([-15.,  15.,  60., 135.]),\n",
       "   'type': 'barpolar'},\n",
       "  {'hoverlabel': {'namelength': 0},\n",
       "   'hovertemplate': 'binned_pass_length=very_long<br>Frequency=%{r}<br>Angle=%{theta}',\n",
       "   'legendgroup': 'B',\n",
       "   'marker': {'color': 'rgb(252, 3, 3)'},\n",
       "   'name': 'binned_pass_length=very_long',\n",
       "   'r': array([4.]),\n",
       "   'showlegend': True,\n",
       "   'subplot': 'polar',\n",
       "   'theta': array([0.]),\n",
       "   'type': 'barpolar'},\n",
       "  {'hoverlabel': {'namelength': 0},\n",
       "   'hovertemplate': 'binned_pass_length=short<br>Frequency=%{r}<br>Angle=%{theta}',\n",
       "   'legendgroup': 'B',\n",
       "   'marker': {'color': 'rgb(252, 177, 3)'},\n",
       "   'name': 'binned_pass_length=short',\n",
       "   'r': array([3.]),\n",
       "   'showlegend': True,\n",
       "   'subplot': 'polar',\n",
       "   'theta': array([75.]),\n",
       "   'type': 'barpolar'}],\n",
       " 'layout': {'autosize': False,\n",
       "  'barmode': 'relative',\n",
       "  'height': 600,\n",
       "  'legend': {'tracegroupgap': 0},\n",
       "  'margin': {'t': 60},\n",
       "  'paper_bgcolor': 'rgba(0,0,0,0)',\n",
       "  'polar': {'angularaxis': {'color': 'rgba(0,0,0,0)',\n",
       "    'direction': 'clockwise',\n",
       "    'gridcolor': 'rgba(0,0,0,0)',\n",
       "    'linecolor': 'rgba(0,0,0,0)',\n",
       "    'rotation': 90},\n",
       "   'bgcolor': 'rgba(0,0,0,0)',\n",
       "   'domain': {'x': [0.0, 1.0], 'y': [0.0, 1.0]},\n",
       "   'radialaxis': {'color': 'rgba(0,0,0,0)',\n",
       "    'gridcolor': 'rgba(0,0,0,0)',\n",
       "    'linecolor': 'rgba(0,0,0,0)'}},\n",
       "  'showlegend': False,\n",
       "  'template': {}}}"
      ]
     },
     "execution_count": 132,
     "metadata": {},
     "output_type": "execute_result"
    }
   ],
   "source": [
    "wagon_plots['Chul Hong']"
   ]
  },
  {
   "cell_type": "code",
   "execution_count": 113,
   "metadata": {},
   "outputs": [],
   "source": [
    "fig = draw_pitch(\"#195905\",\"#faf0e6\",\"vertical\",\"full\")"
   ]
  },
  {
   "cell_type": "code",
   "execution_count": 114,
   "metadata": {},
   "outputs": [],
   "source": [
    "fig = tls.mpl_to_plotly(fig)"
   ]
  },
  {
   "cell_type": "code",
   "execution_count": 115,
   "metadata": {},
   "outputs": [],
   "source": [
    "fig.update_layout(paper_bgcolor='green',plot_bgcolor=\"green\")\n",
    "dic = fig.to_dict()"
   ]
  },
  {
   "cell_type": "code",
   "execution_count": 116,
   "metadata": {},
   "outputs": [],
   "source": [
    "specs = {\"type\": \"barpolar\"}\n",
    "specs_array = []\n",
    "arr = []\n",
    "for i in range(5):\n",
    "    for j in range(5):        \n",
    "        arr.append(specs)\n",
    "    specs_array.append(arr)\n",
    "    arr= []\n",
    "    "
   ]
  },
  {
   "cell_type": "code",
   "execution_count": 117,
   "metadata": {},
   "outputs": [],
   "source": [
    "from plotly.subplots import make_subplots\n",
    "import plotly.graph_objects as go\n",
    "fig2 = make_subplots(rows=5, cols=5,specs=specs_array,subplot_titles=(  '','','','','',     '','Left Wing', 'Center Forward', 'Right Wing','',    '', 'Left Center Midfield', 'Center Attacking Midfield','Right Center Midfield', '','Left Back', 'Left Center Back' ,'','Right Center Back', 'Right Back' ,'','','Goalkeeper','',''),\n",
    "                     vertical_spacing= 0.01\n",
    "        \n",
    "                    \n",
    "                    )"
   ]
  },
  {
   "cell_type": "code",
   "execution_count": 154,
   "metadata": {},
   "outputs": [],
   "source": [
    "from plotly.subplots import make_subplots\n",
    "import plotly.graph_objects as go\n",
    "fig2 = make_subplots(rows=5, cols=5,specs=specs_array,subplot_titles=(  '','','','','',     '','Left Center Forward', '', 'Right Center Forward','',    'Left Midfield', 'Left Center Midfield', '','Right Center Midfield', 'Right Midfield','Left Back', 'Left Center Back' ,'','Right Center Back', 'Right Back' ,'','','Goalkeeper','',''),\n",
    "                     vertical_spacing= 0.01\n",
    "        \n",
    "                    \n",
    "                    )"
   ]
  },
  {
   "cell_type": "code",
   "execution_count": 155,
   "metadata": {},
   "outputs": [
    {
     "data": {
      "application/vnd.plotly.v1+json": {
       "config": {
        "plotlyServerURL": "https://plot.ly"
       },
       "data": [],
       "layout": {
        "annotations": [
         {
          "font": {
           "size": 16
          },
          "showarrow": false,
          "text": "Left Center Forward",
          "x": 0.292,
          "xanchor": "center",
          "xref": "paper",
          "y": 0.798,
          "yanchor": "bottom",
          "yref": "paper"
         },
         {
          "font": {
           "size": 16
          },
          "showarrow": false,
          "text": "Right Center Forward",
          "x": 0.708,
          "xanchor": "center",
          "xref": "paper",
          "y": 0.798,
          "yanchor": "bottom",
          "yref": "paper"
         },
         {
          "font": {
           "size": 16
          },
          "showarrow": false,
          "text": "Left Midfield",
          "x": 0.08399999999999999,
          "xanchor": "center",
          "xref": "paper",
          "y": 0.5960000000000001,
          "yanchor": "bottom",
          "yref": "paper"
         },
         {
          "font": {
           "size": 16
          },
          "showarrow": false,
          "text": "Left Center Midfield",
          "x": 0.292,
          "xanchor": "center",
          "xref": "paper",
          "y": 0.5960000000000001,
          "yanchor": "bottom",
          "yref": "paper"
         },
         {
          "font": {
           "size": 16
          },
          "showarrow": false,
          "text": "Right Center Midfield",
          "x": 0.708,
          "xanchor": "center",
          "xref": "paper",
          "y": 0.5960000000000001,
          "yanchor": "bottom",
          "yref": "paper"
         },
         {
          "font": {
           "size": 16
          },
          "showarrow": false,
          "text": "Right Midfield",
          "x": 0.9159999999999999,
          "xanchor": "center",
          "xref": "paper",
          "y": 0.5960000000000001,
          "yanchor": "bottom",
          "yref": "paper"
         },
         {
          "font": {
           "size": 16
          },
          "showarrow": false,
          "text": "Left Back",
          "x": 0.08399999999999999,
          "xanchor": "center",
          "xref": "paper",
          "y": 0.394,
          "yanchor": "bottom",
          "yref": "paper"
         },
         {
          "font": {
           "size": 16
          },
          "showarrow": false,
          "text": "Left Center Back",
          "x": 0.292,
          "xanchor": "center",
          "xref": "paper",
          "y": 0.394,
          "yanchor": "bottom",
          "yref": "paper"
         },
         {
          "font": {
           "size": 16
          },
          "showarrow": false,
          "text": "Right Center Back",
          "x": 0.708,
          "xanchor": "center",
          "xref": "paper",
          "y": 0.394,
          "yanchor": "bottom",
          "yref": "paper"
         },
         {
          "font": {
           "size": 16
          },
          "showarrow": false,
          "text": "Right Back",
          "x": 0.9159999999999999,
          "xanchor": "center",
          "xref": "paper",
          "y": 0.394,
          "yanchor": "bottom",
          "yref": "paper"
         },
         {
          "font": {
           "size": 16
          },
          "showarrow": false,
          "text": "Goalkeeper",
          "x": 0.5,
          "xanchor": "center",
          "xref": "paper",
          "y": 0.192,
          "yanchor": "bottom",
          "yref": "paper"
         }
        ],
        "polar": {
         "domain": {
          "x": [
           0,
           0.16799999999999998
          ],
          "y": [
           0.808,
           1
          ]
         }
        },
        "polar10": {
         "domain": {
          "x": [
           0.832,
           1
          ],
          "y": [
           0.6060000000000001,
           0.798
          ]
         }
        },
        "polar11": {
         "domain": {
          "x": [
           0,
           0.16799999999999998
          ],
          "y": [
           0.404,
           0.5960000000000001
          ]
         }
        },
        "polar12": {
         "domain": {
          "x": [
           0.208,
           0.376
          ],
          "y": [
           0.404,
           0.5960000000000001
          ]
         }
        },
        "polar13": {
         "domain": {
          "x": [
           0.416,
           0.584
          ],
          "y": [
           0.404,
           0.5960000000000001
          ]
         }
        },
        "polar14": {
         "domain": {
          "x": [
           0.624,
           0.792
          ],
          "y": [
           0.404,
           0.5960000000000001
          ]
         }
        },
        "polar15": {
         "domain": {
          "x": [
           0.832,
           1
          ],
          "y": [
           0.404,
           0.5960000000000001
          ]
         }
        },
        "polar16": {
         "domain": {
          "x": [
           0,
           0.16799999999999998
          ],
          "y": [
           0.202,
           0.394
          ]
         }
        },
        "polar17": {
         "domain": {
          "x": [
           0.208,
           0.376
          ],
          "y": [
           0.202,
           0.394
          ]
         }
        },
        "polar18": {
         "domain": {
          "x": [
           0.416,
           0.584
          ],
          "y": [
           0.202,
           0.394
          ]
         }
        },
        "polar19": {
         "domain": {
          "x": [
           0.624,
           0.792
          ],
          "y": [
           0.202,
           0.394
          ]
         }
        },
        "polar2": {
         "domain": {
          "x": [
           0.208,
           0.376
          ],
          "y": [
           0.808,
           1
          ]
         }
        },
        "polar20": {
         "domain": {
          "x": [
           0.832,
           1
          ],
          "y": [
           0.202,
           0.394
          ]
         }
        },
        "polar21": {
         "domain": {
          "x": [
           0,
           0.16799999999999998
          ],
          "y": [
           0,
           0.192
          ]
         }
        },
        "polar22": {
         "domain": {
          "x": [
           0.208,
           0.376
          ],
          "y": [
           0,
           0.192
          ]
         }
        },
        "polar23": {
         "domain": {
          "x": [
           0.416,
           0.584
          ],
          "y": [
           0,
           0.192
          ]
         }
        },
        "polar24": {
         "domain": {
          "x": [
           0.624,
           0.792
          ],
          "y": [
           0,
           0.192
          ]
         }
        },
        "polar25": {
         "domain": {
          "x": [
           0.832,
           1
          ],
          "y": [
           0,
           0.192
          ]
         }
        },
        "polar3": {
         "domain": {
          "x": [
           0.416,
           0.584
          ],
          "y": [
           0.808,
           1
          ]
         }
        },
        "polar4": {
         "domain": {
          "x": [
           0.624,
           0.792
          ],
          "y": [
           0.808,
           1
          ]
         }
        },
        "polar5": {
         "domain": {
          "x": [
           0.832,
           1
          ],
          "y": [
           0.808,
           1
          ]
         }
        },
        "polar6": {
         "domain": {
          "x": [
           0,
           0.16799999999999998
          ],
          "y": [
           0.6060000000000001,
           0.798
          ]
         }
        },
        "polar7": {
         "domain": {
          "x": [
           0.208,
           0.376
          ],
          "y": [
           0.6060000000000001,
           0.798
          ]
         }
        },
        "polar8": {
         "domain": {
          "x": [
           0.416,
           0.584
          ],
          "y": [
           0.6060000000000001,
           0.798
          ]
         }
        },
        "polar9": {
         "domain": {
          "x": [
           0.624,
           0.792
          ],
          "y": [
           0.6060000000000001,
           0.798
          ]
         }
        },
        "template": {
         "data": {
          "bar": [
           {
            "error_x": {
             "color": "#2a3f5f"
            },
            "error_y": {
             "color": "#2a3f5f"
            },
            "marker": {
             "line": {
              "color": "#E5ECF6",
              "width": 0.5
             }
            },
            "type": "bar"
           }
          ],
          "barpolar": [
           {
            "marker": {
             "line": {
              "color": "#E5ECF6",
              "width": 0.5
             }
            },
            "type": "barpolar"
           }
          ],
          "carpet": [
           {
            "aaxis": {
             "endlinecolor": "#2a3f5f",
             "gridcolor": "white",
             "linecolor": "white",
             "minorgridcolor": "white",
             "startlinecolor": "#2a3f5f"
            },
            "baxis": {
             "endlinecolor": "#2a3f5f",
             "gridcolor": "white",
             "linecolor": "white",
             "minorgridcolor": "white",
             "startlinecolor": "#2a3f5f"
            },
            "type": "carpet"
           }
          ],
          "choropleth": [
           {
            "colorbar": {
             "outlinewidth": 0,
             "ticks": ""
            },
            "type": "choropleth"
           }
          ],
          "contour": [
           {
            "colorbar": {
             "outlinewidth": 0,
             "ticks": ""
            },
            "colorscale": [
             [
              0,
              "#0d0887"
             ],
             [
              0.1111111111111111,
              "#46039f"
             ],
             [
              0.2222222222222222,
              "#7201a8"
             ],
             [
              0.3333333333333333,
              "#9c179e"
             ],
             [
              0.4444444444444444,
              "#bd3786"
             ],
             [
              0.5555555555555556,
              "#d8576b"
             ],
             [
              0.6666666666666666,
              "#ed7953"
             ],
             [
              0.7777777777777778,
              "#fb9f3a"
             ],
             [
              0.8888888888888888,
              "#fdca26"
             ],
             [
              1,
              "#f0f921"
             ]
            ],
            "type": "contour"
           }
          ],
          "contourcarpet": [
           {
            "colorbar": {
             "outlinewidth": 0,
             "ticks": ""
            },
            "type": "contourcarpet"
           }
          ],
          "heatmap": [
           {
            "colorbar": {
             "outlinewidth": 0,
             "ticks": ""
            },
            "colorscale": [
             [
              0,
              "#0d0887"
             ],
             [
              0.1111111111111111,
              "#46039f"
             ],
             [
              0.2222222222222222,
              "#7201a8"
             ],
             [
              0.3333333333333333,
              "#9c179e"
             ],
             [
              0.4444444444444444,
              "#bd3786"
             ],
             [
              0.5555555555555556,
              "#d8576b"
             ],
             [
              0.6666666666666666,
              "#ed7953"
             ],
             [
              0.7777777777777778,
              "#fb9f3a"
             ],
             [
              0.8888888888888888,
              "#fdca26"
             ],
             [
              1,
              "#f0f921"
             ]
            ],
            "type": "heatmap"
           }
          ],
          "heatmapgl": [
           {
            "colorbar": {
             "outlinewidth": 0,
             "ticks": ""
            },
            "colorscale": [
             [
              0,
              "#0d0887"
             ],
             [
              0.1111111111111111,
              "#46039f"
             ],
             [
              0.2222222222222222,
              "#7201a8"
             ],
             [
              0.3333333333333333,
              "#9c179e"
             ],
             [
              0.4444444444444444,
              "#bd3786"
             ],
             [
              0.5555555555555556,
              "#d8576b"
             ],
             [
              0.6666666666666666,
              "#ed7953"
             ],
             [
              0.7777777777777778,
              "#fb9f3a"
             ],
             [
              0.8888888888888888,
              "#fdca26"
             ],
             [
              1,
              "#f0f921"
             ]
            ],
            "type": "heatmapgl"
           }
          ],
          "histogram": [
           {
            "marker": {
             "colorbar": {
              "outlinewidth": 0,
              "ticks": ""
             }
            },
            "type": "histogram"
           }
          ],
          "histogram2d": [
           {
            "colorbar": {
             "outlinewidth": 0,
             "ticks": ""
            },
            "colorscale": [
             [
              0,
              "#0d0887"
             ],
             [
              0.1111111111111111,
              "#46039f"
             ],
             [
              0.2222222222222222,
              "#7201a8"
             ],
             [
              0.3333333333333333,
              "#9c179e"
             ],
             [
              0.4444444444444444,
              "#bd3786"
             ],
             [
              0.5555555555555556,
              "#d8576b"
             ],
             [
              0.6666666666666666,
              "#ed7953"
             ],
             [
              0.7777777777777778,
              "#fb9f3a"
             ],
             [
              0.8888888888888888,
              "#fdca26"
             ],
             [
              1,
              "#f0f921"
             ]
            ],
            "type": "histogram2d"
           }
          ],
          "histogram2dcontour": [
           {
            "colorbar": {
             "outlinewidth": 0,
             "ticks": ""
            },
            "colorscale": [
             [
              0,
              "#0d0887"
             ],
             [
              0.1111111111111111,
              "#46039f"
             ],
             [
              0.2222222222222222,
              "#7201a8"
             ],
             [
              0.3333333333333333,
              "#9c179e"
             ],
             [
              0.4444444444444444,
              "#bd3786"
             ],
             [
              0.5555555555555556,
              "#d8576b"
             ],
             [
              0.6666666666666666,
              "#ed7953"
             ],
             [
              0.7777777777777778,
              "#fb9f3a"
             ],
             [
              0.8888888888888888,
              "#fdca26"
             ],
             [
              1,
              "#f0f921"
             ]
            ],
            "type": "histogram2dcontour"
           }
          ],
          "mesh3d": [
           {
            "colorbar": {
             "outlinewidth": 0,
             "ticks": ""
            },
            "type": "mesh3d"
           }
          ],
          "parcoords": [
           {
            "line": {
             "colorbar": {
              "outlinewidth": 0,
              "ticks": ""
             }
            },
            "type": "parcoords"
           }
          ],
          "pie": [
           {
            "automargin": true,
            "type": "pie"
           }
          ],
          "scatter": [
           {
            "marker": {
             "colorbar": {
              "outlinewidth": 0,
              "ticks": ""
             }
            },
            "type": "scatter"
           }
          ],
          "scatter3d": [
           {
            "line": {
             "colorbar": {
              "outlinewidth": 0,
              "ticks": ""
             }
            },
            "marker": {
             "colorbar": {
              "outlinewidth": 0,
              "ticks": ""
             }
            },
            "type": "scatter3d"
           }
          ],
          "scattercarpet": [
           {
            "marker": {
             "colorbar": {
              "outlinewidth": 0,
              "ticks": ""
             }
            },
            "type": "scattercarpet"
           }
          ],
          "scattergeo": [
           {
            "marker": {
             "colorbar": {
              "outlinewidth": 0,
              "ticks": ""
             }
            },
            "type": "scattergeo"
           }
          ],
          "scattergl": [
           {
            "marker": {
             "colorbar": {
              "outlinewidth": 0,
              "ticks": ""
             }
            },
            "type": "scattergl"
           }
          ],
          "scattermapbox": [
           {
            "marker": {
             "colorbar": {
              "outlinewidth": 0,
              "ticks": ""
             }
            },
            "type": "scattermapbox"
           }
          ],
          "scatterpolar": [
           {
            "marker": {
             "colorbar": {
              "outlinewidth": 0,
              "ticks": ""
             }
            },
            "type": "scatterpolar"
           }
          ],
          "scatterpolargl": [
           {
            "marker": {
             "colorbar": {
              "outlinewidth": 0,
              "ticks": ""
             }
            },
            "type": "scatterpolargl"
           }
          ],
          "scatterternary": [
           {
            "marker": {
             "colorbar": {
              "outlinewidth": 0,
              "ticks": ""
             }
            },
            "type": "scatterternary"
           }
          ],
          "surface": [
           {
            "colorbar": {
             "outlinewidth": 0,
             "ticks": ""
            },
            "colorscale": [
             [
              0,
              "#0d0887"
             ],
             [
              0.1111111111111111,
              "#46039f"
             ],
             [
              0.2222222222222222,
              "#7201a8"
             ],
             [
              0.3333333333333333,
              "#9c179e"
             ],
             [
              0.4444444444444444,
              "#bd3786"
             ],
             [
              0.5555555555555556,
              "#d8576b"
             ],
             [
              0.6666666666666666,
              "#ed7953"
             ],
             [
              0.7777777777777778,
              "#fb9f3a"
             ],
             [
              0.8888888888888888,
              "#fdca26"
             ],
             [
              1,
              "#f0f921"
             ]
            ],
            "type": "surface"
           }
          ],
          "table": [
           {
            "cells": {
             "fill": {
              "color": "#EBF0F8"
             },
             "line": {
              "color": "white"
             }
            },
            "header": {
             "fill": {
              "color": "#C8D4E3"
             },
             "line": {
              "color": "white"
             }
            },
            "type": "table"
           }
          ]
         },
         "layout": {
          "annotationdefaults": {
           "arrowcolor": "#2a3f5f",
           "arrowhead": 0,
           "arrowwidth": 1
          },
          "coloraxis": {
           "colorbar": {
            "outlinewidth": 0,
            "ticks": ""
           }
          },
          "colorscale": {
           "diverging": [
            [
             0,
             "#8e0152"
            ],
            [
             0.1,
             "#c51b7d"
            ],
            [
             0.2,
             "#de77ae"
            ],
            [
             0.3,
             "#f1b6da"
            ],
            [
             0.4,
             "#fde0ef"
            ],
            [
             0.5,
             "#f7f7f7"
            ],
            [
             0.6,
             "#e6f5d0"
            ],
            [
             0.7,
             "#b8e186"
            ],
            [
             0.8,
             "#7fbc41"
            ],
            [
             0.9,
             "#4d9221"
            ],
            [
             1,
             "#276419"
            ]
           ],
           "sequential": [
            [
             0,
             "#0d0887"
            ],
            [
             0.1111111111111111,
             "#46039f"
            ],
            [
             0.2222222222222222,
             "#7201a8"
            ],
            [
             0.3333333333333333,
             "#9c179e"
            ],
            [
             0.4444444444444444,
             "#bd3786"
            ],
            [
             0.5555555555555556,
             "#d8576b"
            ],
            [
             0.6666666666666666,
             "#ed7953"
            ],
            [
             0.7777777777777778,
             "#fb9f3a"
            ],
            [
             0.8888888888888888,
             "#fdca26"
            ],
            [
             1,
             "#f0f921"
            ]
           ],
           "sequentialminus": [
            [
             0,
             "#0d0887"
            ],
            [
             0.1111111111111111,
             "#46039f"
            ],
            [
             0.2222222222222222,
             "#7201a8"
            ],
            [
             0.3333333333333333,
             "#9c179e"
            ],
            [
             0.4444444444444444,
             "#bd3786"
            ],
            [
             0.5555555555555556,
             "#d8576b"
            ],
            [
             0.6666666666666666,
             "#ed7953"
            ],
            [
             0.7777777777777778,
             "#fb9f3a"
            ],
            [
             0.8888888888888888,
             "#fdca26"
            ],
            [
             1,
             "#f0f921"
            ]
           ]
          },
          "colorway": [
           "#636efa",
           "#EF553B",
           "#00cc96",
           "#ab63fa",
           "#FFA15A",
           "#19d3f3",
           "#FF6692",
           "#B6E880",
           "#FF97FF",
           "#FECB52"
          ],
          "font": {
           "color": "#2a3f5f"
          },
          "geo": {
           "bgcolor": "white",
           "lakecolor": "white",
           "landcolor": "#E5ECF6",
           "showlakes": true,
           "showland": true,
           "subunitcolor": "white"
          },
          "hoverlabel": {
           "align": "left"
          },
          "hovermode": "closest",
          "mapbox": {
           "style": "light"
          },
          "paper_bgcolor": "white",
          "plot_bgcolor": "#E5ECF6",
          "polar": {
           "angularaxis": {
            "gridcolor": "white",
            "linecolor": "white",
            "ticks": ""
           },
           "bgcolor": "#E5ECF6",
           "radialaxis": {
            "gridcolor": "white",
            "linecolor": "white",
            "ticks": ""
           }
          },
          "scene": {
           "xaxis": {
            "backgroundcolor": "#E5ECF6",
            "gridcolor": "white",
            "gridwidth": 2,
            "linecolor": "white",
            "showbackground": true,
            "ticks": "",
            "zerolinecolor": "white"
           },
           "yaxis": {
            "backgroundcolor": "#E5ECF6",
            "gridcolor": "white",
            "gridwidth": 2,
            "linecolor": "white",
            "showbackground": true,
            "ticks": "",
            "zerolinecolor": "white"
           },
           "zaxis": {
            "backgroundcolor": "#E5ECF6",
            "gridcolor": "white",
            "gridwidth": 2,
            "linecolor": "white",
            "showbackground": true,
            "ticks": "",
            "zerolinecolor": "white"
           }
          },
          "shapedefaults": {
           "line": {
            "color": "#2a3f5f"
           }
          },
          "ternary": {
           "aaxis": {
            "gridcolor": "white",
            "linecolor": "white",
            "ticks": ""
           },
           "baxis": {
            "gridcolor": "white",
            "linecolor": "white",
            "ticks": ""
           },
           "bgcolor": "#E5ECF6",
           "caxis": {
            "gridcolor": "white",
            "linecolor": "white",
            "ticks": ""
           }
          },
          "title": {
           "x": 0.05
          },
          "xaxis": {
           "automargin": true,
           "gridcolor": "white",
           "linecolor": "white",
           "ticks": "",
           "title": {
            "standoff": 15
           },
           "zerolinecolor": "white",
           "zerolinewidth": 2
          },
          "yaxis": {
           "automargin": true,
           "gridcolor": "white",
           "linecolor": "white",
           "ticks": "",
           "title": {
            "standoff": 15
           },
           "zerolinecolor": "white",
           "zerolinewidth": 2
          }
         }
        }
       }
      },
      "text/html": [
       "<div>\n",
       "        \n",
       "        \n",
       "            <div id=\"34a3f2ad-75ad-4bdd-848e-9cdab7fab45e\" class=\"plotly-graph-div\" style=\"height:525px; width:100%;\"></div>\n",
       "            <script type=\"text/javascript\">\n",
       "                require([\"plotly\"], function(Plotly) {\n",
       "                    window.PLOTLYENV=window.PLOTLYENV || {};\n",
       "                    \n",
       "                if (document.getElementById(\"34a3f2ad-75ad-4bdd-848e-9cdab7fab45e\")) {\n",
       "                    Plotly.newPlot(\n",
       "                        '34a3f2ad-75ad-4bdd-848e-9cdab7fab45e',\n",
       "                        [],\n",
       "                        {\"annotations\": [{\"font\": {\"size\": 16}, \"showarrow\": false, \"text\": \"Left Center Forward\", \"x\": 0.292, \"xanchor\": \"center\", \"xref\": \"paper\", \"y\": 0.798, \"yanchor\": \"bottom\", \"yref\": \"paper\"}, {\"font\": {\"size\": 16}, \"showarrow\": false, \"text\": \"Right Center Forward\", \"x\": 0.708, \"xanchor\": \"center\", \"xref\": \"paper\", \"y\": 0.798, \"yanchor\": \"bottom\", \"yref\": \"paper\"}, {\"font\": {\"size\": 16}, \"showarrow\": false, \"text\": \"Left Midfield\", \"x\": 0.08399999999999999, \"xanchor\": \"center\", \"xref\": \"paper\", \"y\": 0.5960000000000001, \"yanchor\": \"bottom\", \"yref\": \"paper\"}, {\"font\": {\"size\": 16}, \"showarrow\": false, \"text\": \"Left Center Midfield\", \"x\": 0.292, \"xanchor\": \"center\", \"xref\": \"paper\", \"y\": 0.5960000000000001, \"yanchor\": \"bottom\", \"yref\": \"paper\"}, {\"font\": {\"size\": 16}, \"showarrow\": false, \"text\": \"Right Center Midfield\", \"x\": 0.708, \"xanchor\": \"center\", \"xref\": \"paper\", \"y\": 0.5960000000000001, \"yanchor\": \"bottom\", \"yref\": \"paper\"}, {\"font\": {\"size\": 16}, \"showarrow\": false, \"text\": \"Right Midfield\", \"x\": 0.9159999999999999, \"xanchor\": \"center\", \"xref\": \"paper\", \"y\": 0.5960000000000001, \"yanchor\": \"bottom\", \"yref\": \"paper\"}, {\"font\": {\"size\": 16}, \"showarrow\": false, \"text\": \"Left Back\", \"x\": 0.08399999999999999, \"xanchor\": \"center\", \"xref\": \"paper\", \"y\": 0.394, \"yanchor\": \"bottom\", \"yref\": \"paper\"}, {\"font\": {\"size\": 16}, \"showarrow\": false, \"text\": \"Left Center Back\", \"x\": 0.292, \"xanchor\": \"center\", \"xref\": \"paper\", \"y\": 0.394, \"yanchor\": \"bottom\", \"yref\": \"paper\"}, {\"font\": {\"size\": 16}, \"showarrow\": false, \"text\": \"Right Center Back\", \"x\": 0.708, \"xanchor\": \"center\", \"xref\": \"paper\", \"y\": 0.394, \"yanchor\": \"bottom\", \"yref\": \"paper\"}, {\"font\": {\"size\": 16}, \"showarrow\": false, \"text\": \"Right Back\", \"x\": 0.9159999999999999, \"xanchor\": \"center\", \"xref\": \"paper\", \"y\": 0.394, \"yanchor\": \"bottom\", \"yref\": \"paper\"}, {\"font\": {\"size\": 16}, \"showarrow\": false, \"text\": \"Goalkeeper\", \"x\": 0.5, \"xanchor\": \"center\", \"xref\": \"paper\", \"y\": 0.192, \"yanchor\": \"bottom\", \"yref\": \"paper\"}], \"polar\": {\"domain\": {\"x\": [0.0, 0.16799999999999998], \"y\": [0.808, 1.0]}}, \"polar10\": {\"domain\": {\"x\": [0.832, 1.0], \"y\": [0.6060000000000001, 0.798]}}, \"polar11\": {\"domain\": {\"x\": [0.0, 0.16799999999999998], \"y\": [0.404, 0.5960000000000001]}}, \"polar12\": {\"domain\": {\"x\": [0.208, 0.376], \"y\": [0.404, 0.5960000000000001]}}, \"polar13\": {\"domain\": {\"x\": [0.416, 0.584], \"y\": [0.404, 0.5960000000000001]}}, \"polar14\": {\"domain\": {\"x\": [0.624, 0.792], \"y\": [0.404, 0.5960000000000001]}}, \"polar15\": {\"domain\": {\"x\": [0.832, 1.0], \"y\": [0.404, 0.5960000000000001]}}, \"polar16\": {\"domain\": {\"x\": [0.0, 0.16799999999999998], \"y\": [0.202, 0.394]}}, \"polar17\": {\"domain\": {\"x\": [0.208, 0.376], \"y\": [0.202, 0.394]}}, \"polar18\": {\"domain\": {\"x\": [0.416, 0.584], \"y\": [0.202, 0.394]}}, \"polar19\": {\"domain\": {\"x\": [0.624, 0.792], \"y\": [0.202, 0.394]}}, \"polar2\": {\"domain\": {\"x\": [0.208, 0.376], \"y\": [0.808, 1.0]}}, \"polar20\": {\"domain\": {\"x\": [0.832, 1.0], \"y\": [0.202, 0.394]}}, \"polar21\": {\"domain\": {\"x\": [0.0, 0.16799999999999998], \"y\": [0.0, 0.192]}}, \"polar22\": {\"domain\": {\"x\": [0.208, 0.376], \"y\": [0.0, 0.192]}}, \"polar23\": {\"domain\": {\"x\": [0.416, 0.584], \"y\": [0.0, 0.192]}}, \"polar24\": {\"domain\": {\"x\": [0.624, 0.792], \"y\": [0.0, 0.192]}}, \"polar25\": {\"domain\": {\"x\": [0.832, 1.0], \"y\": [0.0, 0.192]}}, \"polar3\": {\"domain\": {\"x\": [0.416, 0.584], \"y\": [0.808, 1.0]}}, \"polar4\": {\"domain\": {\"x\": [0.624, 0.792], \"y\": [0.808, 1.0]}}, \"polar5\": {\"domain\": {\"x\": [0.832, 1.0], \"y\": [0.808, 1.0]}}, \"polar6\": {\"domain\": {\"x\": [0.0, 0.16799999999999998], \"y\": [0.6060000000000001, 0.798]}}, \"polar7\": {\"domain\": {\"x\": [0.208, 0.376], \"y\": [0.6060000000000001, 0.798]}}, \"polar8\": {\"domain\": {\"x\": [0.416, 0.584], \"y\": [0.6060000000000001, 0.798]}}, \"polar9\": {\"domain\": {\"x\": [0.624, 0.792], \"y\": [0.6060000000000001, 0.798]}}, \"template\": {\"data\": {\"bar\": [{\"error_x\": {\"color\": \"#2a3f5f\"}, \"error_y\": {\"color\": \"#2a3f5f\"}, \"marker\": {\"line\": {\"color\": \"#E5ECF6\", \"width\": 0.5}}, \"type\": \"bar\"}], \"barpolar\": [{\"marker\": {\"line\": {\"color\": \"#E5ECF6\", \"width\": 0.5}}, \"type\": \"barpolar\"}], \"carpet\": [{\"aaxis\": {\"endlinecolor\": \"#2a3f5f\", \"gridcolor\": \"white\", \"linecolor\": \"white\", \"minorgridcolor\": \"white\", \"startlinecolor\": \"#2a3f5f\"}, \"baxis\": {\"endlinecolor\": \"#2a3f5f\", \"gridcolor\": \"white\", \"linecolor\": \"white\", \"minorgridcolor\": \"white\", \"startlinecolor\": \"#2a3f5f\"}, \"type\": \"carpet\"}], \"choropleth\": [{\"colorbar\": {\"outlinewidth\": 0, \"ticks\": \"\"}, \"type\": \"choropleth\"}], \"contour\": [{\"colorbar\": {\"outlinewidth\": 0, \"ticks\": \"\"}, \"colorscale\": [[0.0, \"#0d0887\"], [0.1111111111111111, \"#46039f\"], [0.2222222222222222, \"#7201a8\"], [0.3333333333333333, \"#9c179e\"], [0.4444444444444444, \"#bd3786\"], [0.5555555555555556, \"#d8576b\"], [0.6666666666666666, \"#ed7953\"], [0.7777777777777778, \"#fb9f3a\"], [0.8888888888888888, \"#fdca26\"], [1.0, \"#f0f921\"]], \"type\": \"contour\"}], \"contourcarpet\": [{\"colorbar\": {\"outlinewidth\": 0, \"ticks\": \"\"}, \"type\": \"contourcarpet\"}], \"heatmap\": [{\"colorbar\": {\"outlinewidth\": 0, \"ticks\": \"\"}, \"colorscale\": [[0.0, \"#0d0887\"], [0.1111111111111111, \"#46039f\"], [0.2222222222222222, \"#7201a8\"], [0.3333333333333333, \"#9c179e\"], [0.4444444444444444, \"#bd3786\"], [0.5555555555555556, \"#d8576b\"], [0.6666666666666666, \"#ed7953\"], [0.7777777777777778, \"#fb9f3a\"], [0.8888888888888888, \"#fdca26\"], [1.0, \"#f0f921\"]], \"type\": \"heatmap\"}], \"heatmapgl\": [{\"colorbar\": {\"outlinewidth\": 0, \"ticks\": \"\"}, \"colorscale\": [[0.0, \"#0d0887\"], [0.1111111111111111, \"#46039f\"], [0.2222222222222222, \"#7201a8\"], [0.3333333333333333, \"#9c179e\"], [0.4444444444444444, \"#bd3786\"], [0.5555555555555556, \"#d8576b\"], [0.6666666666666666, \"#ed7953\"], [0.7777777777777778, \"#fb9f3a\"], [0.8888888888888888, \"#fdca26\"], [1.0, \"#f0f921\"]], \"type\": \"heatmapgl\"}], \"histogram\": [{\"marker\": {\"colorbar\": {\"outlinewidth\": 0, \"ticks\": \"\"}}, \"type\": \"histogram\"}], \"histogram2d\": [{\"colorbar\": {\"outlinewidth\": 0, \"ticks\": \"\"}, \"colorscale\": [[0.0, \"#0d0887\"], [0.1111111111111111, \"#46039f\"], [0.2222222222222222, \"#7201a8\"], [0.3333333333333333, \"#9c179e\"], [0.4444444444444444, \"#bd3786\"], [0.5555555555555556, \"#d8576b\"], [0.6666666666666666, \"#ed7953\"], [0.7777777777777778, \"#fb9f3a\"], [0.8888888888888888, \"#fdca26\"], [1.0, \"#f0f921\"]], \"type\": \"histogram2d\"}], \"histogram2dcontour\": [{\"colorbar\": {\"outlinewidth\": 0, \"ticks\": \"\"}, \"colorscale\": [[0.0, \"#0d0887\"], [0.1111111111111111, \"#46039f\"], [0.2222222222222222, \"#7201a8\"], [0.3333333333333333, \"#9c179e\"], [0.4444444444444444, \"#bd3786\"], [0.5555555555555556, \"#d8576b\"], [0.6666666666666666, \"#ed7953\"], [0.7777777777777778, \"#fb9f3a\"], [0.8888888888888888, \"#fdca26\"], [1.0, \"#f0f921\"]], \"type\": \"histogram2dcontour\"}], \"mesh3d\": [{\"colorbar\": {\"outlinewidth\": 0, \"ticks\": \"\"}, \"type\": \"mesh3d\"}], \"parcoords\": [{\"line\": {\"colorbar\": {\"outlinewidth\": 0, \"ticks\": \"\"}}, \"type\": \"parcoords\"}], \"pie\": [{\"automargin\": true, \"type\": \"pie\"}], \"scatter\": [{\"marker\": {\"colorbar\": {\"outlinewidth\": 0, \"ticks\": \"\"}}, \"type\": \"scatter\"}], \"scatter3d\": [{\"line\": {\"colorbar\": {\"outlinewidth\": 0, \"ticks\": \"\"}}, \"marker\": {\"colorbar\": {\"outlinewidth\": 0, \"ticks\": \"\"}}, \"type\": \"scatter3d\"}], \"scattercarpet\": [{\"marker\": {\"colorbar\": {\"outlinewidth\": 0, \"ticks\": \"\"}}, \"type\": \"scattercarpet\"}], \"scattergeo\": [{\"marker\": {\"colorbar\": {\"outlinewidth\": 0, \"ticks\": \"\"}}, \"type\": \"scattergeo\"}], \"scattergl\": [{\"marker\": {\"colorbar\": {\"outlinewidth\": 0, \"ticks\": \"\"}}, \"type\": \"scattergl\"}], \"scattermapbox\": [{\"marker\": {\"colorbar\": {\"outlinewidth\": 0, \"ticks\": \"\"}}, \"type\": \"scattermapbox\"}], \"scatterpolar\": [{\"marker\": {\"colorbar\": {\"outlinewidth\": 0, \"ticks\": \"\"}}, \"type\": \"scatterpolar\"}], \"scatterpolargl\": [{\"marker\": {\"colorbar\": {\"outlinewidth\": 0, \"ticks\": \"\"}}, \"type\": \"scatterpolargl\"}], \"scatterternary\": [{\"marker\": {\"colorbar\": {\"outlinewidth\": 0, \"ticks\": \"\"}}, \"type\": \"scatterternary\"}], \"surface\": [{\"colorbar\": {\"outlinewidth\": 0, \"ticks\": \"\"}, \"colorscale\": [[0.0, \"#0d0887\"], [0.1111111111111111, \"#46039f\"], [0.2222222222222222, \"#7201a8\"], [0.3333333333333333, \"#9c179e\"], [0.4444444444444444, \"#bd3786\"], [0.5555555555555556, \"#d8576b\"], [0.6666666666666666, \"#ed7953\"], [0.7777777777777778, \"#fb9f3a\"], [0.8888888888888888, \"#fdca26\"], [1.0, \"#f0f921\"]], \"type\": \"surface\"}], \"table\": [{\"cells\": {\"fill\": {\"color\": \"#EBF0F8\"}, \"line\": {\"color\": \"white\"}}, \"header\": {\"fill\": {\"color\": \"#C8D4E3\"}, \"line\": {\"color\": \"white\"}}, \"type\": \"table\"}]}, \"layout\": {\"annotationdefaults\": {\"arrowcolor\": \"#2a3f5f\", \"arrowhead\": 0, \"arrowwidth\": 1}, \"coloraxis\": {\"colorbar\": {\"outlinewidth\": 0, \"ticks\": \"\"}}, \"colorscale\": {\"diverging\": [[0, \"#8e0152\"], [0.1, \"#c51b7d\"], [0.2, \"#de77ae\"], [0.3, \"#f1b6da\"], [0.4, \"#fde0ef\"], [0.5, \"#f7f7f7\"], [0.6, \"#e6f5d0\"], [0.7, \"#b8e186\"], [0.8, \"#7fbc41\"], [0.9, \"#4d9221\"], [1, \"#276419\"]], \"sequential\": [[0.0, \"#0d0887\"], [0.1111111111111111, \"#46039f\"], [0.2222222222222222, \"#7201a8\"], [0.3333333333333333, \"#9c179e\"], [0.4444444444444444, \"#bd3786\"], [0.5555555555555556, \"#d8576b\"], [0.6666666666666666, \"#ed7953\"], [0.7777777777777778, \"#fb9f3a\"], [0.8888888888888888, \"#fdca26\"], [1.0, \"#f0f921\"]], \"sequentialminus\": [[0.0, \"#0d0887\"], [0.1111111111111111, \"#46039f\"], [0.2222222222222222, \"#7201a8\"], [0.3333333333333333, \"#9c179e\"], [0.4444444444444444, \"#bd3786\"], [0.5555555555555556, \"#d8576b\"], [0.6666666666666666, \"#ed7953\"], [0.7777777777777778, \"#fb9f3a\"], [0.8888888888888888, \"#fdca26\"], [1.0, \"#f0f921\"]]}, \"colorway\": [\"#636efa\", \"#EF553B\", \"#00cc96\", \"#ab63fa\", \"#FFA15A\", \"#19d3f3\", \"#FF6692\", \"#B6E880\", \"#FF97FF\", \"#FECB52\"], \"font\": {\"color\": \"#2a3f5f\"}, \"geo\": {\"bgcolor\": \"white\", \"lakecolor\": \"white\", \"landcolor\": \"#E5ECF6\", \"showlakes\": true, \"showland\": true, \"subunitcolor\": \"white\"}, \"hoverlabel\": {\"align\": \"left\"}, \"hovermode\": \"closest\", \"mapbox\": {\"style\": \"light\"}, \"paper_bgcolor\": \"white\", \"plot_bgcolor\": \"#E5ECF6\", \"polar\": {\"angularaxis\": {\"gridcolor\": \"white\", \"linecolor\": \"white\", \"ticks\": \"\"}, \"bgcolor\": \"#E5ECF6\", \"radialaxis\": {\"gridcolor\": \"white\", \"linecolor\": \"white\", \"ticks\": \"\"}}, \"scene\": {\"xaxis\": {\"backgroundcolor\": \"#E5ECF6\", \"gridcolor\": \"white\", \"gridwidth\": 2, \"linecolor\": \"white\", \"showbackground\": true, \"ticks\": \"\", \"zerolinecolor\": \"white\"}, \"yaxis\": {\"backgroundcolor\": \"#E5ECF6\", \"gridcolor\": \"white\", \"gridwidth\": 2, \"linecolor\": \"white\", \"showbackground\": true, \"ticks\": \"\", \"zerolinecolor\": \"white\"}, \"zaxis\": {\"backgroundcolor\": \"#E5ECF6\", \"gridcolor\": \"white\", \"gridwidth\": 2, \"linecolor\": \"white\", \"showbackground\": true, \"ticks\": \"\", \"zerolinecolor\": \"white\"}}, \"shapedefaults\": {\"line\": {\"color\": \"#2a3f5f\"}}, \"ternary\": {\"aaxis\": {\"gridcolor\": \"white\", \"linecolor\": \"white\", \"ticks\": \"\"}, \"baxis\": {\"gridcolor\": \"white\", \"linecolor\": \"white\", \"ticks\": \"\"}, \"bgcolor\": \"#E5ECF6\", \"caxis\": {\"gridcolor\": \"white\", \"linecolor\": \"white\", \"ticks\": \"\"}}, \"title\": {\"x\": 0.05}, \"xaxis\": {\"automargin\": true, \"gridcolor\": \"white\", \"linecolor\": \"white\", \"ticks\": \"\", \"title\": {\"standoff\": 15}, \"zerolinecolor\": \"white\", \"zerolinewidth\": 2}, \"yaxis\": {\"automargin\": true, \"gridcolor\": \"white\", \"linecolor\": \"white\", \"ticks\": \"\", \"title\": {\"standoff\": 15}, \"zerolinecolor\": \"white\", \"zerolinewidth\": 2}}}},\n",
       "                        {\"responsive\": true}\n",
       "                    ).then(function(){\n",
       "                            \n",
       "var gd = document.getElementById('34a3f2ad-75ad-4bdd-848e-9cdab7fab45e');\n",
       "var x = new MutationObserver(function (mutations, observer) {{\n",
       "        var display = window.getComputedStyle(gd).display;\n",
       "        if (!display || display === 'none') {{\n",
       "            console.log([gd, 'removed!']);\n",
       "            Plotly.purge(gd);\n",
       "            observer.disconnect();\n",
       "        }}\n",
       "}});\n",
       "\n",
       "// Listen for the removal of the full notebook cells\n",
       "var notebookContainer = gd.closest('#notebook-container');\n",
       "if (notebookContainer) {{\n",
       "    x.observe(notebookContainer, {childList: true});\n",
       "}}\n",
       "\n",
       "// Listen for the clearing of the current output cell\n",
       "var outputEl = gd.closest('.output');\n",
       "if (outputEl) {{\n",
       "    x.observe(outputEl, {childList: true});\n",
       "}}\n",
       "\n",
       "                        })\n",
       "                };\n",
       "                });\n",
       "            </script>\n",
       "        </div>"
      ]
     },
     "metadata": {},
     "output_type": "display_data"
    }
   ],
   "source": [
    "fig2"
   ]
  },
  {
   "cell_type": "code",
   "execution_count": 156,
   "metadata": {},
   "outputs": [
    {
     "name": "stdout",
     "output_type": "stream",
     "text": [
      "Goalkeeper\n",
      "Right Back\n",
      "Right Center Back\n",
      "Left Center Back\n",
      "Left Back\n",
      "Right Midfield\n",
      "Right Center Midfield\n",
      "Left Center Midfield\n",
      "Left Midfield\n",
      "Right Center Forward\n",
      "Left Center Forward\n"
     ]
    }
   ],
   "source": [
    "for player in positions.keys():\n",
    "    plot = wagon_plots[player]\n",
    "    rows,cols = code_position(positions[player],len(plot['data']))\n",
    "    print(positions[player])\n",
    "    fig2.add_traces(plot['data'],rows=rows,cols=cols)\n",
    "    fig2.update_polars(\n",
    "        radialaxis = dict(color='rgba(0,0,0,0)',gridcolor = 'rgba(0,0,0,0)',linecolor='rgba(0,0,0,0)',visible=False),\n",
    "        angularaxis = dict(color='rgba(0,0,0,0)',gridcolor = 'rgba(0,0,0,0)',linecolor='rgba(0,0,0,0)',visible = False,rotation = 90,direction= 'clockwise'),\n",
    "        bgcolor='rgba(0,0,0,0)'\n",
    "        )\n",
    "    fig2.update_layout(showlegend=True,width=1600,height=1800)\n",
    "    "
   ]
  },
  {
   "cell_type": "code",
   "execution_count": 157,
   "metadata": {},
   "outputs": [],
   "source": [
    "position_inverted = {y:x for x,y in positions.items()}"
   ]
  },
  {
   "cell_type": "code",
   "execution_count": 158,
   "metadata": {},
   "outputs": [],
   "source": [
    "for x in fig2.layout.annotations:\n",
    "    if x.text in position_inverted.keys():\n",
    "        x.text = position_inverted[x.text]"
   ]
  },
  {
   "cell_type": "code",
   "execution_count": 159,
   "metadata": {},
   "outputs": [],
   "source": [
    "for x in fig2.layout.annotations:\n",
    "    x.text = \"<span style=\\\"  font-size: 20pt;font-family: 'Luckiest Guy';color: #fff;text-shadow:0px -3px 0 #212121,0px -3px 0 #212121,0px  3px 0 #212121,0px  3px 0 #212121,-3px  0px 0 #212121,  3px  0px 0 #212121,-3px  0px 0 #212121,3px  0px 0 #212121,-3px -3px 0 #212121,  3px -3px 0 #212121,-3px  3px 0 #212121,3px  3px 0 #212121,-3px  9px 0 #212121,0px  9px 0 #212121,3px  9px 0 #212121,0 9px 1px rgba(0,0,0,.1),0 0 3px rgba(0,0,0,.1),0 3px 1.5px rgba(0,0,0,.3),0 6px 3px rgba(0,0,0,.2),0 9px 9px rgba(0,0,0,.25),0 12px 12px rgba(0,0,0,.2),0 18px 18px rgba(0,0,0,.15);\\\">\"+x.text+\"</span>\""
   ]
  },
  {
   "cell_type": "code",
   "execution_count": 160,
   "metadata": {},
   "outputs": [],
   "source": [
    "from PIL import Image\n",
    "\n",
    "image = Image.open('pitch.jpeg')\n",
    "\n",
    "# trace1= go.Scatter(x=[0,0.5,1,2,2.2],y=[1.23,2.5,0.42,3,1])\n",
    "# layout= go.Layout(images= [dict(\n",
    "#                   source= image,\n",
    "#                   xref= \"x\",\n",
    "#                   yref= \"y\",\n",
    "#                   x= 0,\n",
    "#                   y= 3,\n",
    "#                   sizex= 2,\n",
    "#                   sizey= 2,\n",
    "#                   sizing= \"stretch\",\n",
    "#                   opacity= 0.5,\n",
    "#                   layer= \"below\")])\n",
    "# fig=go.Figure(data=[trace1],layout=layout)\n",
    "# fig.show()"
   ]
  },
  {
   "cell_type": "code",
   "execution_count": 161,
   "metadata": {},
   "outputs": [
    {
     "data": {
      "text/plain": [
       "Layout({\n",
       "    'annotations': [{'font': {'size': 16},\n",
       "                     'showarrow': False,\n",
       "                     'text': ('<span style=\"  font-size: 20pt' ... '0,0,.15);\">Ja-Cheol Koo</span>'),\n",
       "                     'x': 0.292,\n",
       "                     'xanchor': 'center',\n",
       "                     'xref': 'paper',\n",
       "                     'y': 0.798,\n",
       "                     'yanchor': 'bottom',\n",
       "                     'yref': 'paper'},\n",
       "                    {'font': {'size': 16},\n",
       "                     'showarrow': False,\n",
       "                     'text': ('<span style=\"  font-size: 20pt' ... ',0,.15);\">Heung-Min Son</span>'),\n",
       "                     'x': 0.708,\n",
       "                     'xanchor': 'center',\n",
       "                     'xref': 'paper',\n",
       "                     'y': 0.798,\n",
       "                     'yanchor': 'bottom',\n",
       "                     'yref': 'paper'},\n",
       "                    {'font': {'size': 16},\n",
       "                     'showarrow': False,\n",
       "                     'text': ('<span style=\"  font-size: 20pt' ... ',0,.15);\">Seon-Min Moon</span>'),\n",
       "                     'x': 0.08399999999999999,\n",
       "                     'xanchor': 'center',\n",
       "                     'xref': 'paper',\n",
       "                     'y': 0.5960000000000001,\n",
       "                     'yanchor': 'bottom',\n",
       "                     'yref': 'paper'},\n",
       "                    {'font': {'size': 16},\n",
       "                     'showarrow': False,\n",
       "                     'text': ('<span style=\"  font-size: 20pt' ... '0,.15);\">Woo-Young Jung</span>'),\n",
       "                     'x': 0.292,\n",
       "                     'xanchor': 'center',\n",
       "                     'xref': 'paper',\n",
       "                     'y': 0.5960000000000001,\n",
       "                     'yanchor': 'bottom',\n",
       "                     'yref': 'paper'},\n",
       "                    {'font': {'size': 16},\n",
       "                     'showarrow': False,\n",
       "                     'text': ('<span style=\"  font-size: 20pt' ... ',0,.15);\">Hyun-Soo Jang</span>'),\n",
       "                     'x': 0.708,\n",
       "                     'xanchor': 'center',\n",
       "                     'xref': 'paper',\n",
       "                     'y': 0.5960000000000001,\n",
       "                     'yanchor': 'bottom',\n",
       "                     'yref': 'paper'},\n",
       "                    {'font': {'size': 16},\n",
       "                     'showarrow': False,\n",
       "                     'text': ('<span style=\"  font-size: 20pt' ... '0,0,.15);\">Jae-Sung Lee</span>'),\n",
       "                     'x': 0.9159999999999999,\n",
       "                     'xanchor': 'center',\n",
       "                     'xref': 'paper',\n",
       "                     'y': 0.5960000000000001,\n",
       "                     'yanchor': 'bottom',\n",
       "                     'yref': 'paper'},\n",
       "                    {'font': {'size': 16},\n",
       "                     'showarrow': False,\n",
       "                     'text': ('<span style=\"  font-size: 20pt' ... '(0,0,0,.15);\">Chul Hong</span>'),\n",
       "                     'x': 0.08399999999999999,\n",
       "                     'xanchor': 'center',\n",
       "                     'xref': 'paper',\n",
       "                     'y': 0.394,\n",
       "                     'yanchor': 'bottom',\n",
       "                     'yref': 'paper'},\n",
       "                    {'font': {'size': 16},\n",
       "                     'showarrow': False,\n",
       "                     'text': ('<span style=\"  font-size: 20pt' ... '0,.15);\">Young-Gwon Kim</span>'),\n",
       "                     'x': 0.292,\n",
       "                     'xanchor': 'center',\n",
       "                     'xref': 'paper',\n",
       "                     'y': 0.394,\n",
       "                     'yanchor': 'bottom',\n",
       "                     'yref': 'paper'},\n",
       "                    {'font': {'size': 16},\n",
       "                     'showarrow': False,\n",
       "                     'text': ('<span style=\"  font-size: 20pt' ... ',0,.15);\">Young-Sun Yun</span>'),\n",
       "                     'x': 0.708,\n",
       "                     'xanchor': 'center',\n",
       "                     'xref': 'paper',\n",
       "                     'y': 0.394,\n",
       "                     'yanchor': 'bottom',\n",
       "                     'yref': 'paper'},\n",
       "                    {'font': {'size': 16},\n",
       "                     'showarrow': False,\n",
       "                     'text': ('<span style=\"  font-size: 20pt' ... 'a(0,0,0,.15);\">Yong Lee</span>'),\n",
       "                     'x': 0.9159999999999999,\n",
       "                     'xanchor': 'center',\n",
       "                     'xref': 'paper',\n",
       "                     'y': 0.394,\n",
       "                     'yanchor': 'bottom',\n",
       "                     'yref': 'paper'},\n",
       "                    {'font': {'size': 16},\n",
       "                     'showarrow': False,\n",
       "                     'text': ('<span style=\"  font-size: 20pt' ... '0,0,.15);\">Hyun-Woo Cho</span>'),\n",
       "                     'x': 0.5,\n",
       "                     'xanchor': 'center',\n",
       "                     'xref': 'paper',\n",
       "                     'y': 0.192,\n",
       "                     'yanchor': 'bottom',\n",
       "                     'yref': 'paper'}],\n",
       "    'height': 1800,\n",
       "    'images': [{'layer': 'below',\n",
       "                'opacity': 1.0,\n",
       "                'sizex': 7,\n",
       "                'sizey': 5,\n",
       "                'sizing': 'stretch',\n",
       "                'source': ('data:image/png;base64,iVBORw0K' ... '8ZrFkgjVKPFAAAAABJRU5ErkJggg=='),\n",
       "                'x': -1,\n",
       "                'xref': 'x',\n",
       "                'y': 4,\n",
       "                'yref': 'y'}],\n",
       "    'polar': {'angularaxis': {'color': 'rgba(0,0,0,0)',\n",
       "                              'direction': 'clockwise',\n",
       "                              'gridcolor': 'rgba(0,0,0,0)',\n",
       "                              'linecolor': 'rgba(0,0,0,0)',\n",
       "                              'rotation': 90,\n",
       "                              'visible': False},\n",
       "              'bgcolor': 'rgba(0,0,0,0)',\n",
       "              'domain': {'x': [0.0, 0.16799999999999998], 'y': [0.808, 1.0]},\n",
       "              'radialaxis': {'color': 'rgba(0,0,0,0)',\n",
       "                             'gridcolor': 'rgba(0,0,0,0)',\n",
       "                             'linecolor': 'rgba(0,0,0,0)',\n",
       "                             'visible': False}},\n",
       "    'polar10': {'angularaxis': {'color': 'rgba(0,0,0,0)',\n",
       "                                'direction': 'clockwise',\n",
       "                                'gridcolor': 'rgba(0,0,0,0)',\n",
       "                                'linecolor': 'rgba(0,0,0,0)',\n",
       "                                'rotation': 90,\n",
       "                                'visible': False},\n",
       "                'bgcolor': 'rgba(0,0,0,0)',\n",
       "                'domain': {'x': [0.832, 1.0], 'y': [0.6060000000000001, 0.798]},\n",
       "                'radialaxis': {'color': 'rgba(0,0,0,0)',\n",
       "                               'gridcolor': 'rgba(0,0,0,0)',\n",
       "                               'linecolor': 'rgba(0,0,0,0)',\n",
       "                               'visible': False}},\n",
       "    'polar11': {'angularaxis': {'color': 'rgba(0,0,0,0)',\n",
       "                                'direction': 'clockwise',\n",
       "                                'gridcolor': 'rgba(0,0,0,0)',\n",
       "                                'linecolor': 'rgba(0,0,0,0)',\n",
       "                                'rotation': 90,\n",
       "                                'visible': False},\n",
       "                'bgcolor': 'rgba(0,0,0,0)',\n",
       "                'domain': {'x': [0.0, 0.16799999999999998], 'y': [0.404, 0.5960000000000001]},\n",
       "                'radialaxis': {'color': 'rgba(0,0,0,0)',\n",
       "                               'gridcolor': 'rgba(0,0,0,0)',\n",
       "                               'linecolor': 'rgba(0,0,0,0)',\n",
       "                               'visible': False}},\n",
       "    'polar12': {'angularaxis': {'color': 'rgba(0,0,0,0)',\n",
       "                                'direction': 'clockwise',\n",
       "                                'gridcolor': 'rgba(0,0,0,0)',\n",
       "                                'linecolor': 'rgba(0,0,0,0)',\n",
       "                                'rotation': 90,\n",
       "                                'visible': False},\n",
       "                'bgcolor': 'rgba(0,0,0,0)',\n",
       "                'domain': {'x': [0.208, 0.376], 'y': [0.404, 0.5960000000000001]},\n",
       "                'radialaxis': {'color': 'rgba(0,0,0,0)',\n",
       "                               'gridcolor': 'rgba(0,0,0,0)',\n",
       "                               'linecolor': 'rgba(0,0,0,0)',\n",
       "                               'visible': False}},\n",
       "    'polar13': {'angularaxis': {'color': 'rgba(0,0,0,0)',\n",
       "                                'direction': 'clockwise',\n",
       "                                'gridcolor': 'rgba(0,0,0,0)',\n",
       "                                'linecolor': 'rgba(0,0,0,0)',\n",
       "                                'rotation': 90,\n",
       "                                'visible': False},\n",
       "                'bgcolor': 'rgba(0,0,0,0)',\n",
       "                'domain': {'x': [0.416, 0.584], 'y': [0.404, 0.5960000000000001]},\n",
       "                'radialaxis': {'color': 'rgba(0,0,0,0)',\n",
       "                               'gridcolor': 'rgba(0,0,0,0)',\n",
       "                               'linecolor': 'rgba(0,0,0,0)',\n",
       "                               'visible': False}},\n",
       "    'polar14': {'angularaxis': {'color': 'rgba(0,0,0,0)',\n",
       "                                'direction': 'clockwise',\n",
       "                                'gridcolor': 'rgba(0,0,0,0)',\n",
       "                                'linecolor': 'rgba(0,0,0,0)',\n",
       "                                'rotation': 90,\n",
       "                                'visible': False},\n",
       "                'bgcolor': 'rgba(0,0,0,0)',\n",
       "                'domain': {'x': [0.624, 0.792], 'y': [0.404, 0.5960000000000001]},\n",
       "                'radialaxis': {'color': 'rgba(0,0,0,0)',\n",
       "                               'gridcolor': 'rgba(0,0,0,0)',\n",
       "                               'linecolor': 'rgba(0,0,0,0)',\n",
       "                               'visible': False}},\n",
       "    'polar15': {'angularaxis': {'color': 'rgba(0,0,0,0)',\n",
       "                                'direction': 'clockwise',\n",
       "                                'gridcolor': 'rgba(0,0,0,0)',\n",
       "                                'linecolor': 'rgba(0,0,0,0)',\n",
       "                                'rotation': 90,\n",
       "                                'visible': False},\n",
       "                'bgcolor': 'rgba(0,0,0,0)',\n",
       "                'domain': {'x': [0.832, 1.0], 'y': [0.404, 0.5960000000000001]},\n",
       "                'radialaxis': {'color': 'rgba(0,0,0,0)',\n",
       "                               'gridcolor': 'rgba(0,0,0,0)',\n",
       "                               'linecolor': 'rgba(0,0,0,0)',\n",
       "                               'visible': False}},\n",
       "    'polar16': {'angularaxis': {'color': 'rgba(0,0,0,0)',\n",
       "                                'direction': 'clockwise',\n",
       "                                'gridcolor': 'rgba(0,0,0,0)',\n",
       "                                'linecolor': 'rgba(0,0,0,0)',\n",
       "                                'rotation': 90,\n",
       "                                'visible': False},\n",
       "                'bgcolor': 'rgba(0,0,0,0)',\n",
       "                'domain': {'x': [0.0, 0.16799999999999998], 'y': [0.202, 0.394]},\n",
       "                'radialaxis': {'color': 'rgba(0,0,0,0)',\n",
       "                               'gridcolor': 'rgba(0,0,0,0)',\n",
       "                               'linecolor': 'rgba(0,0,0,0)',\n",
       "                               'visible': False}},\n",
       "    'polar17': {'angularaxis': {'color': 'rgba(0,0,0,0)',\n",
       "                                'direction': 'clockwise',\n",
       "                                'gridcolor': 'rgba(0,0,0,0)',\n",
       "                                'linecolor': 'rgba(0,0,0,0)',\n",
       "                                'rotation': 90,\n",
       "                                'visible': False},\n",
       "                'bgcolor': 'rgba(0,0,0,0)',\n",
       "                'domain': {'x': [0.208, 0.376], 'y': [0.202, 0.394]},\n",
       "                'radialaxis': {'color': 'rgba(0,0,0,0)',\n",
       "                               'gridcolor': 'rgba(0,0,0,0)',\n",
       "                               'linecolor': 'rgba(0,0,0,0)',\n",
       "                               'visible': False}},\n",
       "    'polar18': {'angularaxis': {'color': 'rgba(0,0,0,0)',\n",
       "                                'direction': 'clockwise',\n",
       "                                'gridcolor': 'rgba(0,0,0,0)',\n",
       "                                'linecolor': 'rgba(0,0,0,0)',\n",
       "                                'rotation': 90,\n",
       "                                'visible': False},\n",
       "                'bgcolor': 'rgba(0,0,0,0)',\n",
       "                'domain': {'x': [0.416, 0.584], 'y': [0.202, 0.394]},\n",
       "                'radialaxis': {'color': 'rgba(0,0,0,0)',\n",
       "                               'gridcolor': 'rgba(0,0,0,0)',\n",
       "                               'linecolor': 'rgba(0,0,0,0)',\n",
       "                               'visible': False}},\n",
       "    'polar19': {'angularaxis': {'color': 'rgba(0,0,0,0)',\n",
       "                                'direction': 'clockwise',\n",
       "                                'gridcolor': 'rgba(0,0,0,0)',\n",
       "                                'linecolor': 'rgba(0,0,0,0)',\n",
       "                                'rotation': 90,\n",
       "                                'visible': False},\n",
       "                'bgcolor': 'rgba(0,0,0,0)',\n",
       "                'domain': {'x': [0.624, 0.792], 'y': [0.202, 0.394]},\n",
       "                'radialaxis': {'color': 'rgba(0,0,0,0)',\n",
       "                               'gridcolor': 'rgba(0,0,0,0)',\n",
       "                               'linecolor': 'rgba(0,0,0,0)',\n",
       "                               'visible': False}},\n",
       "    'polar2': {'angularaxis': {'color': 'rgba(0,0,0,0)',\n",
       "                               'direction': 'clockwise',\n",
       "                               'gridcolor': 'rgba(0,0,0,0)',\n",
       "                               'linecolor': 'rgba(0,0,0,0)',\n",
       "                               'rotation': 90,\n",
       "                               'visible': False},\n",
       "               'bgcolor': 'rgba(0,0,0,0)',\n",
       "               'domain': {'x': [0.208, 0.376], 'y': [0.808, 1.0]},\n",
       "               'radialaxis': {'color': 'rgba(0,0,0,0)',\n",
       "                              'gridcolor': 'rgba(0,0,0,0)',\n",
       "                              'linecolor': 'rgba(0,0,0,0)',\n",
       "                              'visible': False}},\n",
       "    'polar20': {'angularaxis': {'color': 'rgba(0,0,0,0)',\n",
       "                                'direction': 'clockwise',\n",
       "                                'gridcolor': 'rgba(0,0,0,0)',\n",
       "                                'linecolor': 'rgba(0,0,0,0)',\n",
       "                                'rotation': 90,\n",
       "                                'visible': False},\n",
       "                'bgcolor': 'rgba(0,0,0,0)',\n",
       "                'domain': {'x': [0.832, 1.0], 'y': [0.202, 0.394]},\n",
       "                'radialaxis': {'color': 'rgba(0,0,0,0)',\n",
       "                               'gridcolor': 'rgba(0,0,0,0)',\n",
       "                               'linecolor': 'rgba(0,0,0,0)',\n",
       "                               'visible': False}},\n",
       "    'polar21': {'angularaxis': {'color': 'rgba(0,0,0,0)',\n",
       "                                'direction': 'clockwise',\n",
       "                                'gridcolor': 'rgba(0,0,0,0)',\n",
       "                                'linecolor': 'rgba(0,0,0,0)',\n",
       "                                'rotation': 90,\n",
       "                                'visible': False},\n",
       "                'bgcolor': 'rgba(0,0,0,0)',\n",
       "                'domain': {'x': [0.0, 0.16799999999999998], 'y': [0.0, 0.192]},\n",
       "                'radialaxis': {'color': 'rgba(0,0,0,0)',\n",
       "                               'gridcolor': 'rgba(0,0,0,0)',\n",
       "                               'linecolor': 'rgba(0,0,0,0)',\n",
       "                               'visible': False}},\n",
       "    'polar22': {'angularaxis': {'color': 'rgba(0,0,0,0)',\n",
       "                                'direction': 'clockwise',\n",
       "                                'gridcolor': 'rgba(0,0,0,0)',\n",
       "                                'linecolor': 'rgba(0,0,0,0)',\n",
       "                                'rotation': 90,\n",
       "                                'visible': False},\n",
       "                'bgcolor': 'rgba(0,0,0,0)',\n",
       "                'domain': {'x': [0.208, 0.376], 'y': [0.0, 0.192]},\n",
       "                'radialaxis': {'color': 'rgba(0,0,0,0)',\n",
       "                               'gridcolor': 'rgba(0,0,0,0)',\n",
       "                               'linecolor': 'rgba(0,0,0,0)',\n",
       "                               'visible': False}},\n",
       "    'polar23': {'angularaxis': {'color': 'rgba(0,0,0,0)',\n",
       "                                'direction': 'clockwise',\n",
       "                                'gridcolor': 'rgba(0,0,0,0)',\n",
       "                                'linecolor': 'rgba(0,0,0,0)',\n",
       "                                'rotation': 90,\n",
       "                                'visible': False},\n",
       "                'bgcolor': 'rgba(0,0,0,0)',\n",
       "                'domain': {'x': [0.416, 0.584], 'y': [0.0, 0.192]},\n",
       "                'radialaxis': {'color': 'rgba(0,0,0,0)',\n",
       "                               'gridcolor': 'rgba(0,0,0,0)',\n",
       "                               'linecolor': 'rgba(0,0,0,0)',\n",
       "                               'visible': False}},\n",
       "    'polar24': {'angularaxis': {'color': 'rgba(0,0,0,0)',\n",
       "                                'direction': 'clockwise',\n",
       "                                'gridcolor': 'rgba(0,0,0,0)',\n",
       "                                'linecolor': 'rgba(0,0,0,0)',\n",
       "                                'rotation': 90,\n",
       "                                'visible': False},\n",
       "                'bgcolor': 'rgba(0,0,0,0)',\n",
       "                'domain': {'x': [0.624, 0.792], 'y': [0.0, 0.192]},\n",
       "                'radialaxis': {'color': 'rgba(0,0,0,0)',\n",
       "                               'gridcolor': 'rgba(0,0,0,0)',\n",
       "                               'linecolor': 'rgba(0,0,0,0)',\n",
       "                               'visible': False}},\n",
       "    'polar25': {'angularaxis': {'color': 'rgba(0,0,0,0)',\n",
       "                                'direction': 'clockwise',\n",
       "                                'gridcolor': 'rgba(0,0,0,0)',\n",
       "                                'linecolor': 'rgba(0,0,0,0)',\n",
       "                                'rotation': 90,\n",
       "                                'visible': False},\n",
       "                'bgcolor': 'rgba(0,0,0,0)',\n",
       "                'domain': {'x': [0.832, 1.0], 'y': [0.0, 0.192]},\n",
       "                'radialaxis': {'color': 'rgba(0,0,0,0)',\n",
       "                               'gridcolor': 'rgba(0,0,0,0)',\n",
       "                               'linecolor': 'rgba(0,0,0,0)',\n",
       "                               'visible': False}},\n",
       "    'polar3': {'angularaxis': {'color': 'rgba(0,0,0,0)',\n",
       "                               'direction': 'clockwise',\n",
       "                               'gridcolor': 'rgba(0,0,0,0)',\n",
       "                               'linecolor': 'rgba(0,0,0,0)',\n",
       "                               'rotation': 90,\n",
       "                               'visible': False},\n",
       "               'bgcolor': 'rgba(0,0,0,0)',\n",
       "               'domain': {'x': [0.416, 0.584], 'y': [0.808, 1.0]},\n",
       "               'radialaxis': {'color': 'rgba(0,0,0,0)',\n",
       "                              'gridcolor': 'rgba(0,0,0,0)',\n",
       "                              'linecolor': 'rgba(0,0,0,0)',\n",
       "                              'visible': False}},\n",
       "    'polar4': {'angularaxis': {'color': 'rgba(0,0,0,0)',\n",
       "                               'direction': 'clockwise',\n",
       "                               'gridcolor': 'rgba(0,0,0,0)',\n",
       "                               'linecolor': 'rgba(0,0,0,0)',\n",
       "                               'rotation': 90,\n",
       "                               'visible': False},\n",
       "               'bgcolor': 'rgba(0,0,0,0)',\n",
       "               'domain': {'x': [0.624, 0.792], 'y': [0.808, 1.0]},\n",
       "               'radialaxis': {'color': 'rgba(0,0,0,0)',\n",
       "                              'gridcolor': 'rgba(0,0,0,0)',\n",
       "                              'linecolor': 'rgba(0,0,0,0)',\n",
       "                              'visible': False}},\n",
       "    'polar5': {'angularaxis': {'color': 'rgba(0,0,0,0)',\n",
       "                               'direction': 'clockwise',\n",
       "                               'gridcolor': 'rgba(0,0,0,0)',\n",
       "                               'linecolor': 'rgba(0,0,0,0)',\n",
       "                               'rotation': 90,\n",
       "                               'visible': False},\n",
       "               'bgcolor': 'rgba(0,0,0,0)',\n",
       "               'domain': {'x': [0.832, 1.0], 'y': [0.808, 1.0]},\n",
       "               'radialaxis': {'color': 'rgba(0,0,0,0)',\n",
       "                              'gridcolor': 'rgba(0,0,0,0)',\n",
       "                              'linecolor': 'rgba(0,0,0,0)',\n",
       "                              'visible': False}},\n",
       "    'polar6': {'angularaxis': {'color': 'rgba(0,0,0,0)',\n",
       "                               'direction': 'clockwise',\n",
       "                               'gridcolor': 'rgba(0,0,0,0)',\n",
       "                               'linecolor': 'rgba(0,0,0,0)',\n",
       "                               'rotation': 90,\n",
       "                               'visible': False},\n",
       "               'bgcolor': 'rgba(0,0,0,0)',\n",
       "               'domain': {'x': [0.0, 0.16799999999999998], 'y': [0.6060000000000001, 0.798]},\n",
       "               'radialaxis': {'color': 'rgba(0,0,0,0)',\n",
       "                              'gridcolor': 'rgba(0,0,0,0)',\n",
       "                              'linecolor': 'rgba(0,0,0,0)',\n",
       "                              'visible': False}},\n",
       "    'polar7': {'angularaxis': {'color': 'rgba(0,0,0,0)',\n",
       "                               'direction': 'clockwise',\n",
       "                               'gridcolor': 'rgba(0,0,0,0)',\n",
       "                               'linecolor': 'rgba(0,0,0,0)',\n",
       "                               'rotation': 90,\n",
       "                               'visible': False},\n",
       "               'bgcolor': 'rgba(0,0,0,0)',\n",
       "               'domain': {'x': [0.208, 0.376], 'y': [0.6060000000000001, 0.798]},\n",
       "               'radialaxis': {'color': 'rgba(0,0,0,0)',\n",
       "                              'gridcolor': 'rgba(0,0,0,0)',\n",
       "                              'linecolor': 'rgba(0,0,0,0)',\n",
       "                              'visible': False}},\n",
       "    'polar8': {'angularaxis': {'color': 'rgba(0,0,0,0)',\n",
       "                               'direction': 'clockwise',\n",
       "                               'gridcolor': 'rgba(0,0,0,0)',\n",
       "                               'linecolor': 'rgba(0,0,0,0)',\n",
       "                               'rotation': 90,\n",
       "                               'visible': False},\n",
       "               'bgcolor': 'rgba(0,0,0,0)',\n",
       "               'domain': {'x': [0.416, 0.584], 'y': [0.6060000000000001, 0.798]},\n",
       "               'radialaxis': {'color': 'rgba(0,0,0,0)',\n",
       "                              'gridcolor': 'rgba(0,0,0,0)',\n",
       "                              'linecolor': 'rgba(0,0,0,0)',\n",
       "                              'visible': False}},\n",
       "    'polar9': {'angularaxis': {'color': 'rgba(0,0,0,0)',\n",
       "                               'direction': 'clockwise',\n",
       "                               'gridcolor': 'rgba(0,0,0,0)',\n",
       "                               'linecolor': 'rgba(0,0,0,0)',\n",
       "                               'rotation': 90,\n",
       "                               'visible': False},\n",
       "               'bgcolor': 'rgba(0,0,0,0)',\n",
       "               'domain': {'x': [0.624, 0.792], 'y': [0.6060000000000001, 0.798]},\n",
       "               'radialaxis': {'color': 'rgba(0,0,0,0)',\n",
       "                              'gridcolor': 'rgba(0,0,0,0)',\n",
       "                              'linecolor': 'rgba(0,0,0,0)',\n",
       "                              'visible': False}},\n",
       "    'showlegend': True,\n",
       "    'template': '...',\n",
       "    'width': 1600,\n",
       "    'xaxis': {'showgrid': False, 'showline': False, 'zeroline': False},\n",
       "    'yaxis': {'showgrid': False, 'showline': False, 'zeroline': False}\n",
       "})"
      ]
     },
     "execution_count": 161,
     "metadata": {},
     "output_type": "execute_result"
    }
   ],
   "source": [
    "fig2.layout.update(images= [dict(\n",
    "                  source= image,\n",
    "                  xref= \"x\",\n",
    "                  yref= \"y\",\n",
    "                  x= -1,\n",
    "                  y= 4,\n",
    "                  sizex= 7,\n",
    "                  sizey= 5,\n",
    "                  sizing= \"stretch\",\n",
    "                  opacity= 1.0,\n",
    "                  layer= \"below\")], xaxis = dict(showgrid= False,showline =False,zeroline= False),\n",
    "                            yaxis = dict(showgrid = False,showline =False,zeroline = False),\n",
    "                   annotations = dict(font=\"hgfyf\")\n",
    "                                    \n",
    "                                         )"
   ]
  },
  {
   "cell_type": "code",
   "execution_count": 162,
   "metadata": {},
   "outputs": [],
   "source": [
    "name = []\n",
    "for x in fig2.data:\n",
    "    if x.name not in name and x.name != 'binned_pass_length=No Pass':\n",
    "        name.append(x.name)\n",
    "        x['showlegend'] = True\n",
    "    else:\n",
    "        x['showlegend'] = False"
   ]
  },
  {
   "cell_type": "code",
   "execution_count": 163,
   "metadata": {},
   "outputs": [],
   "source": [
    "for x in fig2.data:\n",
    "    if x.showlegend == True:\n",
    "        x.name = \"Pass Length:\"+x.name.split(\"=\")[1]"
   ]
  },
  {
   "cell_type": "code",
   "execution_count": 164,
   "metadata": {},
   "outputs": [
    {
     "data": {
      "text/plain": [
       "Layout({\n",
       "    'annotations': [{'font': {'size': 16},\n",
       "                     'showarrow': False,\n",
       "                     'text': ('<span style=\"  font-size: 20pt' ... '0,0,.15);\">Ja-Cheol Koo</span>'),\n",
       "                     'x': 0.292,\n",
       "                     'xanchor': 'center',\n",
       "                     'xref': 'paper',\n",
       "                     'y': 0.798,\n",
       "                     'yanchor': 'bottom',\n",
       "                     'yref': 'paper'},\n",
       "                    {'font': {'size': 16},\n",
       "                     'showarrow': False,\n",
       "                     'text': ('<span style=\"  font-size: 20pt' ... ',0,.15);\">Heung-Min Son</span>'),\n",
       "                     'x': 0.708,\n",
       "                     'xanchor': 'center',\n",
       "                     'xref': 'paper',\n",
       "                     'y': 0.798,\n",
       "                     'yanchor': 'bottom',\n",
       "                     'yref': 'paper'},\n",
       "                    {'font': {'size': 16},\n",
       "                     'showarrow': False,\n",
       "                     'text': ('<span style=\"  font-size: 20pt' ... ',0,.15);\">Seon-Min Moon</span>'),\n",
       "                     'x': 0.08399999999999999,\n",
       "                     'xanchor': 'center',\n",
       "                     'xref': 'paper',\n",
       "                     'y': 0.5960000000000001,\n",
       "                     'yanchor': 'bottom',\n",
       "                     'yref': 'paper'},\n",
       "                    {'font': {'size': 16},\n",
       "                     'showarrow': False,\n",
       "                     'text': ('<span style=\"  font-size: 20pt' ... '0,.15);\">Woo-Young Jung</span>'),\n",
       "                     'x': 0.292,\n",
       "                     'xanchor': 'center',\n",
       "                     'xref': 'paper',\n",
       "                     'y': 0.5960000000000001,\n",
       "                     'yanchor': 'bottom',\n",
       "                     'yref': 'paper'},\n",
       "                    {'font': {'size': 16},\n",
       "                     'showarrow': False,\n",
       "                     'text': ('<span style=\"  font-size: 20pt' ... ',0,.15);\">Hyun-Soo Jang</span>'),\n",
       "                     'x': 0.708,\n",
       "                     'xanchor': 'center',\n",
       "                     'xref': 'paper',\n",
       "                     'y': 0.5960000000000001,\n",
       "                     'yanchor': 'bottom',\n",
       "                     'yref': 'paper'},\n",
       "                    {'font': {'size': 16},\n",
       "                     'showarrow': False,\n",
       "                     'text': ('<span style=\"  font-size: 20pt' ... '0,0,.15);\">Jae-Sung Lee</span>'),\n",
       "                     'x': 0.9159999999999999,\n",
       "                     'xanchor': 'center',\n",
       "                     'xref': 'paper',\n",
       "                     'y': 0.5960000000000001,\n",
       "                     'yanchor': 'bottom',\n",
       "                     'yref': 'paper'},\n",
       "                    {'font': {'size': 16},\n",
       "                     'showarrow': False,\n",
       "                     'text': ('<span style=\"  font-size: 20pt' ... '(0,0,0,.15);\">Chul Hong</span>'),\n",
       "                     'x': 0.08399999999999999,\n",
       "                     'xanchor': 'center',\n",
       "                     'xref': 'paper',\n",
       "                     'y': 0.394,\n",
       "                     'yanchor': 'bottom',\n",
       "                     'yref': 'paper'},\n",
       "                    {'font': {'size': 16},\n",
       "                     'showarrow': False,\n",
       "                     'text': ('<span style=\"  font-size: 20pt' ... '0,.15);\">Young-Gwon Kim</span>'),\n",
       "                     'x': 0.292,\n",
       "                     'xanchor': 'center',\n",
       "                     'xref': 'paper',\n",
       "                     'y': 0.394,\n",
       "                     'yanchor': 'bottom',\n",
       "                     'yref': 'paper'},\n",
       "                    {'font': {'size': 16},\n",
       "                     'showarrow': False,\n",
       "                     'text': ('<span style=\"  font-size: 20pt' ... ',0,.15);\">Young-Sun Yun</span>'),\n",
       "                     'x': 0.708,\n",
       "                     'xanchor': 'center',\n",
       "                     'xref': 'paper',\n",
       "                     'y': 0.394,\n",
       "                     'yanchor': 'bottom',\n",
       "                     'yref': 'paper'},\n",
       "                    {'font': {'size': 16},\n",
       "                     'showarrow': False,\n",
       "                     'text': ('<span style=\"  font-size: 20pt' ... 'a(0,0,0,.15);\">Yong Lee</span>'),\n",
       "                     'x': 0.9159999999999999,\n",
       "                     'xanchor': 'center',\n",
       "                     'xref': 'paper',\n",
       "                     'y': 0.394,\n",
       "                     'yanchor': 'bottom',\n",
       "                     'yref': 'paper'},\n",
       "                    {'font': {'size': 16},\n",
       "                     'showarrow': False,\n",
       "                     'text': ('<span style=\"  font-size: 20pt' ... '0,0,.15);\">Hyun-Woo Cho</span>'),\n",
       "                     'x': 0.5,\n",
       "                     'xanchor': 'center',\n",
       "                     'xref': 'paper',\n",
       "                     'y': 0.192,\n",
       "                     'yanchor': 'bottom',\n",
       "                     'yref': 'paper'}],\n",
       "    'height': 1800,\n",
       "    'images': [{'layer': 'below',\n",
       "                'opacity': 1.0,\n",
       "                'sizex': 7,\n",
       "                'sizey': 5,\n",
       "                'sizing': 'stretch',\n",
       "                'source': ('data:image/png;base64,iVBORw0K' ... '8ZrFkgjVKPFAAAAABJRU5ErkJggg=='),\n",
       "                'x': -1,\n",
       "                'xref': 'x',\n",
       "                'y': 4,\n",
       "                'yref': 'y'}],\n",
       "    'legend': {'bgcolor': 'green',\n",
       "               'bordercolor': '#FFFFFF',\n",
       "               'borderwidth': 2,\n",
       "               'font': {'color': 'white', 'family': 'sans-serif', 'size': 12},\n",
       "               'traceorder': 'normal',\n",
       "               'x': 0,\n",
       "               'y': 1},\n",
       "    'polar': {'angularaxis': {'color': 'rgba(0,0,0,0)',\n",
       "                              'direction': 'clockwise',\n",
       "                              'gridcolor': 'rgba(0,0,0,0)',\n",
       "                              'linecolor': 'rgba(0,0,0,0)',\n",
       "                              'rotation': 90,\n",
       "                              'visible': False},\n",
       "              'bgcolor': 'rgba(0,0,0,0)',\n",
       "              'domain': {'x': [0.0, 0.16799999999999998], 'y': [0.808, 1.0]},\n",
       "              'radialaxis': {'color': 'rgba(0,0,0,0)',\n",
       "                             'gridcolor': 'rgba(0,0,0,0)',\n",
       "                             'linecolor': 'rgba(0,0,0,0)',\n",
       "                             'visible': False}},\n",
       "    'polar10': {'angularaxis': {'color': 'rgba(0,0,0,0)',\n",
       "                                'direction': 'clockwise',\n",
       "                                'gridcolor': 'rgba(0,0,0,0)',\n",
       "                                'linecolor': 'rgba(0,0,0,0)',\n",
       "                                'rotation': 90,\n",
       "                                'visible': False},\n",
       "                'bgcolor': 'rgba(0,0,0,0)',\n",
       "                'domain': {'x': [0.832, 1.0], 'y': [0.6060000000000001, 0.798]},\n",
       "                'radialaxis': {'color': 'rgba(0,0,0,0)',\n",
       "                               'gridcolor': 'rgba(0,0,0,0)',\n",
       "                               'linecolor': 'rgba(0,0,0,0)',\n",
       "                               'visible': False}},\n",
       "    'polar11': {'angularaxis': {'color': 'rgba(0,0,0,0)',\n",
       "                                'direction': 'clockwise',\n",
       "                                'gridcolor': 'rgba(0,0,0,0)',\n",
       "                                'linecolor': 'rgba(0,0,0,0)',\n",
       "                                'rotation': 90,\n",
       "                                'visible': False},\n",
       "                'bgcolor': 'rgba(0,0,0,0)',\n",
       "                'domain': {'x': [0.0, 0.16799999999999998], 'y': [0.404, 0.5960000000000001]},\n",
       "                'radialaxis': {'color': 'rgba(0,0,0,0)',\n",
       "                               'gridcolor': 'rgba(0,0,0,0)',\n",
       "                               'linecolor': 'rgba(0,0,0,0)',\n",
       "                               'visible': False}},\n",
       "    'polar12': {'angularaxis': {'color': 'rgba(0,0,0,0)',\n",
       "                                'direction': 'clockwise',\n",
       "                                'gridcolor': 'rgba(0,0,0,0)',\n",
       "                                'linecolor': 'rgba(0,0,0,0)',\n",
       "                                'rotation': 90,\n",
       "                                'visible': False},\n",
       "                'bgcolor': 'rgba(0,0,0,0)',\n",
       "                'domain': {'x': [0.208, 0.376], 'y': [0.404, 0.5960000000000001]},\n",
       "                'radialaxis': {'color': 'rgba(0,0,0,0)',\n",
       "                               'gridcolor': 'rgba(0,0,0,0)',\n",
       "                               'linecolor': 'rgba(0,0,0,0)',\n",
       "                               'visible': False}},\n",
       "    'polar13': {'angularaxis': {'color': 'rgba(0,0,0,0)',\n",
       "                                'direction': 'clockwise',\n",
       "                                'gridcolor': 'rgba(0,0,0,0)',\n",
       "                                'linecolor': 'rgba(0,0,0,0)',\n",
       "                                'rotation': 90,\n",
       "                                'visible': False},\n",
       "                'bgcolor': 'rgba(0,0,0,0)',\n",
       "                'domain': {'x': [0.416, 0.584], 'y': [0.404, 0.5960000000000001]},\n",
       "                'radialaxis': {'color': 'rgba(0,0,0,0)',\n",
       "                               'gridcolor': 'rgba(0,0,0,0)',\n",
       "                               'linecolor': 'rgba(0,0,0,0)',\n",
       "                               'visible': False}},\n",
       "    'polar14': {'angularaxis': {'color': 'rgba(0,0,0,0)',\n",
       "                                'direction': 'clockwise',\n",
       "                                'gridcolor': 'rgba(0,0,0,0)',\n",
       "                                'linecolor': 'rgba(0,0,0,0)',\n",
       "                                'rotation': 90,\n",
       "                                'visible': False},\n",
       "                'bgcolor': 'rgba(0,0,0,0)',\n",
       "                'domain': {'x': [0.624, 0.792], 'y': [0.404, 0.5960000000000001]},\n",
       "                'radialaxis': {'color': 'rgba(0,0,0,0)',\n",
       "                               'gridcolor': 'rgba(0,0,0,0)',\n",
       "                               'linecolor': 'rgba(0,0,0,0)',\n",
       "                               'visible': False}},\n",
       "    'polar15': {'angularaxis': {'color': 'rgba(0,0,0,0)',\n",
       "                                'direction': 'clockwise',\n",
       "                                'gridcolor': 'rgba(0,0,0,0)',\n",
       "                                'linecolor': 'rgba(0,0,0,0)',\n",
       "                                'rotation': 90,\n",
       "                                'visible': False},\n",
       "                'bgcolor': 'rgba(0,0,0,0)',\n",
       "                'domain': {'x': [0.832, 1.0], 'y': [0.404, 0.5960000000000001]},\n",
       "                'radialaxis': {'color': 'rgba(0,0,0,0)',\n",
       "                               'gridcolor': 'rgba(0,0,0,0)',\n",
       "                               'linecolor': 'rgba(0,0,0,0)',\n",
       "                               'visible': False}},\n",
       "    'polar16': {'angularaxis': {'color': 'rgba(0,0,0,0)',\n",
       "                                'direction': 'clockwise',\n",
       "                                'gridcolor': 'rgba(0,0,0,0)',\n",
       "                                'linecolor': 'rgba(0,0,0,0)',\n",
       "                                'rotation': 90,\n",
       "                                'visible': False},\n",
       "                'bgcolor': 'rgba(0,0,0,0)',\n",
       "                'domain': {'x': [0.0, 0.16799999999999998], 'y': [0.202, 0.394]},\n",
       "                'radialaxis': {'color': 'rgba(0,0,0,0)',\n",
       "                               'gridcolor': 'rgba(0,0,0,0)',\n",
       "                               'linecolor': 'rgba(0,0,0,0)',\n",
       "                               'visible': False}},\n",
       "    'polar17': {'angularaxis': {'color': 'rgba(0,0,0,0)',\n",
       "                                'direction': 'clockwise',\n",
       "                                'gridcolor': 'rgba(0,0,0,0)',\n",
       "                                'linecolor': 'rgba(0,0,0,0)',\n",
       "                                'rotation': 90,\n",
       "                                'visible': False},\n",
       "                'bgcolor': 'rgba(0,0,0,0)',\n",
       "                'domain': {'x': [0.208, 0.376], 'y': [0.202, 0.394]},\n",
       "                'radialaxis': {'color': 'rgba(0,0,0,0)',\n",
       "                               'gridcolor': 'rgba(0,0,0,0)',\n",
       "                               'linecolor': 'rgba(0,0,0,0)',\n",
       "                               'visible': False}},\n",
       "    'polar18': {'angularaxis': {'color': 'rgba(0,0,0,0)',\n",
       "                                'direction': 'clockwise',\n",
       "                                'gridcolor': 'rgba(0,0,0,0)',\n",
       "                                'linecolor': 'rgba(0,0,0,0)',\n",
       "                                'rotation': 90,\n",
       "                                'visible': False},\n",
       "                'bgcolor': 'rgba(0,0,0,0)',\n",
       "                'domain': {'x': [0.416, 0.584], 'y': [0.202, 0.394]},\n",
       "                'radialaxis': {'color': 'rgba(0,0,0,0)',\n",
       "                               'gridcolor': 'rgba(0,0,0,0)',\n",
       "                               'linecolor': 'rgba(0,0,0,0)',\n",
       "                               'visible': False}},\n",
       "    'polar19': {'angularaxis': {'color': 'rgba(0,0,0,0)',\n",
       "                                'direction': 'clockwise',\n",
       "                                'gridcolor': 'rgba(0,0,0,0)',\n",
       "                                'linecolor': 'rgba(0,0,0,0)',\n",
       "                                'rotation': 90,\n",
       "                                'visible': False},\n",
       "                'bgcolor': 'rgba(0,0,0,0)',\n",
       "                'domain': {'x': [0.624, 0.792], 'y': [0.202, 0.394]},\n",
       "                'radialaxis': {'color': 'rgba(0,0,0,0)',\n",
       "                               'gridcolor': 'rgba(0,0,0,0)',\n",
       "                               'linecolor': 'rgba(0,0,0,0)',\n",
       "                               'visible': False}},\n",
       "    'polar2': {'angularaxis': {'color': 'rgba(0,0,0,0)',\n",
       "                               'direction': 'clockwise',\n",
       "                               'gridcolor': 'rgba(0,0,0,0)',\n",
       "                               'linecolor': 'rgba(0,0,0,0)',\n",
       "                               'rotation': 90,\n",
       "                               'visible': False},\n",
       "               'bgcolor': 'rgba(0,0,0,0)',\n",
       "               'domain': {'x': [0.208, 0.376], 'y': [0.808, 1.0]},\n",
       "               'radialaxis': {'color': 'rgba(0,0,0,0)',\n",
       "                              'gridcolor': 'rgba(0,0,0,0)',\n",
       "                              'linecolor': 'rgba(0,0,0,0)',\n",
       "                              'visible': False}},\n",
       "    'polar20': {'angularaxis': {'color': 'rgba(0,0,0,0)',\n",
       "                                'direction': 'clockwise',\n",
       "                                'gridcolor': 'rgba(0,0,0,0)',\n",
       "                                'linecolor': 'rgba(0,0,0,0)',\n",
       "                                'rotation': 90,\n",
       "                                'visible': False},\n",
       "                'bgcolor': 'rgba(0,0,0,0)',\n",
       "                'domain': {'x': [0.832, 1.0], 'y': [0.202, 0.394]},\n",
       "                'radialaxis': {'color': 'rgba(0,0,0,0)',\n",
       "                               'gridcolor': 'rgba(0,0,0,0)',\n",
       "                               'linecolor': 'rgba(0,0,0,0)',\n",
       "                               'visible': False}},\n",
       "    'polar21': {'angularaxis': {'color': 'rgba(0,0,0,0)',\n",
       "                                'direction': 'clockwise',\n",
       "                                'gridcolor': 'rgba(0,0,0,0)',\n",
       "                                'linecolor': 'rgba(0,0,0,0)',\n",
       "                                'rotation': 90,\n",
       "                                'visible': False},\n",
       "                'bgcolor': 'rgba(0,0,0,0)',\n",
       "                'domain': {'x': [0.0, 0.16799999999999998], 'y': [0.0, 0.192]},\n",
       "                'radialaxis': {'color': 'rgba(0,0,0,0)',\n",
       "                               'gridcolor': 'rgba(0,0,0,0)',\n",
       "                               'linecolor': 'rgba(0,0,0,0)',\n",
       "                               'visible': False}},\n",
       "    'polar22': {'angularaxis': {'color': 'rgba(0,0,0,0)',\n",
       "                                'direction': 'clockwise',\n",
       "                                'gridcolor': 'rgba(0,0,0,0)',\n",
       "                                'linecolor': 'rgba(0,0,0,0)',\n",
       "                                'rotation': 90,\n",
       "                                'visible': False},\n",
       "                'bgcolor': 'rgba(0,0,0,0)',\n",
       "                'domain': {'x': [0.208, 0.376], 'y': [0.0, 0.192]},\n",
       "                'radialaxis': {'color': 'rgba(0,0,0,0)',\n",
       "                               'gridcolor': 'rgba(0,0,0,0)',\n",
       "                               'linecolor': 'rgba(0,0,0,0)',\n",
       "                               'visible': False}},\n",
       "    'polar23': {'angularaxis': {'color': 'rgba(0,0,0,0)',\n",
       "                                'direction': 'clockwise',\n",
       "                                'gridcolor': 'rgba(0,0,0,0)',\n",
       "                                'linecolor': 'rgba(0,0,0,0)',\n",
       "                                'rotation': 90,\n",
       "                                'visible': False},\n",
       "                'bgcolor': 'rgba(0,0,0,0)',\n",
       "                'domain': {'x': [0.416, 0.584], 'y': [0.0, 0.192]},\n",
       "                'radialaxis': {'color': 'rgba(0,0,0,0)',\n",
       "                               'gridcolor': 'rgba(0,0,0,0)',\n",
       "                               'linecolor': 'rgba(0,0,0,0)',\n",
       "                               'visible': False}},\n",
       "    'polar24': {'angularaxis': {'color': 'rgba(0,0,0,0)',\n",
       "                                'direction': 'clockwise',\n",
       "                                'gridcolor': 'rgba(0,0,0,0)',\n",
       "                                'linecolor': 'rgba(0,0,0,0)',\n",
       "                                'rotation': 90,\n",
       "                                'visible': False},\n",
       "                'bgcolor': 'rgba(0,0,0,0)',\n",
       "                'domain': {'x': [0.624, 0.792], 'y': [0.0, 0.192]},\n",
       "                'radialaxis': {'color': 'rgba(0,0,0,0)',\n",
       "                               'gridcolor': 'rgba(0,0,0,0)',\n",
       "                               'linecolor': 'rgba(0,0,0,0)',\n",
       "                               'visible': False}},\n",
       "    'polar25': {'angularaxis': {'color': 'rgba(0,0,0,0)',\n",
       "                                'direction': 'clockwise',\n",
       "                                'gridcolor': 'rgba(0,0,0,0)',\n",
       "                                'linecolor': 'rgba(0,0,0,0)',\n",
       "                                'rotation': 90,\n",
       "                                'visible': False},\n",
       "                'bgcolor': 'rgba(0,0,0,0)',\n",
       "                'domain': {'x': [0.832, 1.0], 'y': [0.0, 0.192]},\n",
       "                'radialaxis': {'color': 'rgba(0,0,0,0)',\n",
       "                               'gridcolor': 'rgba(0,0,0,0)',\n",
       "                               'linecolor': 'rgba(0,0,0,0)',\n",
       "                               'visible': False}},\n",
       "    'polar3': {'angularaxis': {'color': 'rgba(0,0,0,0)',\n",
       "                               'direction': 'clockwise',\n",
       "                               'gridcolor': 'rgba(0,0,0,0)',\n",
       "                               'linecolor': 'rgba(0,0,0,0)',\n",
       "                               'rotation': 90,\n",
       "                               'visible': False},\n",
       "               'bgcolor': 'rgba(0,0,0,0)',\n",
       "               'domain': {'x': [0.416, 0.584], 'y': [0.808, 1.0]},\n",
       "               'radialaxis': {'color': 'rgba(0,0,0,0)',\n",
       "                              'gridcolor': 'rgba(0,0,0,0)',\n",
       "                              'linecolor': 'rgba(0,0,0,0)',\n",
       "                              'visible': False}},\n",
       "    'polar4': {'angularaxis': {'color': 'rgba(0,0,0,0)',\n",
       "                               'direction': 'clockwise',\n",
       "                               'gridcolor': 'rgba(0,0,0,0)',\n",
       "                               'linecolor': 'rgba(0,0,0,0)',\n",
       "                               'rotation': 90,\n",
       "                               'visible': False},\n",
       "               'bgcolor': 'rgba(0,0,0,0)',\n",
       "               'domain': {'x': [0.624, 0.792], 'y': [0.808, 1.0]},\n",
       "               'radialaxis': {'color': 'rgba(0,0,0,0)',\n",
       "                              'gridcolor': 'rgba(0,0,0,0)',\n",
       "                              'linecolor': 'rgba(0,0,0,0)',\n",
       "                              'visible': False}},\n",
       "    'polar5': {'angularaxis': {'color': 'rgba(0,0,0,0)',\n",
       "                               'direction': 'clockwise',\n",
       "                               'gridcolor': 'rgba(0,0,0,0)',\n",
       "                               'linecolor': 'rgba(0,0,0,0)',\n",
       "                               'rotation': 90,\n",
       "                               'visible': False},\n",
       "               'bgcolor': 'rgba(0,0,0,0)',\n",
       "               'domain': {'x': [0.832, 1.0], 'y': [0.808, 1.0]},\n",
       "               'radialaxis': {'color': 'rgba(0,0,0,0)',\n",
       "                              'gridcolor': 'rgba(0,0,0,0)',\n",
       "                              'linecolor': 'rgba(0,0,0,0)',\n",
       "                              'visible': False}},\n",
       "    'polar6': {'angularaxis': {'color': 'rgba(0,0,0,0)',\n",
       "                               'direction': 'clockwise',\n",
       "                               'gridcolor': 'rgba(0,0,0,0)',\n",
       "                               'linecolor': 'rgba(0,0,0,0)',\n",
       "                               'rotation': 90,\n",
       "                               'visible': False},\n",
       "               'bgcolor': 'rgba(0,0,0,0)',\n",
       "               'domain': {'x': [0.0, 0.16799999999999998], 'y': [0.6060000000000001, 0.798]},\n",
       "               'radialaxis': {'color': 'rgba(0,0,0,0)',\n",
       "                              'gridcolor': 'rgba(0,0,0,0)',\n",
       "                              'linecolor': 'rgba(0,0,0,0)',\n",
       "                              'visible': False}},\n",
       "    'polar7': {'angularaxis': {'color': 'rgba(0,0,0,0)',\n",
       "                               'direction': 'clockwise',\n",
       "                               'gridcolor': 'rgba(0,0,0,0)',\n",
       "                               'linecolor': 'rgba(0,0,0,0)',\n",
       "                               'rotation': 90,\n",
       "                               'visible': False},\n",
       "               'bgcolor': 'rgba(0,0,0,0)',\n",
       "               'domain': {'x': [0.208, 0.376], 'y': [0.6060000000000001, 0.798]},\n",
       "               'radialaxis': {'color': 'rgba(0,0,0,0)',\n",
       "                              'gridcolor': 'rgba(0,0,0,0)',\n",
       "                              'linecolor': 'rgba(0,0,0,0)',\n",
       "                              'visible': False}},\n",
       "    'polar8': {'angularaxis': {'color': 'rgba(0,0,0,0)',\n",
       "                               'direction': 'clockwise',\n",
       "                               'gridcolor': 'rgba(0,0,0,0)',\n",
       "                               'linecolor': 'rgba(0,0,0,0)',\n",
       "                               'rotation': 90,\n",
       "                               'visible': False},\n",
       "               'bgcolor': 'rgba(0,0,0,0)',\n",
       "               'domain': {'x': [0.416, 0.584], 'y': [0.6060000000000001, 0.798]},\n",
       "               'radialaxis': {'color': 'rgba(0,0,0,0)',\n",
       "                              'gridcolor': 'rgba(0,0,0,0)',\n",
       "                              'linecolor': 'rgba(0,0,0,0)',\n",
       "                              'visible': False}},\n",
       "    'polar9': {'angularaxis': {'color': 'rgba(0,0,0,0)',\n",
       "                               'direction': 'clockwise',\n",
       "                               'gridcolor': 'rgba(0,0,0,0)',\n",
       "                               'linecolor': 'rgba(0,0,0,0)',\n",
       "                               'rotation': 90,\n",
       "                               'visible': False},\n",
       "               'bgcolor': 'rgba(0,0,0,0)',\n",
       "               'domain': {'x': [0.624, 0.792], 'y': [0.6060000000000001, 0.798]},\n",
       "               'radialaxis': {'color': 'rgba(0,0,0,0)',\n",
       "                              'gridcolor': 'rgba(0,0,0,0)',\n",
       "                              'linecolor': 'rgba(0,0,0,0)',\n",
       "                              'visible': False}},\n",
       "    'showlegend': True,\n",
       "    'template': '...',\n",
       "    'title': {'text': ('<span style=\"  font-size: 30pt' ... '>South Korea Pass Wagon</span>'),\n",
       "              'x': 0.5,\n",
       "              'xref': 'paper',\n",
       "              'y': 0.9},\n",
       "    'width': 1600,\n",
       "    'xaxis': {'showgrid': False, 'showline': False, 'zeroline': False},\n",
       "    'yaxis': {'showgrid': False, 'showline': False, 'zeroline': False}\n",
       "})"
      ]
     },
     "execution_count": 164,
     "metadata": {},
     "output_type": "execute_result"
    }
   ],
   "source": [
    "fig2.layout.update(legend=dict(\n",
    "        x=0,\n",
    "        y=1,\n",
    "        traceorder='normal',\n",
    "        font=dict(\n",
    "            family='sans-serif',\n",
    "            size=12,\n",
    "            color='white'\n",
    "        ),\n",
    "        bgcolor='green',\n",
    "        bordercolor='#FFFFFF',\n",
    "        borderwidth=2\n",
    "    ),title = dict(text=\"<span style=\\\"  font-size: 30pt;font-family: 'Arial';color: White;text-shadow:0px -3px 0 #212121,0px -3px 0 #212121,0px  3px 0 #212121,0px  3px 0 #212121,-3px  0px 0 #212121,  3px  0px 0 #212121,-3px  0px 0 #212121,3px  0px 0 #212121,-3px -3px 0 #212121,  3px -3px 0 #212121,-3px  3px 0 #212121,3px  3px 0 #212121,-3px  9px 0 #212121,0px  9px 0 #212121,3px  9px 0 #212121,0 9px 1px rgba(0,0,0,.1),0 0 3px rgba(0,0,0,.1),0 3px 1.5px rgba(0,0,0,.3),0 6px 3px rgba(0,0,0,.2),0 9px 9px rgba(0,0,0,.25),0 12px 12px rgba(0,0,0,.2),0 18px 18px rgba(0,0,0,.15);\\\">South Korea Pass Wagon</span>\",\n",
    "                  xref =\"paper\",x=0.5,y=0.90),\n",
    "                  )"
   ]
  },
  {
   "cell_type": "code",
   "execution_count": 165,
   "metadata": {},
   "outputs": [
    {
     "data": {
      "application/vnd.plotly.v1+json": {
       "config": {
        "plotlyServerURL": "https://plot.ly"
       },
       "data": [
        {
         "hoverlabel": {
          "namelength": 0
         },
         "hovertemplate": "binned_pass_length=No Pass<br>Frequency=%{r}<br>Angle=%{theta}",
         "legendgroup": "B",
         "marker": {
          "color": "#19d3f3"
         },
         "name": "binned_pass_length=No Pass",
         "r": [
          0,
          0,
          0,
          0,
          0,
          0,
          0,
          0,
          0,
          0,
          0,
          0,
          0,
          0
         ],
         "showlegend": false,
         "subplot": "polar23",
         "theta": [
          -165,
          -150,
          -135,
          -120,
          -105,
          -75,
          -45,
          60,
          90,
          105,
          120,
          135,
          150,
          165
         ],
         "type": "barpolar"
        },
        {
         "hoverlabel": {
          "namelength": 0
         },
         "hovertemplate": "binned_pass_length=medium<br>Frequency=%{r}<br>Angle=%{theta}",
         "legendgroup": "B",
         "marker": {
          "color": "rgb(252, 123, 3)"
         },
         "name": "Pass Length:medium",
         "r": [
          1,
          2
         ],
         "showlegend": true,
         "subplot": "polar23",
         "theta": [
          -90,
          -60
         ],
         "type": "barpolar"
        },
        {
         "hoverlabel": {
          "namelength": 0
         },
         "hovertemplate": "binned_pass_length=long<br>Frequency=%{r}<br>Angle=%{theta}",
         "legendgroup": "B",
         "marker": {
          "color": "rgb(252, 10, 3)"
         },
         "name": "Pass Length:long",
         "r": [
          2
         ],
         "showlegend": true,
         "subplot": "polar23",
         "theta": [
          -30
         ],
         "type": "barpolar"
        },
        {
         "hoverlabel": {
          "namelength": 0
         },
         "hovertemplate": "binned_pass_length=very_long<br>Frequency=%{r}<br>Angle=%{theta}",
         "legendgroup": "B",
         "marker": {
          "color": "rgb(252, 3, 3)"
         },
         "name": "Pass Length:very_long",
         "r": [
          4,
          4,
          7,
          8,
          2
         ],
         "showlegend": true,
         "subplot": "polar23",
         "theta": [
          -15,
          0,
          15,
          30,
          45
         ],
         "type": "barpolar"
        },
        {
         "hoverlabel": {
          "namelength": 0
         },
         "hovertemplate": "binned_pass_length=short<br>Frequency=%{r}<br>Angle=%{theta}",
         "legendgroup": "B",
         "marker": {
          "color": "rgb(252, 177, 3)"
         },
         "name": "Pass Length:short",
         "r": [
          1
         ],
         "showlegend": true,
         "subplot": "polar23",
         "theta": [
          75
         ],
         "type": "barpolar"
        },
        {
         "hoverlabel": {
          "namelength": 0
         },
         "hovertemplate": "binned_pass_length=No Pass<br>Frequency=%{r}<br>Angle=%{theta}",
         "legendgroup": "B",
         "marker": {
          "color": "#19d3f3"
         },
         "name": "binned_pass_length=No Pass",
         "r": [
          0,
          0,
          0,
          0,
          0,
          0,
          0,
          0,
          0
         ],
         "showlegend": false,
         "subplot": "polar20",
         "theta": [
          -165,
          -105,
          45,
          90,
          105,
          120,
          135,
          150,
          165
         ],
         "type": "barpolar"
        },
        {
         "hoverlabel": {
          "namelength": 0
         },
         "hovertemplate": "binned_pass_length=long<br>Frequency=%{r}<br>Angle=%{theta}",
         "legendgroup": "B",
         "marker": {
          "color": "rgb(252, 10, 3)"
         },
         "name": "binned_pass_length=long",
         "r": [
          1,
          1,
          3
         ],
         "showlegend": false,
         "subplot": "polar20",
         "theta": [
          -150,
          -120,
          15
         ],
         "type": "barpolar"
        },
        {
         "hoverlabel": {
          "namelength": 0
         },
         "hovertemplate": "binned_pass_length=short<br>Frequency=%{r}<br>Angle=%{theta}",
         "legendgroup": "B",
         "marker": {
          "color": "rgb(252, 177, 3)"
         },
         "name": "binned_pass_length=short",
         "r": [
          2,
          3,
          3,
          6,
          1
         ],
         "showlegend": false,
         "subplot": "polar20",
         "theta": [
          -135,
          -90,
          -75,
          -45,
          60
         ],
         "type": "barpolar"
        },
        {
         "hoverlabel": {
          "namelength": 0
         },
         "hovertemplate": "binned_pass_length=medium<br>Frequency=%{r}<br>Angle=%{theta}",
         "legendgroup": "B",
         "marker": {
          "color": "rgb(252, 123, 3)"
         },
         "name": "binned_pass_length=medium",
         "r": [
          4,
          1,
          4,
          1
         ],
         "showlegend": false,
         "subplot": "polar20",
         "theta": [
          -60,
          -30,
          0,
          75
         ],
         "type": "barpolar"
        },
        {
         "hoverlabel": {
          "namelength": 0
         },
         "hovertemplate": "binned_pass_length=very_long<br>Frequency=%{r}<br>Angle=%{theta}",
         "legendgroup": "B",
         "marker": {
          "color": "rgb(252, 3, 3)"
         },
         "name": "binned_pass_length=very_long",
         "r": [
          2,
          1
         ],
         "showlegend": false,
         "subplot": "polar20",
         "theta": [
          -15,
          30
         ],
         "type": "barpolar"
        },
        {
         "hoverlabel": {
          "namelength": 0
         },
         "hovertemplate": "binned_pass_length=No Pass<br>Frequency=%{r}<br>Angle=%{theta}",
         "legendgroup": "B",
         "marker": {
          "color": "#19d3f3"
         },
         "name": "binned_pass_length=No Pass",
         "r": [
          0,
          0,
          0,
          0,
          0,
          0,
          0,
          0,
          0,
          0,
          0,
          0,
          0
         ],
         "showlegend": false,
         "subplot": "polar19",
         "theta": [
          -165,
          -135,
          -105,
          -75,
          -60,
          -30,
          0,
          15,
          45,
          105,
          120,
          135,
          165
         ],
         "type": "barpolar"
        },
        {
         "hoverlabel": {
          "namelength": 0
         },
         "hovertemplate": "binned_pass_length=short<br>Frequency=%{r}<br>Angle=%{theta}",
         "legendgroup": "B",
         "marker": {
          "color": "rgb(252, 177, 3)"
         },
         "name": "binned_pass_length=short",
         "r": [
          1,
          1,
          2
         ],
         "showlegend": false,
         "subplot": "polar19",
         "theta": [
          -150,
          -45,
          30
         ],
         "type": "barpolar"
        },
        {
         "hoverlabel": {
          "namelength": 0
         },
         "hovertemplate": "binned_pass_length=long<br>Frequency=%{r}<br>Angle=%{theta}",
         "legendgroup": "B",
         "marker": {
          "color": "rgb(252, 10, 3)"
         },
         "name": "binned_pass_length=long",
         "r": [
          1,
          1
         ],
         "showlegend": false,
         "subplot": "polar19",
         "theta": [
          -120,
          -90
         ],
         "type": "barpolar"
        },
        {
         "hoverlabel": {
          "namelength": 0
         },
         "hovertemplate": "binned_pass_length=very_short<br>Frequency=%{r}<br>Angle=%{theta}",
         "legendgroup": "B",
         "marker": {
          "color": "rgb(252, 219, 3)"
         },
         "name": "Pass Length:very_short",
         "r": [
          1,
          1
         ],
         "showlegend": true,
         "subplot": "polar19",
         "theta": [
          -15,
          75
         ],
         "type": "barpolar"
        },
        {
         "hoverlabel": {
          "namelength": 0
         },
         "hovertemplate": "binned_pass_length=medium<br>Frequency=%{r}<br>Angle=%{theta}",
         "legendgroup": "B",
         "marker": {
          "color": "rgb(252, 123, 3)"
         },
         "name": "binned_pass_length=medium",
         "r": [
          2,
          1,
          1
         ],
         "showlegend": false,
         "subplot": "polar19",
         "theta": [
          60,
          90,
          150
         ],
         "type": "barpolar"
        },
        {
         "hoverlabel": {
          "namelength": 0
         },
         "hovertemplate": "binned_pass_length=No Pass<br>Frequency=%{r}<br>Angle=%{theta}",
         "legendgroup": "B",
         "marker": {
          "color": "#19d3f3"
         },
         "name": "binned_pass_length=No Pass",
         "r": [
          0,
          0,
          0,
          0,
          0,
          0,
          0,
          0,
          0,
          0,
          0,
          0,
          0,
          0,
          0
         ],
         "showlegend": false,
         "subplot": "polar17",
         "theta": [
          -165,
          -150,
          -135,
          -120,
          -105,
          -90,
          -75,
          -45,
          -30,
          30,
          75,
          105,
          120,
          135,
          165
         ],
         "type": "barpolar"
        },
        {
         "hoverlabel": {
          "namelength": 0
         },
         "hovertemplate": "binned_pass_length=medium<br>Frequency=%{r}<br>Angle=%{theta}",
         "legendgroup": "B",
         "marker": {
          "color": "rgb(252, 123, 3)"
         },
         "name": "binned_pass_length=medium",
         "r": [
          3,
          2,
          3,
          1
         ],
         "showlegend": false,
         "subplot": "polar17",
         "theta": [
          -60,
          -15,
          90,
          150
         ],
         "type": "barpolar"
        },
        {
         "hoverlabel": {
          "namelength": 0
         },
         "hovertemplate": "binned_pass_length=long<br>Frequency=%{r}<br>Angle=%{theta}",
         "legendgroup": "B",
         "marker": {
          "color": "rgb(252, 10, 3)"
         },
         "name": "binned_pass_length=long",
         "r": [
          3
         ],
         "showlegend": false,
         "subplot": "polar17",
         "theta": [
          0
         ],
         "type": "barpolar"
        },
        {
         "hoverlabel": {
          "namelength": 0
         },
         "hovertemplate": "binned_pass_length=very_long<br>Frequency=%{r}<br>Angle=%{theta}",
         "legendgroup": "B",
         "marker": {
          "color": "rgb(252, 3, 3)"
         },
         "name": "binned_pass_length=very_long",
         "r": [
          1,
          2
         ],
         "showlegend": false,
         "subplot": "polar17",
         "theta": [
          15,
          60
         ],
         "type": "barpolar"
        },
        {
         "hoverlabel": {
          "namelength": 0
         },
         "hovertemplate": "binned_pass_length=short<br>Frequency=%{r}<br>Angle=%{theta}",
         "legendgroup": "B",
         "marker": {
          "color": "rgb(252, 177, 3)"
         },
         "name": "binned_pass_length=short",
         "r": [
          3
         ],
         "showlegend": false,
         "subplot": "polar17",
         "theta": [
          45
         ],
         "type": "barpolar"
        },
        {
         "hoverlabel": {
          "namelength": 0
         },
         "hovertemplate": "binned_pass_length=No Pass<br>Frequency=%{r}<br>Angle=%{theta}",
         "legendgroup": "B",
         "marker": {
          "color": "#19d3f3"
         },
         "name": "binned_pass_length=No Pass",
         "r": [
          0,
          0,
          0,
          0,
          0,
          0,
          0,
          0,
          0
         ],
         "showlegend": false,
         "subplot": "polar16",
         "theta": [
          -165,
          -150,
          -135,
          -120,
          -105,
          -90,
          -75,
          -30,
          165
         ],
         "type": "barpolar"
        },
        {
         "hoverlabel": {
          "namelength": 0
         },
         "hovertemplate": "binned_pass_length=very_short<br>Frequency=%{r}<br>Angle=%{theta}",
         "legendgroup": "B",
         "marker": {
          "color": "rgb(252, 219, 3)"
         },
         "name": "binned_pass_length=very_short",
         "r": [
          1
         ],
         "showlegend": false,
         "subplot": "polar16",
         "theta": [
          -60
         ],
         "type": "barpolar"
        },
        {
         "hoverlabel": {
          "namelength": 0
         },
         "hovertemplate": "binned_pass_length=medium<br>Frequency=%{r}<br>Angle=%{theta}",
         "legendgroup": "B",
         "marker": {
          "color": "rgb(252, 123, 3)"
         },
         "name": "binned_pass_length=medium",
         "r": [
          1,
          3,
          4,
          2,
          1,
          1,
          1
         ],
         "showlegend": false,
         "subplot": "polar16",
         "theta": [
          -45,
          30,
          45,
          90,
          105,
          120,
          150
         ],
         "type": "barpolar"
        },
        {
         "hoverlabel": {
          "namelength": 0
         },
         "hovertemplate": "binned_pass_length=long<br>Frequency=%{r}<br>Angle=%{theta}",
         "legendgroup": "B",
         "marker": {
          "color": "rgb(252, 10, 3)"
         },
         "name": "binned_pass_length=long",
         "r": [
          2,
          3,
          3,
          1
         ],
         "showlegend": false,
         "subplot": "polar16",
         "theta": [
          -15,
          15,
          60,
          135
         ],
         "type": "barpolar"
        },
        {
         "hoverlabel": {
          "namelength": 0
         },
         "hovertemplate": "binned_pass_length=very_long<br>Frequency=%{r}<br>Angle=%{theta}",
         "legendgroup": "B",
         "marker": {
          "color": "rgb(252, 3, 3)"
         },
         "name": "binned_pass_length=very_long",
         "r": [
          4
         ],
         "showlegend": false,
         "subplot": "polar16",
         "theta": [
          0
         ],
         "type": "barpolar"
        },
        {
         "hoverlabel": {
          "namelength": 0
         },
         "hovertemplate": "binned_pass_length=short<br>Frequency=%{r}<br>Angle=%{theta}",
         "legendgroup": "B",
         "marker": {
          "color": "rgb(252, 177, 3)"
         },
         "name": "binned_pass_length=short",
         "r": [
          3
         ],
         "showlegend": false,
         "subplot": "polar16",
         "theta": [
          75
         ],
         "type": "barpolar"
        },
        {
         "hoverlabel": {
          "namelength": 0
         },
         "hovertemplate": "binned_pass_length=No Pass<br>Frequency=%{r}<br>Angle=%{theta}",
         "legendgroup": "B",
         "marker": {
          "color": "#19d3f3"
         },
         "name": "binned_pass_length=No Pass",
         "r": [
          0,
          0,
          0,
          0
         ],
         "showlegend": false,
         "subplot": "polar15",
         "theta": [
          -165,
          -135,
          -120,
          75
         ],
         "type": "barpolar"
        },
        {
         "hoverlabel": {
          "namelength": 0
         },
         "hovertemplate": "binned_pass_length=very_short<br>Frequency=%{r}<br>Angle=%{theta}",
         "legendgroup": "B",
         "marker": {
          "color": "rgb(252, 219, 3)"
         },
         "name": "binned_pass_length=very_short",
         "r": [
          1
         ],
         "showlegend": false,
         "subplot": "polar15",
         "theta": [
          -150
         ],
         "type": "barpolar"
        },
        {
         "hoverlabel": {
          "namelength": 0
         },
         "hovertemplate": "binned_pass_length=short<br>Frequency=%{r}<br>Angle=%{theta}",
         "legendgroup": "B",
         "marker": {
          "color": "rgb(252, 177, 3)"
         },
         "name": "binned_pass_length=short",
         "r": [
          1,
          5,
          2,
          2,
          1,
          1,
          1,
          2,
          1,
          2,
          2
         ],
         "showlegend": false,
         "subplot": "polar15",
         "theta": [
          -105,
          -60,
          -15,
          0,
          30,
          60,
          105,
          120,
          135,
          150,
          165
         ],
         "type": "barpolar"
        },
        {
         "hoverlabel": {
          "namelength": 0
         },
         "hovertemplate": "binned_pass_length=medium<br>Frequency=%{r}<br>Angle=%{theta}",
         "legendgroup": "B",
         "marker": {
          "color": "rgb(252, 123, 3)"
         },
         "name": "binned_pass_length=medium",
         "r": [
          2,
          2,
          2,
          2,
          1,
          1
         ],
         "showlegend": false,
         "subplot": "polar15",
         "theta": [
          -90,
          -75,
          -45,
          15,
          45,
          90
         ],
         "type": "barpolar"
        },
        {
         "hoverlabel": {
          "namelength": 0
         },
         "hovertemplate": "binned_pass_length=long<br>Frequency=%{r}<br>Angle=%{theta}",
         "legendgroup": "B",
         "marker": {
          "color": "rgb(252, 10, 3)"
         },
         "name": "binned_pass_length=long",
         "r": [
          3
         ],
         "showlegend": false,
         "subplot": "polar15",
         "theta": [
          -30
         ],
         "type": "barpolar"
        },
        {
         "hoverlabel": {
          "namelength": 0
         },
         "hovertemplate": "binned_pass_length=No Pass<br>Frequency=%{r}<br>Angle=%{theta}",
         "legendgroup": "B",
         "marker": {
          "color": "#19d3f3"
         },
         "name": "binned_pass_length=No Pass",
         "r": [
          0,
          0,
          0,
          0,
          0,
          0,
          0,
          0,
          0,
          0
         ],
         "showlegend": false,
         "subplot": "polar14",
         "theta": [
          -165,
          -150,
          -135,
          -105,
          -60,
          0,
          30,
          60,
          105,
          165
         ],
         "type": "barpolar"
        },
        {
         "hoverlabel": {
          "namelength": 0
         },
         "hovertemplate": "binned_pass_length=very_short<br>Frequency=%{r}<br>Angle=%{theta}",
         "legendgroup": "B",
         "marker": {
          "color": "rgb(252, 219, 3)"
         },
         "name": "binned_pass_length=very_short",
         "r": [
          1,
          1,
          1
         ],
         "showlegend": false,
         "subplot": "polar14",
         "theta": [
          -120,
          -15,
          135
         ],
         "type": "barpolar"
        },
        {
         "hoverlabel": {
          "namelength": 0
         },
         "hovertemplate": "binned_pass_length=medium<br>Frequency=%{r}<br>Angle=%{theta}",
         "legendgroup": "B",
         "marker": {
          "color": "rgb(252, 123, 3)"
         },
         "name": "binned_pass_length=medium",
         "r": [
          2,
          1,
          2,
          2
         ],
         "showlegend": false,
         "subplot": "polar14",
         "theta": [
          -90,
          -45,
          75,
          90
         ],
         "type": "barpolar"
        },
        {
         "hoverlabel": {
          "namelength": 0
         },
         "hovertemplate": "binned_pass_length=short<br>Frequency=%{r}<br>Angle=%{theta}",
         "legendgroup": "B",
         "marker": {
          "color": "rgb(252, 177, 3)"
         },
         "name": "binned_pass_length=short",
         "r": [
          2,
          1,
          1,
          1,
          1
         ],
         "showlegend": false,
         "subplot": "polar14",
         "theta": [
          -75,
          -30,
          45,
          120,
          150
         ],
         "type": "barpolar"
        },
        {
         "hoverlabel": {
          "namelength": 0
         },
         "hovertemplate": "binned_pass_length=long<br>Frequency=%{r}<br>Angle=%{theta}",
         "legendgroup": "B",
         "marker": {
          "color": "rgb(252, 10, 3)"
         },
         "name": "binned_pass_length=long",
         "r": [
          2
         ],
         "showlegend": false,
         "subplot": "polar14",
         "theta": [
          15
         ],
         "type": "barpolar"
        },
        {
         "hoverlabel": {
          "namelength": 0
         },
         "hovertemplate": "binned_pass_length=short<br>Frequency=%{r}<br>Angle=%{theta}",
         "legendgroup": "B",
         "marker": {
          "color": "rgb(252, 177, 3)"
         },
         "name": "binned_pass_length=short",
         "r": [
          2,
          1,
          2,
          1,
          1
         ],
         "showlegend": false,
         "subplot": "polar12",
         "theta": [
          -165,
          -105,
          45,
          105,
          135
         ],
         "type": "barpolar"
        },
        {
         "hoverlabel": {
          "namelength": 0
         },
         "hovertemplate": "binned_pass_length=No Pass<br>Frequency=%{r}<br>Angle=%{theta}",
         "legendgroup": "B",
         "marker": {
          "color": "#19d3f3"
         },
         "name": "binned_pass_length=No Pass",
         "r": [
          0,
          0,
          0,
          0,
          0,
          0,
          0
         ],
         "showlegend": false,
         "subplot": "polar12",
         "theta": [
          -150,
          -120,
          -30,
          90,
          120,
          150,
          165
         ],
         "type": "barpolar"
        },
        {
         "hoverlabel": {
          "namelength": 0
         },
         "hovertemplate": "binned_pass_length=medium<br>Frequency=%{r}<br>Angle=%{theta}",
         "legendgroup": "B",
         "marker": {
          "color": "rgb(252, 123, 3)"
         },
         "name": "binned_pass_length=medium",
         "r": [
          1,
          1,
          3,
          2
         ],
         "showlegend": false,
         "subplot": "polar12",
         "theta": [
          -135,
          -75,
          -45,
          0
         ],
         "type": "barpolar"
        },
        {
         "hoverlabel": {
          "namelength": 0
         },
         "hovertemplate": "binned_pass_length=very_short<br>Frequency=%{r}<br>Angle=%{theta}",
         "legendgroup": "B",
         "marker": {
          "color": "rgb(252, 219, 3)"
         },
         "name": "binned_pass_length=very_short",
         "r": [
          2
         ],
         "showlegend": false,
         "subplot": "polar12",
         "theta": [
          -90
         ],
         "type": "barpolar"
        },
        {
         "hoverlabel": {
          "namelength": 0
         },
         "hovertemplate": "binned_pass_length=very_long<br>Frequency=%{r}<br>Angle=%{theta}",
         "legendgroup": "B",
         "marker": {
          "color": "rgb(252, 3, 3)"
         },
         "name": "binned_pass_length=very_long",
         "r": [
          2,
          2
         ],
         "showlegend": false,
         "subplot": "polar12",
         "theta": [
          -60,
          30
         ],
         "type": "barpolar"
        },
        {
         "hoverlabel": {
          "namelength": 0
         },
         "hovertemplate": "binned_pass_length=long<br>Frequency=%{r}<br>Angle=%{theta}",
         "legendgroup": "B",
         "marker": {
          "color": "rgb(252, 10, 3)"
         },
         "name": "binned_pass_length=long",
         "r": [
          1,
          3,
          3,
          1
         ],
         "showlegend": false,
         "subplot": "polar12",
         "theta": [
          -15,
          15,
          60,
          75
         ],
         "type": "barpolar"
        },
        {
         "hoverlabel": {
          "namelength": 0
         },
         "hovertemplate": "binned_pass_length=short<br>Frequency=%{r}<br>Angle=%{theta}",
         "legendgroup": "B",
         "marker": {
          "color": "rgb(252, 177, 3)"
         },
         "name": "binned_pass_length=short",
         "r": [
          1,
          1,
          2,
          1,
          1
         ],
         "showlegend": false,
         "subplot": "polar11",
         "theta": [
          -165,
          60,
          75,
          120,
          165
         ],
         "type": "barpolar"
        },
        {
         "hoverlabel": {
          "namelength": 0
         },
         "hovertemplate": "binned_pass_length=No Pass<br>Frequency=%{r}<br>Angle=%{theta}",
         "legendgroup": "B",
         "marker": {
          "color": "#19d3f3"
         },
         "name": "binned_pass_length=No Pass",
         "r": [
          0,
          0,
          0,
          0,
          0,
          0,
          0,
          0,
          0,
          0,
          0,
          0,
          0,
          0
         ],
         "showlegend": false,
         "subplot": "polar11",
         "theta": [
          -150,
          -135,
          -120,
          -90,
          -60,
          -45,
          -30,
          -15,
          15,
          30,
          45,
          90,
          135,
          150
         ],
         "type": "barpolar"
        },
        {
         "hoverlabel": {
          "namelength": 0
         },
         "hovertemplate": "binned_pass_length=very_short<br>Frequency=%{r}<br>Angle=%{theta}",
         "legendgroup": "B",
         "marker": {
          "color": "rgb(252, 219, 3)"
         },
         "name": "binned_pass_length=very_short",
         "r": [
          1,
          1,
          2
         ],
         "showlegend": false,
         "subplot": "polar11",
         "theta": [
          -105,
          0,
          105
         ],
         "type": "barpolar"
        },
        {
         "hoverlabel": {
          "namelength": 0
         },
         "hovertemplate": "binned_pass_length=medium<br>Frequency=%{r}<br>Angle=%{theta}",
         "legendgroup": "B",
         "marker": {
          "color": "rgb(252, 123, 3)"
         },
         "name": "binned_pass_length=medium",
         "r": [
          1
         ],
         "showlegend": false,
         "subplot": "polar11",
         "theta": [
          -75
         ],
         "type": "barpolar"
        },
        {
         "hoverlabel": {
          "namelength": 0
         },
         "hovertemplate": "binned_pass_length=short<br>Frequency=%{r}<br>Angle=%{theta}",
         "legendgroup": "B",
         "marker": {
          "color": "rgb(252, 177, 3)"
         },
         "name": "binned_pass_length=short",
         "r": [
          1,
          1,
          2,
          2,
          1
         ],
         "showlegend": false,
         "subplot": "polar9",
         "theta": [
          -165,
          -15,
          0,
          30,
          150
         ],
         "type": "barpolar"
        },
        {
         "hoverlabel": {
          "namelength": 0
         },
         "hovertemplate": "binned_pass_length=very_short<br>Frequency=%{r}<br>Angle=%{theta}",
         "legendgroup": "B",
         "marker": {
          "color": "rgb(252, 219, 3)"
         },
         "name": "binned_pass_length=very_short",
         "r": [
          1,
          1,
          1,
          1
         ],
         "showlegend": false,
         "subplot": "polar9",
         "theta": [
          -150,
          -135,
          -45,
          120
         ],
         "type": "barpolar"
        },
        {
         "hoverlabel": {
          "namelength": 0
         },
         "hovertemplate": "binned_pass_length=No Pass<br>Frequency=%{r}<br>Angle=%{theta}",
         "legendgroup": "B",
         "marker": {
          "color": "#19d3f3"
         },
         "name": "binned_pass_length=No Pass",
         "r": [
          0,
          0,
          0,
          0,
          0,
          0,
          0,
          0,
          0,
          0
         ],
         "showlegend": false,
         "subplot": "polar9",
         "theta": [
          -120,
          -105,
          -60,
          -30,
          15,
          45,
          60,
          75,
          90,
          135
         ],
         "type": "barpolar"
        },
        {
         "hoverlabel": {
          "namelength": 0
         },
         "hovertemplate": "binned_pass_length=very_long<br>Frequency=%{r}<br>Angle=%{theta}",
         "legendgroup": "B",
         "marker": {
          "color": "rgb(252, 3, 3)"
         },
         "name": "binned_pass_length=very_long",
         "r": [
          1
         ],
         "showlegend": false,
         "subplot": "polar9",
         "theta": [
          -90
         ],
         "type": "barpolar"
        },
        {
         "hoverlabel": {
          "namelength": 0
         },
         "hovertemplate": "binned_pass_length=medium<br>Frequency=%{r}<br>Angle=%{theta}",
         "legendgroup": "B",
         "marker": {
          "color": "rgb(252, 123, 3)"
         },
         "name": "binned_pass_length=medium",
         "r": [
          1,
          3,
          2
         ],
         "showlegend": false,
         "subplot": "polar9",
         "theta": [
          -75,
          105,
          165
         ],
         "type": "barpolar"
        },
        {
         "hoverlabel": {
          "namelength": 0
         },
         "hovertemplate": "binned_pass_length=short<br>Frequency=%{r}<br>Angle=%{theta}",
         "legendgroup": "B",
         "marker": {
          "color": "rgb(252, 177, 3)"
         },
         "name": "binned_pass_length=short",
         "r": [
          1,
          1,
          1
         ],
         "showlegend": false,
         "subplot": "polar7",
         "theta": [
          -165,
          60,
          75
         ],
         "type": "barpolar"
        },
        {
         "hoverlabel": {
          "namelength": 0
         },
         "hovertemplate": "binned_pass_length=very_short<br>Frequency=%{r}<br>Angle=%{theta}",
         "legendgroup": "B",
         "marker": {
          "color": "rgb(252, 219, 3)"
         },
         "name": "binned_pass_length=very_short",
         "r": [
          1,
          1,
          2
         ],
         "showlegend": false,
         "subplot": "polar7",
         "theta": [
          -150,
          -60,
          90
         ],
         "type": "barpolar"
        },
        {
         "hoverlabel": {
          "namelength": 0
         },
         "hovertemplate": "binned_pass_length=No Pass<br>Frequency=%{r}<br>Angle=%{theta}",
         "legendgroup": "B",
         "marker": {
          "color": "#19d3f3"
         },
         "name": "binned_pass_length=No Pass",
         "r": [
          0,
          0,
          0,
          0,
          0,
          0,
          0,
          0,
          0,
          0,
          0,
          0,
          0,
          0,
          0,
          0,
          0
         ],
         "showlegend": false,
         "subplot": "polar7",
         "theta": [
          -135,
          -120,
          -105,
          -90,
          -75,
          -45,
          -30,
          -15,
          0,
          15,
          30,
          45,
          105,
          120,
          135,
          150,
          165
         ],
         "type": "barpolar"
        }
       ],
       "layout": {
        "annotations": [
         {
          "font": {
           "size": 16
          },
          "showarrow": false,
          "text": "<span style=\"  font-size: 20pt;font-family: 'Luckiest Guy';color: #fff;text-shadow:0px -3px 0 #212121,0px -3px 0 #212121,0px  3px 0 #212121,0px  3px 0 #212121,-3px  0px 0 #212121,  3px  0px 0 #212121,-3px  0px 0 #212121,3px  0px 0 #212121,-3px -3px 0 #212121,  3px -3px 0 #212121,-3px  3px 0 #212121,3px  3px 0 #212121,-3px  9px 0 #212121,0px  9px 0 #212121,3px  9px 0 #212121,0 9px 1px rgba(0,0,0,.1),0 0 3px rgba(0,0,0,.1),0 3px 1.5px rgba(0,0,0,.3),0 6px 3px rgba(0,0,0,.2),0 9px 9px rgba(0,0,0,.25),0 12px 12px rgba(0,0,0,.2),0 18px 18px rgba(0,0,0,.15);\">Ja-Cheol Koo</span>",
          "x": 0.292,
          "xanchor": "center",
          "xref": "paper",
          "y": 0.798,
          "yanchor": "bottom",
          "yref": "paper"
         },
         {
          "font": {
           "size": 16
          },
          "showarrow": false,
          "text": "<span style=\"  font-size: 20pt;font-family: 'Luckiest Guy';color: #fff;text-shadow:0px -3px 0 #212121,0px -3px 0 #212121,0px  3px 0 #212121,0px  3px 0 #212121,-3px  0px 0 #212121,  3px  0px 0 #212121,-3px  0px 0 #212121,3px  0px 0 #212121,-3px -3px 0 #212121,  3px -3px 0 #212121,-3px  3px 0 #212121,3px  3px 0 #212121,-3px  9px 0 #212121,0px  9px 0 #212121,3px  9px 0 #212121,0 9px 1px rgba(0,0,0,.1),0 0 3px rgba(0,0,0,.1),0 3px 1.5px rgba(0,0,0,.3),0 6px 3px rgba(0,0,0,.2),0 9px 9px rgba(0,0,0,.25),0 12px 12px rgba(0,0,0,.2),0 18px 18px rgba(0,0,0,.15);\">Heung-Min Son</span>",
          "x": 0.708,
          "xanchor": "center",
          "xref": "paper",
          "y": 0.798,
          "yanchor": "bottom",
          "yref": "paper"
         },
         {
          "font": {
           "size": 16
          },
          "showarrow": false,
          "text": "<span style=\"  font-size: 20pt;font-family: 'Luckiest Guy';color: #fff;text-shadow:0px -3px 0 #212121,0px -3px 0 #212121,0px  3px 0 #212121,0px  3px 0 #212121,-3px  0px 0 #212121,  3px  0px 0 #212121,-3px  0px 0 #212121,3px  0px 0 #212121,-3px -3px 0 #212121,  3px -3px 0 #212121,-3px  3px 0 #212121,3px  3px 0 #212121,-3px  9px 0 #212121,0px  9px 0 #212121,3px  9px 0 #212121,0 9px 1px rgba(0,0,0,.1),0 0 3px rgba(0,0,0,.1),0 3px 1.5px rgba(0,0,0,.3),0 6px 3px rgba(0,0,0,.2),0 9px 9px rgba(0,0,0,.25),0 12px 12px rgba(0,0,0,.2),0 18px 18px rgba(0,0,0,.15);\">Seon-Min Moon</span>",
          "x": 0.08399999999999999,
          "xanchor": "center",
          "xref": "paper",
          "y": 0.5960000000000001,
          "yanchor": "bottom",
          "yref": "paper"
         },
         {
          "font": {
           "size": 16
          },
          "showarrow": false,
          "text": "<span style=\"  font-size: 20pt;font-family: 'Luckiest Guy';color: #fff;text-shadow:0px -3px 0 #212121,0px -3px 0 #212121,0px  3px 0 #212121,0px  3px 0 #212121,-3px  0px 0 #212121,  3px  0px 0 #212121,-3px  0px 0 #212121,3px  0px 0 #212121,-3px -3px 0 #212121,  3px -3px 0 #212121,-3px  3px 0 #212121,3px  3px 0 #212121,-3px  9px 0 #212121,0px  9px 0 #212121,3px  9px 0 #212121,0 9px 1px rgba(0,0,0,.1),0 0 3px rgba(0,0,0,.1),0 3px 1.5px rgba(0,0,0,.3),0 6px 3px rgba(0,0,0,.2),0 9px 9px rgba(0,0,0,.25),0 12px 12px rgba(0,0,0,.2),0 18px 18px rgba(0,0,0,.15);\">Woo-Young Jung</span>",
          "x": 0.292,
          "xanchor": "center",
          "xref": "paper",
          "y": 0.5960000000000001,
          "yanchor": "bottom",
          "yref": "paper"
         },
         {
          "font": {
           "size": 16
          },
          "showarrow": false,
          "text": "<span style=\"  font-size: 20pt;font-family: 'Luckiest Guy';color: #fff;text-shadow:0px -3px 0 #212121,0px -3px 0 #212121,0px  3px 0 #212121,0px  3px 0 #212121,-3px  0px 0 #212121,  3px  0px 0 #212121,-3px  0px 0 #212121,3px  0px 0 #212121,-3px -3px 0 #212121,  3px -3px 0 #212121,-3px  3px 0 #212121,3px  3px 0 #212121,-3px  9px 0 #212121,0px  9px 0 #212121,3px  9px 0 #212121,0 9px 1px rgba(0,0,0,.1),0 0 3px rgba(0,0,0,.1),0 3px 1.5px rgba(0,0,0,.3),0 6px 3px rgba(0,0,0,.2),0 9px 9px rgba(0,0,0,.25),0 12px 12px rgba(0,0,0,.2),0 18px 18px rgba(0,0,0,.15);\">Hyun-Soo Jang</span>",
          "x": 0.708,
          "xanchor": "center",
          "xref": "paper",
          "y": 0.5960000000000001,
          "yanchor": "bottom",
          "yref": "paper"
         },
         {
          "font": {
           "size": 16
          },
          "showarrow": false,
          "text": "<span style=\"  font-size: 20pt;font-family: 'Luckiest Guy';color: #fff;text-shadow:0px -3px 0 #212121,0px -3px 0 #212121,0px  3px 0 #212121,0px  3px 0 #212121,-3px  0px 0 #212121,  3px  0px 0 #212121,-3px  0px 0 #212121,3px  0px 0 #212121,-3px -3px 0 #212121,  3px -3px 0 #212121,-3px  3px 0 #212121,3px  3px 0 #212121,-3px  9px 0 #212121,0px  9px 0 #212121,3px  9px 0 #212121,0 9px 1px rgba(0,0,0,.1),0 0 3px rgba(0,0,0,.1),0 3px 1.5px rgba(0,0,0,.3),0 6px 3px rgba(0,0,0,.2),0 9px 9px rgba(0,0,0,.25),0 12px 12px rgba(0,0,0,.2),0 18px 18px rgba(0,0,0,.15);\">Jae-Sung Lee</span>",
          "x": 0.9159999999999999,
          "xanchor": "center",
          "xref": "paper",
          "y": 0.5960000000000001,
          "yanchor": "bottom",
          "yref": "paper"
         },
         {
          "font": {
           "size": 16
          },
          "showarrow": false,
          "text": "<span style=\"  font-size: 20pt;font-family: 'Luckiest Guy';color: #fff;text-shadow:0px -3px 0 #212121,0px -3px 0 #212121,0px  3px 0 #212121,0px  3px 0 #212121,-3px  0px 0 #212121,  3px  0px 0 #212121,-3px  0px 0 #212121,3px  0px 0 #212121,-3px -3px 0 #212121,  3px -3px 0 #212121,-3px  3px 0 #212121,3px  3px 0 #212121,-3px  9px 0 #212121,0px  9px 0 #212121,3px  9px 0 #212121,0 9px 1px rgba(0,0,0,.1),0 0 3px rgba(0,0,0,.1),0 3px 1.5px rgba(0,0,0,.3),0 6px 3px rgba(0,0,0,.2),0 9px 9px rgba(0,0,0,.25),0 12px 12px rgba(0,0,0,.2),0 18px 18px rgba(0,0,0,.15);\">Chul Hong</span>",
          "x": 0.08399999999999999,
          "xanchor": "center",
          "xref": "paper",
          "y": 0.394,
          "yanchor": "bottom",
          "yref": "paper"
         },
         {
          "font": {
           "size": 16
          },
          "showarrow": false,
          "text": "<span style=\"  font-size: 20pt;font-family: 'Luckiest Guy';color: #fff;text-shadow:0px -3px 0 #212121,0px -3px 0 #212121,0px  3px 0 #212121,0px  3px 0 #212121,-3px  0px 0 #212121,  3px  0px 0 #212121,-3px  0px 0 #212121,3px  0px 0 #212121,-3px -3px 0 #212121,  3px -3px 0 #212121,-3px  3px 0 #212121,3px  3px 0 #212121,-3px  9px 0 #212121,0px  9px 0 #212121,3px  9px 0 #212121,0 9px 1px rgba(0,0,0,.1),0 0 3px rgba(0,0,0,.1),0 3px 1.5px rgba(0,0,0,.3),0 6px 3px rgba(0,0,0,.2),0 9px 9px rgba(0,0,0,.25),0 12px 12px rgba(0,0,0,.2),0 18px 18px rgba(0,0,0,.15);\">Young-Gwon Kim</span>",
          "x": 0.292,
          "xanchor": "center",
          "xref": "paper",
          "y": 0.394,
          "yanchor": "bottom",
          "yref": "paper"
         },
         {
          "font": {
           "size": 16
          },
          "showarrow": false,
          "text": "<span style=\"  font-size: 20pt;font-family: 'Luckiest Guy';color: #fff;text-shadow:0px -3px 0 #212121,0px -3px 0 #212121,0px  3px 0 #212121,0px  3px 0 #212121,-3px  0px 0 #212121,  3px  0px 0 #212121,-3px  0px 0 #212121,3px  0px 0 #212121,-3px -3px 0 #212121,  3px -3px 0 #212121,-3px  3px 0 #212121,3px  3px 0 #212121,-3px  9px 0 #212121,0px  9px 0 #212121,3px  9px 0 #212121,0 9px 1px rgba(0,0,0,.1),0 0 3px rgba(0,0,0,.1),0 3px 1.5px rgba(0,0,0,.3),0 6px 3px rgba(0,0,0,.2),0 9px 9px rgba(0,0,0,.25),0 12px 12px rgba(0,0,0,.2),0 18px 18px rgba(0,0,0,.15);\">Young-Sun Yun</span>",
          "x": 0.708,
          "xanchor": "center",
          "xref": "paper",
          "y": 0.394,
          "yanchor": "bottom",
          "yref": "paper"
         },
         {
          "font": {
           "size": 16
          },
          "showarrow": false,
          "text": "<span style=\"  font-size: 20pt;font-family: 'Luckiest Guy';color: #fff;text-shadow:0px -3px 0 #212121,0px -3px 0 #212121,0px  3px 0 #212121,0px  3px 0 #212121,-3px  0px 0 #212121,  3px  0px 0 #212121,-3px  0px 0 #212121,3px  0px 0 #212121,-3px -3px 0 #212121,  3px -3px 0 #212121,-3px  3px 0 #212121,3px  3px 0 #212121,-3px  9px 0 #212121,0px  9px 0 #212121,3px  9px 0 #212121,0 9px 1px rgba(0,0,0,.1),0 0 3px rgba(0,0,0,.1),0 3px 1.5px rgba(0,0,0,.3),0 6px 3px rgba(0,0,0,.2),0 9px 9px rgba(0,0,0,.25),0 12px 12px rgba(0,0,0,.2),0 18px 18px rgba(0,0,0,.15);\">Yong Lee</span>",
          "x": 0.9159999999999999,
          "xanchor": "center",
          "xref": "paper",
          "y": 0.394,
          "yanchor": "bottom",
          "yref": "paper"
         },
         {
          "font": {
           "size": 16
          },
          "showarrow": false,
          "text": "<span style=\"  font-size: 20pt;font-family: 'Luckiest Guy';color: #fff;text-shadow:0px -3px 0 #212121,0px -3px 0 #212121,0px  3px 0 #212121,0px  3px 0 #212121,-3px  0px 0 #212121,  3px  0px 0 #212121,-3px  0px 0 #212121,3px  0px 0 #212121,-3px -3px 0 #212121,  3px -3px 0 #212121,-3px  3px 0 #212121,3px  3px 0 #212121,-3px  9px 0 #212121,0px  9px 0 #212121,3px  9px 0 #212121,0 9px 1px rgba(0,0,0,.1),0 0 3px rgba(0,0,0,.1),0 3px 1.5px rgba(0,0,0,.3),0 6px 3px rgba(0,0,0,.2),0 9px 9px rgba(0,0,0,.25),0 12px 12px rgba(0,0,0,.2),0 18px 18px rgba(0,0,0,.15);\">Hyun-Woo Cho</span>",
          "x": 0.5,
          "xanchor": "center",
          "xref": "paper",
          "y": 0.192,
          "yanchor": "bottom",
          "yref": "paper"
         }
        ],
        "height": 1800,
        "images": [
         {
          "layer": "below",
          "opacity": 1,
          "sizex": 7,
          "sizey": 5,
          "sizing": "stretch",
          "source": "data:image/png;base64,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",
          "x": -1,
          "xref": "x",
          "y": 4,
          "yref": "y"
         }
        ],
        "legend": {
         "bgcolor": "green",
         "bordercolor": "#FFFFFF",
         "borderwidth": 2,
         "font": {
          "color": "white",
          "family": "sans-serif",
          "size": 12
         },
         "traceorder": "normal",
         "x": 0,
         "y": 1
        },
        "polar": {
         "angularaxis": {
          "color": "rgba(0,0,0,0)",
          "direction": "clockwise",
          "gridcolor": "rgba(0,0,0,0)",
          "linecolor": "rgba(0,0,0,0)",
          "rotation": 90,
          "visible": false
         },
         "bgcolor": "rgba(0,0,0,0)",
         "domain": {
          "x": [
           0,
           0.16799999999999998
          ],
          "y": [
           0.808,
           1
          ]
         },
         "radialaxis": {
          "color": "rgba(0,0,0,0)",
          "gridcolor": "rgba(0,0,0,0)",
          "linecolor": "rgba(0,0,0,0)",
          "visible": false
         }
        },
        "polar10": {
         "angularaxis": {
          "color": "rgba(0,0,0,0)",
          "direction": "clockwise",
          "gridcolor": "rgba(0,0,0,0)",
          "linecolor": "rgba(0,0,0,0)",
          "rotation": 90,
          "visible": false
         },
         "bgcolor": "rgba(0,0,0,0)",
         "domain": {
          "x": [
           0.832,
           1
          ],
          "y": [
           0.6060000000000001,
           0.798
          ]
         },
         "radialaxis": {
          "color": "rgba(0,0,0,0)",
          "gridcolor": "rgba(0,0,0,0)",
          "linecolor": "rgba(0,0,0,0)",
          "visible": false
         }
        },
        "polar11": {
         "angularaxis": {
          "color": "rgba(0,0,0,0)",
          "direction": "clockwise",
          "gridcolor": "rgba(0,0,0,0)",
          "linecolor": "rgba(0,0,0,0)",
          "rotation": 90,
          "visible": false
         },
         "bgcolor": "rgba(0,0,0,0)",
         "domain": {
          "x": [
           0,
           0.16799999999999998
          ],
          "y": [
           0.404,
           0.5960000000000001
          ]
         },
         "radialaxis": {
          "color": "rgba(0,0,0,0)",
          "gridcolor": "rgba(0,0,0,0)",
          "linecolor": "rgba(0,0,0,0)",
          "visible": false
         }
        },
        "polar12": {
         "angularaxis": {
          "color": "rgba(0,0,0,0)",
          "direction": "clockwise",
          "gridcolor": "rgba(0,0,0,0)",
          "linecolor": "rgba(0,0,0,0)",
          "rotation": 90,
          "visible": false
         },
         "bgcolor": "rgba(0,0,0,0)",
         "domain": {
          "x": [
           0.208,
           0.376
          ],
          "y": [
           0.404,
           0.5960000000000001
          ]
         },
         "radialaxis": {
          "color": "rgba(0,0,0,0)",
          "gridcolor": "rgba(0,0,0,0)",
          "linecolor": "rgba(0,0,0,0)",
          "visible": false
         }
        },
        "polar13": {
         "angularaxis": {
          "color": "rgba(0,0,0,0)",
          "direction": "clockwise",
          "gridcolor": "rgba(0,0,0,0)",
          "linecolor": "rgba(0,0,0,0)",
          "rotation": 90,
          "visible": false
         },
         "bgcolor": "rgba(0,0,0,0)",
         "domain": {
          "x": [
           0.416,
           0.584
          ],
          "y": [
           0.404,
           0.5960000000000001
          ]
         },
         "radialaxis": {
          "color": "rgba(0,0,0,0)",
          "gridcolor": "rgba(0,0,0,0)",
          "linecolor": "rgba(0,0,0,0)",
          "visible": false
         }
        },
        "polar14": {
         "angularaxis": {
          "color": "rgba(0,0,0,0)",
          "direction": "clockwise",
          "gridcolor": "rgba(0,0,0,0)",
          "linecolor": "rgba(0,0,0,0)",
          "rotation": 90,
          "visible": false
         },
         "bgcolor": "rgba(0,0,0,0)",
         "domain": {
          "x": [
           0.624,
           0.792
          ],
          "y": [
           0.404,
           0.5960000000000001
          ]
         },
         "radialaxis": {
          "color": "rgba(0,0,0,0)",
          "gridcolor": "rgba(0,0,0,0)",
          "linecolor": "rgba(0,0,0,0)",
          "visible": false
         }
        },
        "polar15": {
         "angularaxis": {
          "color": "rgba(0,0,0,0)",
          "direction": "clockwise",
          "gridcolor": "rgba(0,0,0,0)",
          "linecolor": "rgba(0,0,0,0)",
          "rotation": 90,
          "visible": false
         },
         "bgcolor": "rgba(0,0,0,0)",
         "domain": {
          "x": [
           0.832,
           1
          ],
          "y": [
           0.404,
           0.5960000000000001
          ]
         },
         "radialaxis": {
          "color": "rgba(0,0,0,0)",
          "gridcolor": "rgba(0,0,0,0)",
          "linecolor": "rgba(0,0,0,0)",
          "visible": false
         }
        },
        "polar16": {
         "angularaxis": {
          "color": "rgba(0,0,0,0)",
          "direction": "clockwise",
          "gridcolor": "rgba(0,0,0,0)",
          "linecolor": "rgba(0,0,0,0)",
          "rotation": 90,
          "visible": false
         },
         "bgcolor": "rgba(0,0,0,0)",
         "domain": {
          "x": [
           0,
           0.16799999999999998
          ],
          "y": [
           0.202,
           0.394
          ]
         },
         "radialaxis": {
          "color": "rgba(0,0,0,0)",
          "gridcolor": "rgba(0,0,0,0)",
          "linecolor": "rgba(0,0,0,0)",
          "visible": false
         }
        },
        "polar17": {
         "angularaxis": {
          "color": "rgba(0,0,0,0)",
          "direction": "clockwise",
          "gridcolor": "rgba(0,0,0,0)",
          "linecolor": "rgba(0,0,0,0)",
          "rotation": 90,
          "visible": false
         },
         "bgcolor": "rgba(0,0,0,0)",
         "domain": {
          "x": [
           0.208,
           0.376
          ],
          "y": [
           0.202,
           0.394
          ]
         },
         "radialaxis": {
          "color": "rgba(0,0,0,0)",
          "gridcolor": "rgba(0,0,0,0)",
          "linecolor": "rgba(0,0,0,0)",
          "visible": false
         }
        },
        "polar18": {
         "angularaxis": {
          "color": "rgba(0,0,0,0)",
          "direction": "clockwise",
          "gridcolor": "rgba(0,0,0,0)",
          "linecolor": "rgba(0,0,0,0)",
          "rotation": 90,
          "visible": false
         },
         "bgcolor": "rgba(0,0,0,0)",
         "domain": {
          "x": [
           0.416,
           0.584
          ],
          "y": [
           0.202,
           0.394
          ]
         },
         "radialaxis": {
          "color": "rgba(0,0,0,0)",
          "gridcolor": "rgba(0,0,0,0)",
          "linecolor": "rgba(0,0,0,0)",
          "visible": false
         }
        },
        "polar19": {
         "angularaxis": {
          "color": "rgba(0,0,0,0)",
          "direction": "clockwise",
          "gridcolor": "rgba(0,0,0,0)",
          "linecolor": "rgba(0,0,0,0)",
          "rotation": 90,
          "visible": false
         },
         "bgcolor": "rgba(0,0,0,0)",
         "domain": {
          "x": [
           0.624,
           0.792
          ],
          "y": [
           0.202,
           0.394
          ]
         },
         "radialaxis": {
          "color": "rgba(0,0,0,0)",
          "gridcolor": "rgba(0,0,0,0)",
          "linecolor": "rgba(0,0,0,0)",
          "visible": false
         }
        },
        "polar2": {
         "angularaxis": {
          "color": "rgba(0,0,0,0)",
          "direction": "clockwise",
          "gridcolor": "rgba(0,0,0,0)",
          "linecolor": "rgba(0,0,0,0)",
          "rotation": 90,
          "visible": false
         },
         "bgcolor": "rgba(0,0,0,0)",
         "domain": {
          "x": [
           0.208,
           0.376
          ],
          "y": [
           0.808,
           1
          ]
         },
         "radialaxis": {
          "color": "rgba(0,0,0,0)",
          "gridcolor": "rgba(0,0,0,0)",
          "linecolor": "rgba(0,0,0,0)",
          "visible": false
         }
        },
        "polar20": {
         "angularaxis": {
          "color": "rgba(0,0,0,0)",
          "direction": "clockwise",
          "gridcolor": "rgba(0,0,0,0)",
          "linecolor": "rgba(0,0,0,0)",
          "rotation": 90,
          "visible": false
         },
         "bgcolor": "rgba(0,0,0,0)",
         "domain": {
          "x": [
           0.832,
           1
          ],
          "y": [
           0.202,
           0.394
          ]
         },
         "radialaxis": {
          "color": "rgba(0,0,0,0)",
          "gridcolor": "rgba(0,0,0,0)",
          "linecolor": "rgba(0,0,0,0)",
          "visible": false
         }
        },
        "polar21": {
         "angularaxis": {
          "color": "rgba(0,0,0,0)",
          "direction": "clockwise",
          "gridcolor": "rgba(0,0,0,0)",
          "linecolor": "rgba(0,0,0,0)",
          "rotation": 90,
          "visible": false
         },
         "bgcolor": "rgba(0,0,0,0)",
         "domain": {
          "x": [
           0,
           0.16799999999999998
          ],
          "y": [
           0,
           0.192
          ]
         },
         "radialaxis": {
          "color": "rgba(0,0,0,0)",
          "gridcolor": "rgba(0,0,0,0)",
          "linecolor": "rgba(0,0,0,0)",
          "visible": false
         }
        },
        "polar22": {
         "angularaxis": {
          "color": "rgba(0,0,0,0)",
          "direction": "clockwise",
          "gridcolor": "rgba(0,0,0,0)",
          "linecolor": "rgba(0,0,0,0)",
          "rotation": 90,
          "visible": false
         },
         "bgcolor": "rgba(0,0,0,0)",
         "domain": {
          "x": [
           0.208,
           0.376
          ],
          "y": [
           0,
           0.192
          ]
         },
         "radialaxis": {
          "color": "rgba(0,0,0,0)",
          "gridcolor": "rgba(0,0,0,0)",
          "linecolor": "rgba(0,0,0,0)",
          "visible": false
         }
        },
        "polar23": {
         "angularaxis": {
          "color": "rgba(0,0,0,0)",
          "direction": "clockwise",
          "gridcolor": "rgba(0,0,0,0)",
          "linecolor": "rgba(0,0,0,0)",
          "rotation": 90,
          "visible": false
         },
         "bgcolor": "rgba(0,0,0,0)",
         "domain": {
          "x": [
           0.416,
           0.584
          ],
          "y": [
           0,
           0.192
          ]
         },
         "radialaxis": {
          "color": "rgba(0,0,0,0)",
          "gridcolor": "rgba(0,0,0,0)",
          "linecolor": "rgba(0,0,0,0)",
          "visible": false
         }
        },
        "polar24": {
         "angularaxis": {
          "color": "rgba(0,0,0,0)",
          "direction": "clockwise",
          "gridcolor": "rgba(0,0,0,0)",
          "linecolor": "rgba(0,0,0,0)",
          "rotation": 90,
          "visible": false
         },
         "bgcolor": "rgba(0,0,0,0)",
         "domain": {
          "x": [
           0.624,
           0.792
          ],
          "y": [
           0,
           0.192
          ]
         },
         "radialaxis": {
          "color": "rgba(0,0,0,0)",
          "gridcolor": "rgba(0,0,0,0)",
          "linecolor": "rgba(0,0,0,0)",
          "visible": false
         }
        },
        "polar25": {
         "angularaxis": {
          "color": "rgba(0,0,0,0)",
          "direction": "clockwise",
          "gridcolor": "rgba(0,0,0,0)",
          "linecolor": "rgba(0,0,0,0)",
          "rotation": 90,
          "visible": false
         },
         "bgcolor": "rgba(0,0,0,0)",
         "domain": {
          "x": [
           0.832,
           1
          ],
          "y": [
           0,
           0.192
          ]
         },
         "radialaxis": {
          "color": "rgba(0,0,0,0)",
          "gridcolor": "rgba(0,0,0,0)",
          "linecolor": "rgba(0,0,0,0)",
          "visible": false
         }
        },
        "polar3": {
         "angularaxis": {
          "color": "rgba(0,0,0,0)",
          "direction": "clockwise",
          "gridcolor": "rgba(0,0,0,0)",
          "linecolor": "rgba(0,0,0,0)",
          "rotation": 90,
          "visible": false
         },
         "bgcolor": "rgba(0,0,0,0)",
         "domain": {
          "x": [
           0.416,
           0.584
          ],
          "y": [
           0.808,
           1
          ]
         },
         "radialaxis": {
          "color": "rgba(0,0,0,0)",
          "gridcolor": "rgba(0,0,0,0)",
          "linecolor": "rgba(0,0,0,0)",
          "visible": false
         }
        },
        "polar4": {
         "angularaxis": {
          "color": "rgba(0,0,0,0)",
          "direction": "clockwise",
          "gridcolor": "rgba(0,0,0,0)",
          "linecolor": "rgba(0,0,0,0)",
          "rotation": 90,
          "visible": false
         },
         "bgcolor": "rgba(0,0,0,0)",
         "domain": {
          "x": [
           0.624,
           0.792
          ],
          "y": [
           0.808,
           1
          ]
         },
         "radialaxis": {
          "color": "rgba(0,0,0,0)",
          "gridcolor": "rgba(0,0,0,0)",
          "linecolor": "rgba(0,0,0,0)",
          "visible": false
         }
        },
        "polar5": {
         "angularaxis": {
          "color": "rgba(0,0,0,0)",
          "direction": "clockwise",
          "gridcolor": "rgba(0,0,0,0)",
          "linecolor": "rgba(0,0,0,0)",
          "rotation": 90,
          "visible": false
         },
         "bgcolor": "rgba(0,0,0,0)",
         "domain": {
          "x": [
           0.832,
           1
          ],
          "y": [
           0.808,
           1
          ]
         },
         "radialaxis": {
          "color": "rgba(0,0,0,0)",
          "gridcolor": "rgba(0,0,0,0)",
          "linecolor": "rgba(0,0,0,0)",
          "visible": false
         }
        },
        "polar6": {
         "angularaxis": {
          "color": "rgba(0,0,0,0)",
          "direction": "clockwise",
          "gridcolor": "rgba(0,0,0,0)",
          "linecolor": "rgba(0,0,0,0)",
          "rotation": 90,
          "visible": false
         },
         "bgcolor": "rgba(0,0,0,0)",
         "domain": {
          "x": [
           0,
           0.16799999999999998
          ],
          "y": [
           0.6060000000000001,
           0.798
          ]
         },
         "radialaxis": {
          "color": "rgba(0,0,0,0)",
          "gridcolor": "rgba(0,0,0,0)",
          "linecolor": "rgba(0,0,0,0)",
          "visible": false
         }
        },
        "polar7": {
         "angularaxis": {
          "color": "rgba(0,0,0,0)",
          "direction": "clockwise",
          "gridcolor": "rgba(0,0,0,0)",
          "linecolor": "rgba(0,0,0,0)",
          "rotation": 90,
          "visible": false
         },
         "bgcolor": "rgba(0,0,0,0)",
         "domain": {
          "x": [
           0.208,
           0.376
          ],
          "y": [
           0.6060000000000001,
           0.798
          ]
         },
         "radialaxis": {
          "color": "rgba(0,0,0,0)",
          "gridcolor": "rgba(0,0,0,0)",
          "linecolor": "rgba(0,0,0,0)",
          "visible": false
         }
        },
        "polar8": {
         "angularaxis": {
          "color": "rgba(0,0,0,0)",
          "direction": "clockwise",
          "gridcolor": "rgba(0,0,0,0)",
          "linecolor": "rgba(0,0,0,0)",
          "rotation": 90,
          "visible": false
         },
         "bgcolor": "rgba(0,0,0,0)",
         "domain": {
          "x": [
           0.416,
           0.584
          ],
          "y": [
           0.6060000000000001,
           0.798
          ]
         },
         "radialaxis": {
          "color": "rgba(0,0,0,0)",
          "gridcolor": "rgba(0,0,0,0)",
          "linecolor": "rgba(0,0,0,0)",
          "visible": false
         }
        },
        "polar9": {
         "angularaxis": {
          "color": "rgba(0,0,0,0)",
          "direction": "clockwise",
          "gridcolor": "rgba(0,0,0,0)",
          "linecolor": "rgba(0,0,0,0)",
          "rotation": 90,
          "visible": false
         },
         "bgcolor": "rgba(0,0,0,0)",
         "domain": {
          "x": [
           0.624,
           0.792
          ],
          "y": [
           0.6060000000000001,
           0.798
          ]
         },
         "radialaxis": {
          "color": "rgba(0,0,0,0)",
          "gridcolor": "rgba(0,0,0,0)",
          "linecolor": "rgba(0,0,0,0)",
          "visible": false
         }
        },
        "showlegend": true,
        "template": {
         "data": {
          "bar": [
           {
            "error_x": {
             "color": "#2a3f5f"
            },
            "error_y": {
             "color": "#2a3f5f"
            },
            "marker": {
             "line": {
              "color": "#E5ECF6",
              "width": 0.5
             }
            },
            "type": "bar"
           }
          ],
          "barpolar": [
           {
            "marker": {
             "line": {
              "color": "#E5ECF6",
              "width": 0.5
             }
            },
            "type": "barpolar"
           }
          ],
          "carpet": [
           {
            "aaxis": {
             "endlinecolor": "#2a3f5f",
             "gridcolor": "white",
             "linecolor": "white",
             "minorgridcolor": "white",
             "startlinecolor": "#2a3f5f"
            },
            "baxis": {
             "endlinecolor": "#2a3f5f",
             "gridcolor": "white",
             "linecolor": "white",
             "minorgridcolor": "white",
             "startlinecolor": "#2a3f5f"
            },
            "type": "carpet"
           }
          ],
          "choropleth": [
           {
            "colorbar": {
             "outlinewidth": 0,
             "ticks": ""
            },
            "type": "choropleth"
           }
          ],
          "contour": [
           {
            "colorbar": {
             "outlinewidth": 0,
             "ticks": ""
            },
            "colorscale": [
             [
              0,
              "#0d0887"
             ],
             [
              0.1111111111111111,
              "#46039f"
             ],
             [
              0.2222222222222222,
              "#7201a8"
             ],
             [
              0.3333333333333333,
              "#9c179e"
             ],
             [
              0.4444444444444444,
              "#bd3786"
             ],
             [
              0.5555555555555556,
              "#d8576b"
             ],
             [
              0.6666666666666666,
              "#ed7953"
             ],
             [
              0.7777777777777778,
              "#fb9f3a"
             ],
             [
              0.8888888888888888,
              "#fdca26"
             ],
             [
              1,
              "#f0f921"
             ]
            ],
            "type": "contour"
           }
          ],
          "contourcarpet": [
           {
            "colorbar": {
             "outlinewidth": 0,
             "ticks": ""
            },
            "type": "contourcarpet"
           }
          ],
          "heatmap": [
           {
            "colorbar": {
             "outlinewidth": 0,
             "ticks": ""
            },
            "colorscale": [
             [
              0,
              "#0d0887"
             ],
             [
              0.1111111111111111,
              "#46039f"
             ],
             [
              0.2222222222222222,
              "#7201a8"
             ],
             [
              0.3333333333333333,
              "#9c179e"
             ],
             [
              0.4444444444444444,
              "#bd3786"
             ],
             [
              0.5555555555555556,
              "#d8576b"
             ],
             [
              0.6666666666666666,
              "#ed7953"
             ],
             [
              0.7777777777777778,
              "#fb9f3a"
             ],
             [
              0.8888888888888888,
              "#fdca26"
             ],
             [
              1,
              "#f0f921"
             ]
            ],
            "type": "heatmap"
           }
          ],
          "heatmapgl": [
           {
            "colorbar": {
             "outlinewidth": 0,
             "ticks": ""
            },
            "colorscale": [
             [
              0,
              "#0d0887"
             ],
             [
              0.1111111111111111,
              "#46039f"
             ],
             [
              0.2222222222222222,
              "#7201a8"
             ],
             [
              0.3333333333333333,
              "#9c179e"
             ],
             [
              0.4444444444444444,
              "#bd3786"
             ],
             [
              0.5555555555555556,
              "#d8576b"
             ],
             [
              0.6666666666666666,
              "#ed7953"
             ],
             [
              0.7777777777777778,
              "#fb9f3a"
             ],
             [
              0.8888888888888888,
              "#fdca26"
             ],
             [
              1,
              "#f0f921"
             ]
            ],
            "type": "heatmapgl"
           }
          ],
          "histogram": [
           {
            "marker": {
             "colorbar": {
              "outlinewidth": 0,
              "ticks": ""
             }
            },
            "type": "histogram"
           }
          ],
          "histogram2d": [
           {
            "colorbar": {
             "outlinewidth": 0,
             "ticks": ""
            },
            "colorscale": [
             [
              0,
              "#0d0887"
             ],
             [
              0.1111111111111111,
              "#46039f"
             ],
             [
              0.2222222222222222,
              "#7201a8"
             ],
             [
              0.3333333333333333,
              "#9c179e"
             ],
             [
              0.4444444444444444,
              "#bd3786"
             ],
             [
              0.5555555555555556,
              "#d8576b"
             ],
             [
              0.6666666666666666,
              "#ed7953"
             ],
             [
              0.7777777777777778,
              "#fb9f3a"
             ],
             [
              0.8888888888888888,
              "#fdca26"
             ],
             [
              1,
              "#f0f921"
             ]
            ],
            "type": "histogram2d"
           }
          ],
          "histogram2dcontour": [
           {
            "colorbar": {
             "outlinewidth": 0,
             "ticks": ""
            },
            "colorscale": [
             [
              0,
              "#0d0887"
             ],
             [
              0.1111111111111111,
              "#46039f"
             ],
             [
              0.2222222222222222,
              "#7201a8"
             ],
             [
              0.3333333333333333,
              "#9c179e"
             ],
             [
              0.4444444444444444,
              "#bd3786"
             ],
             [
              0.5555555555555556,
              "#d8576b"
             ],
             [
              0.6666666666666666,
              "#ed7953"
             ],
             [
              0.7777777777777778,
              "#fb9f3a"
             ],
             [
              0.8888888888888888,
              "#fdca26"
             ],
             [
              1,
              "#f0f921"
             ]
            ],
            "type": "histogram2dcontour"
           }
          ],
          "mesh3d": [
           {
            "colorbar": {
             "outlinewidth": 0,
             "ticks": ""
            },
            "type": "mesh3d"
           }
          ],
          "parcoords": [
           {
            "line": {
             "colorbar": {
              "outlinewidth": 0,
              "ticks": ""
             }
            },
            "type": "parcoords"
           }
          ],
          "pie": [
           {
            "automargin": true,
            "type": "pie"
           }
          ],
          "scatter": [
           {
            "marker": {
             "colorbar": {
              "outlinewidth": 0,
              "ticks": ""
             }
            },
            "type": "scatter"
           }
          ],
          "scatter3d": [
           {
            "line": {
             "colorbar": {
              "outlinewidth": 0,
              "ticks": ""
             }
            },
            "marker": {
             "colorbar": {
              "outlinewidth": 0,
              "ticks": ""
             }
            },
            "type": "scatter3d"
           }
          ],
          "scattercarpet": [
           {
            "marker": {
             "colorbar": {
              "outlinewidth": 0,
              "ticks": ""
             }
            },
            "type": "scattercarpet"
           }
          ],
          "scattergeo": [
           {
            "marker": {
             "colorbar": {
              "outlinewidth": 0,
              "ticks": ""
             }
            },
            "type": "scattergeo"
           }
          ],
          "scattergl": [
           {
            "marker": {
             "colorbar": {
              "outlinewidth": 0,
              "ticks": ""
             }
            },
            "type": "scattergl"
           }
          ],
          "scattermapbox": [
           {
            "marker": {
             "colorbar": {
              "outlinewidth": 0,
              "ticks": ""
             }
            },
            "type": "scattermapbox"
           }
          ],
          "scatterpolar": [
           {
            "marker": {
             "colorbar": {
              "outlinewidth": 0,
              "ticks": ""
             }
            },
            "type": "scatterpolar"
           }
          ],
          "scatterpolargl": [
           {
            "marker": {
             "colorbar": {
              "outlinewidth": 0,
              "ticks": ""
             }
            },
            "type": "scatterpolargl"
           }
          ],
          "scatterternary": [
           {
            "marker": {
             "colorbar": {
              "outlinewidth": 0,
              "ticks": ""
             }
            },
            "type": "scatterternary"
           }
          ],
          "surface": [
           {
            "colorbar": {
             "outlinewidth": 0,
             "ticks": ""
            },
            "colorscale": [
             [
              0,
              "#0d0887"
             ],
             [
              0.1111111111111111,
              "#46039f"
             ],
             [
              0.2222222222222222,
              "#7201a8"
             ],
             [
              0.3333333333333333,
              "#9c179e"
             ],
             [
              0.4444444444444444,
              "#bd3786"
             ],
             [
              0.5555555555555556,
              "#d8576b"
             ],
             [
              0.6666666666666666,
              "#ed7953"
             ],
             [
              0.7777777777777778,
              "#fb9f3a"
             ],
             [
              0.8888888888888888,
              "#fdca26"
             ],
             [
              1,
              "#f0f921"
             ]
            ],
            "type": "surface"
           }
          ],
          "table": [
           {
            "cells": {
             "fill": {
              "color": "#EBF0F8"
             },
             "line": {
              "color": "white"
             }
            },
            "header": {
             "fill": {
              "color": "#C8D4E3"
             },
             "line": {
              "color": "white"
             }
            },
            "type": "table"
           }
          ]
         },
         "layout": {
          "annotationdefaults": {
           "arrowcolor": "#2a3f5f",
           "arrowhead": 0,
           "arrowwidth": 1
          },
          "coloraxis": {
           "colorbar": {
            "outlinewidth": 0,
            "ticks": ""
           }
          },
          "colorscale": {
           "diverging": [
            [
             0,
             "#8e0152"
            ],
            [
             0.1,
             "#c51b7d"
            ],
            [
             0.2,
             "#de77ae"
            ],
            [
             0.3,
             "#f1b6da"
            ],
            [
             0.4,
             "#fde0ef"
            ],
            [
             0.5,
             "#f7f7f7"
            ],
            [
             0.6,
             "#e6f5d0"
            ],
            [
             0.7,
             "#b8e186"
            ],
            [
             0.8,
             "#7fbc41"
            ],
            [
             0.9,
             "#4d9221"
            ],
            [
             1,
             "#276419"
            ]
           ],
           "sequential": [
            [
             0,
             "#0d0887"
            ],
            [
             0.1111111111111111,
             "#46039f"
            ],
            [
             0.2222222222222222,
             "#7201a8"
            ],
            [
             0.3333333333333333,
             "#9c179e"
            ],
            [
             0.4444444444444444,
             "#bd3786"
            ],
            [
             0.5555555555555556,
             "#d8576b"
            ],
            [
             0.6666666666666666,
             "#ed7953"
            ],
            [
             0.7777777777777778,
             "#fb9f3a"
            ],
            [
             0.8888888888888888,
             "#fdca26"
            ],
            [
             1,
             "#f0f921"
            ]
           ],
           "sequentialminus": [
            [
             0,
             "#0d0887"
            ],
            [
             0.1111111111111111,
             "#46039f"
            ],
            [
             0.2222222222222222,
             "#7201a8"
            ],
            [
             0.3333333333333333,
             "#9c179e"
            ],
            [
             0.4444444444444444,
             "#bd3786"
            ],
            [
             0.5555555555555556,
             "#d8576b"
            ],
            [
             0.6666666666666666,
             "#ed7953"
            ],
            [
             0.7777777777777778,
             "#fb9f3a"
            ],
            [
             0.8888888888888888,
             "#fdca26"
            ],
            [
             1,
             "#f0f921"
            ]
           ]
          },
          "colorway": [
           "#636efa",
           "#EF553B",
           "#00cc96",
           "#ab63fa",
           "#FFA15A",
           "#19d3f3",
           "#FF6692",
           "#B6E880",
           "#FF97FF",
           "#FECB52"
          ],
          "font": {
           "color": "#2a3f5f"
          },
          "geo": {
           "bgcolor": "white",
           "lakecolor": "white",
           "landcolor": "#E5ECF6",
           "showlakes": true,
           "showland": true,
           "subunitcolor": "white"
          },
          "hoverlabel": {
           "align": "left"
          },
          "hovermode": "closest",
          "mapbox": {
           "style": "light"
          },
          "paper_bgcolor": "white",
          "plot_bgcolor": "#E5ECF6",
          "polar": {
           "angularaxis": {
            "gridcolor": "white",
            "linecolor": "white",
            "ticks": ""
           },
           "bgcolor": "#E5ECF6",
           "radialaxis": {
            "gridcolor": "white",
            "linecolor": "white",
            "ticks": ""
           }
          },
          "scene": {
           "xaxis": {
            "backgroundcolor": "#E5ECF6",
            "gridcolor": "white",
            "gridwidth": 2,
            "linecolor": "white",
            "showbackground": true,
            "ticks": "",
            "zerolinecolor": "white"
           },
           "yaxis": {
            "backgroundcolor": "#E5ECF6",
            "gridcolor": "white",
            "gridwidth": 2,
            "linecolor": "white",
            "showbackground": true,
            "ticks": "",
            "zerolinecolor": "white"
           },
           "zaxis": {
            "backgroundcolor": "#E5ECF6",
            "gridcolor": "white",
            "gridwidth": 2,
            "linecolor": "white",
            "showbackground": true,
            "ticks": "",
            "zerolinecolor": "white"
           }
          },
          "shapedefaults": {
           "line": {
            "color": "#2a3f5f"
           }
          },
          "ternary": {
           "aaxis": {
            "gridcolor": "white",
            "linecolor": "white",
            "ticks": ""
           },
           "baxis": {
            "gridcolor": "white",
            "linecolor": "white",
            "ticks": ""
           },
           "bgcolor": "#E5ECF6",
           "caxis": {
            "gridcolor": "white",
            "linecolor": "white",
            "ticks": ""
           }
          },
          "title": {
           "x": 0.05
          },
          "xaxis": {
           "automargin": true,
           "gridcolor": "white",
           "linecolor": "white",
           "ticks": "",
           "title": {
            "standoff": 15
           },
           "zerolinecolor": "white",
           "zerolinewidth": 2
          },
          "yaxis": {
           "automargin": true,
           "gridcolor": "white",
           "linecolor": "white",
           "ticks": "",
           "title": {
            "standoff": 15
           },
           "zerolinecolor": "white",
           "zerolinewidth": 2
          }
         }
        },
        "title": {
         "text": "<span style=\"  font-size: 30pt;font-family: 'Arial';color: White;text-shadow:0px -3px 0 #212121,0px -3px 0 #212121,0px  3px 0 #212121,0px  3px 0 #212121,-3px  0px 0 #212121,  3px  0px 0 #212121,-3px  0px 0 #212121,3px  0px 0 #212121,-3px -3px 0 #212121,  3px -3px 0 #212121,-3px  3px 0 #212121,3px  3px 0 #212121,-3px  9px 0 #212121,0px  9px 0 #212121,3px  9px 0 #212121,0 9px 1px rgba(0,0,0,.1),0 0 3px rgba(0,0,0,.1),0 3px 1.5px rgba(0,0,0,.3),0 6px 3px rgba(0,0,0,.2),0 9px 9px rgba(0,0,0,.25),0 12px 12px rgba(0,0,0,.2),0 18px 18px rgba(0,0,0,.15);\">South Korea Pass Wagon</span>",
         "x": 0.5,
         "xref": "paper",
         "y": 0.9
        },
        "width": 1600,
        "xaxis": {
         "showgrid": false,
         "showline": false,
         "zeroline": false
        },
        "yaxis": {
         "showgrid": false,
         "showline": false,
         "zeroline": false
        }
       }
      },
      "text/html": [
       "<div>\n",
       "        \n",
       "        \n",
       "            <div id=\"a72d5f82-1f62-4cb4-9eff-4f42d11895ec\" class=\"plotly-graph-div\" style=\"height:1800px; width:1600px;\"></div>\n",
       "            <script type=\"text/javascript\">\n",
       "                require([\"plotly\"], function(Plotly) {\n",
       "                    window.PLOTLYENV=window.PLOTLYENV || {};\n",
       "                    \n",
       "                if (document.getElementById(\"a72d5f82-1f62-4cb4-9eff-4f42d11895ec\")) {\n",
       "                    Plotly.newPlot(\n",
       "                        'a72d5f82-1f62-4cb4-9eff-4f42d11895ec',\n",
       "                        [{\"hoverlabel\": {\"namelength\": 0}, \"hovertemplate\": \"binned_pass_length=No Pass<br>Frequency=%{r}<br>Angle=%{theta}\", \"legendgroup\": \"B\", \"marker\": {\"color\": \"#19d3f3\"}, \"name\": \"binned_pass_length=No Pass\", \"r\": [0.0, 0.0, 0.0, 0.0, 0.0, 0.0, 0.0, 0.0, 0.0, 0.0, 0.0, 0.0, 0.0, 0.0], \"showlegend\": false, \"subplot\": \"polar23\", \"theta\": [-165.0, -150.0, -135.0, -120.0, -105.0, -75.0, -45.0, 60.0, 90.0, 105.0, 120.0, 135.0, 150.0, 165.0], \"type\": \"barpolar\"}, {\"hoverlabel\": {\"namelength\": 0}, \"hovertemplate\": \"binned_pass_length=medium<br>Frequency=%{r}<br>Angle=%{theta}\", \"legendgroup\": \"B\", \"marker\": {\"color\": \"rgb(252, 123, 3)\"}, \"name\": \"Pass Length:medium\", \"r\": [1.0, 2.0], \"showlegend\": true, \"subplot\": \"polar23\", \"theta\": [-90.0, -60.0], \"type\": \"barpolar\"}, {\"hoverlabel\": {\"namelength\": 0}, \"hovertemplate\": \"binned_pass_length=long<br>Frequency=%{r}<br>Angle=%{theta}\", \"legendgroup\": \"B\", \"marker\": {\"color\": \"rgb(252, 10, 3)\"}, \"name\": \"Pass Length:long\", \"r\": [2.0], \"showlegend\": true, \"subplot\": \"polar23\", \"theta\": [-30.0], \"type\": \"barpolar\"}, {\"hoverlabel\": {\"namelength\": 0}, \"hovertemplate\": \"binned_pass_length=very_long<br>Frequency=%{r}<br>Angle=%{theta}\", \"legendgroup\": \"B\", \"marker\": {\"color\": \"rgb(252, 3, 3)\"}, \"name\": \"Pass Length:very_long\", \"r\": [4.0, 4.0, 7.0, 8.0, 2.0], \"showlegend\": true, \"subplot\": \"polar23\", \"theta\": [-15.0, 0.0, 15.0, 30.0, 45.0], \"type\": \"barpolar\"}, {\"hoverlabel\": {\"namelength\": 0}, \"hovertemplate\": \"binned_pass_length=short<br>Frequency=%{r}<br>Angle=%{theta}\", \"legendgroup\": \"B\", \"marker\": {\"color\": \"rgb(252, 177, 3)\"}, \"name\": \"Pass Length:short\", \"r\": [1.0], \"showlegend\": true, \"subplot\": \"polar23\", \"theta\": [75.0], \"type\": \"barpolar\"}, {\"hoverlabel\": {\"namelength\": 0}, \"hovertemplate\": \"binned_pass_length=No Pass<br>Frequency=%{r}<br>Angle=%{theta}\", \"legendgroup\": \"B\", \"marker\": {\"color\": \"#19d3f3\"}, \"name\": \"binned_pass_length=No Pass\", \"r\": [0.0, 0.0, 0.0, 0.0, 0.0, 0.0, 0.0, 0.0, 0.0], \"showlegend\": false, \"subplot\": \"polar20\", \"theta\": [-165.0, -105.0, 45.0, 90.0, 105.0, 120.0, 135.0, 150.0, 165.0], \"type\": \"barpolar\"}, {\"hoverlabel\": {\"namelength\": 0}, \"hovertemplate\": \"binned_pass_length=long<br>Frequency=%{r}<br>Angle=%{theta}\", \"legendgroup\": \"B\", \"marker\": {\"color\": \"rgb(252, 10, 3)\"}, \"name\": \"binned_pass_length=long\", \"r\": [1.0, 1.0, 3.0], \"showlegend\": false, \"subplot\": \"polar20\", \"theta\": [-150.0, -120.0, 15.0], \"type\": \"barpolar\"}, {\"hoverlabel\": {\"namelength\": 0}, \"hovertemplate\": \"binned_pass_length=short<br>Frequency=%{r}<br>Angle=%{theta}\", \"legendgroup\": \"B\", \"marker\": {\"color\": \"rgb(252, 177, 3)\"}, \"name\": \"binned_pass_length=short\", \"r\": [2.0, 3.0, 3.0, 6.0, 1.0], \"showlegend\": false, \"subplot\": \"polar20\", \"theta\": [-135.0, -90.0, -75.0, -45.0, 60.0], \"type\": \"barpolar\"}, {\"hoverlabel\": {\"namelength\": 0}, \"hovertemplate\": \"binned_pass_length=medium<br>Frequency=%{r}<br>Angle=%{theta}\", \"legendgroup\": \"B\", \"marker\": {\"color\": \"rgb(252, 123, 3)\"}, \"name\": \"binned_pass_length=medium\", \"r\": [4.0, 1.0, 4.0, 1.0], \"showlegend\": false, \"subplot\": \"polar20\", \"theta\": [-60.0, -30.0, 0.0, 75.0], \"type\": \"barpolar\"}, {\"hoverlabel\": {\"namelength\": 0}, \"hovertemplate\": \"binned_pass_length=very_long<br>Frequency=%{r}<br>Angle=%{theta}\", \"legendgroup\": \"B\", \"marker\": {\"color\": \"rgb(252, 3, 3)\"}, \"name\": \"binned_pass_length=very_long\", \"r\": [2.0, 1.0], \"showlegend\": false, \"subplot\": \"polar20\", \"theta\": [-15.0, 30.0], \"type\": \"barpolar\"}, {\"hoverlabel\": {\"namelength\": 0}, \"hovertemplate\": \"binned_pass_length=No Pass<br>Frequency=%{r}<br>Angle=%{theta}\", \"legendgroup\": \"B\", \"marker\": {\"color\": \"#19d3f3\"}, \"name\": \"binned_pass_length=No Pass\", \"r\": [0.0, 0.0, 0.0, 0.0, 0.0, 0.0, 0.0, 0.0, 0.0, 0.0, 0.0, 0.0, 0.0], \"showlegend\": false, \"subplot\": \"polar19\", \"theta\": [-165.0, -135.0, -105.0, -75.0, -60.0, -30.0, 0.0, 15.0, 45.0, 105.0, 120.0, 135.0, 165.0], \"type\": \"barpolar\"}, {\"hoverlabel\": {\"namelength\": 0}, \"hovertemplate\": \"binned_pass_length=short<br>Frequency=%{r}<br>Angle=%{theta}\", \"legendgroup\": \"B\", \"marker\": {\"color\": \"rgb(252, 177, 3)\"}, \"name\": \"binned_pass_length=short\", \"r\": [1.0, 1.0, 2.0], \"showlegend\": false, \"subplot\": \"polar19\", \"theta\": [-150.0, -45.0, 30.0], \"type\": \"barpolar\"}, {\"hoverlabel\": {\"namelength\": 0}, \"hovertemplate\": \"binned_pass_length=long<br>Frequency=%{r}<br>Angle=%{theta}\", \"legendgroup\": \"B\", \"marker\": {\"color\": \"rgb(252, 10, 3)\"}, \"name\": \"binned_pass_length=long\", \"r\": [1.0, 1.0], \"showlegend\": false, \"subplot\": \"polar19\", \"theta\": [-120.0, -90.0], \"type\": \"barpolar\"}, {\"hoverlabel\": {\"namelength\": 0}, \"hovertemplate\": \"binned_pass_length=very_short<br>Frequency=%{r}<br>Angle=%{theta}\", \"legendgroup\": \"B\", \"marker\": {\"color\": \"rgb(252, 219, 3)\"}, \"name\": \"Pass Length:very_short\", \"r\": [1.0, 1.0], \"showlegend\": true, \"subplot\": \"polar19\", \"theta\": [-15.0, 75.0], \"type\": \"barpolar\"}, {\"hoverlabel\": {\"namelength\": 0}, \"hovertemplate\": \"binned_pass_length=medium<br>Frequency=%{r}<br>Angle=%{theta}\", \"legendgroup\": \"B\", \"marker\": {\"color\": \"rgb(252, 123, 3)\"}, \"name\": \"binned_pass_length=medium\", \"r\": [2.0, 1.0, 1.0], \"showlegend\": false, \"subplot\": \"polar19\", \"theta\": [60.0, 90.0, 150.0], \"type\": \"barpolar\"}, {\"hoverlabel\": {\"namelength\": 0}, \"hovertemplate\": \"binned_pass_length=No Pass<br>Frequency=%{r}<br>Angle=%{theta}\", \"legendgroup\": \"B\", \"marker\": {\"color\": \"#19d3f3\"}, \"name\": \"binned_pass_length=No Pass\", \"r\": [0.0, 0.0, 0.0, 0.0, 0.0, 0.0, 0.0, 0.0, 0.0, 0.0, 0.0, 0.0, 0.0, 0.0, 0.0], \"showlegend\": false, \"subplot\": \"polar17\", \"theta\": [-165.0, -150.0, -135.0, -120.0, -105.0, -90.0, -75.0, -45.0, -30.0, 30.0, 75.0, 105.0, 120.0, 135.0, 165.0], \"type\": \"barpolar\"}, {\"hoverlabel\": {\"namelength\": 0}, \"hovertemplate\": \"binned_pass_length=medium<br>Frequency=%{r}<br>Angle=%{theta}\", \"legendgroup\": \"B\", \"marker\": {\"color\": \"rgb(252, 123, 3)\"}, \"name\": \"binned_pass_length=medium\", \"r\": [3.0, 2.0, 3.0, 1.0], \"showlegend\": false, \"subplot\": \"polar17\", \"theta\": [-60.0, -15.0, 90.0, 150.0], \"type\": \"barpolar\"}, {\"hoverlabel\": {\"namelength\": 0}, \"hovertemplate\": \"binned_pass_length=long<br>Frequency=%{r}<br>Angle=%{theta}\", \"legendgroup\": \"B\", \"marker\": {\"color\": \"rgb(252, 10, 3)\"}, \"name\": \"binned_pass_length=long\", \"r\": [3.0], \"showlegend\": false, \"subplot\": \"polar17\", \"theta\": [0.0], \"type\": \"barpolar\"}, {\"hoverlabel\": {\"namelength\": 0}, \"hovertemplate\": \"binned_pass_length=very_long<br>Frequency=%{r}<br>Angle=%{theta}\", \"legendgroup\": \"B\", \"marker\": {\"color\": \"rgb(252, 3, 3)\"}, \"name\": \"binned_pass_length=very_long\", \"r\": [1.0, 2.0], \"showlegend\": false, \"subplot\": \"polar17\", \"theta\": [15.0, 60.0], \"type\": \"barpolar\"}, {\"hoverlabel\": {\"namelength\": 0}, \"hovertemplate\": \"binned_pass_length=short<br>Frequency=%{r}<br>Angle=%{theta}\", \"legendgroup\": \"B\", \"marker\": {\"color\": \"rgb(252, 177, 3)\"}, \"name\": \"binned_pass_length=short\", \"r\": [3.0], \"showlegend\": false, \"subplot\": \"polar17\", \"theta\": [45.0], \"type\": \"barpolar\"}, {\"hoverlabel\": {\"namelength\": 0}, \"hovertemplate\": \"binned_pass_length=No Pass<br>Frequency=%{r}<br>Angle=%{theta}\", \"legendgroup\": \"B\", \"marker\": {\"color\": \"#19d3f3\"}, \"name\": \"binned_pass_length=No Pass\", \"r\": [0.0, 0.0, 0.0, 0.0, 0.0, 0.0, 0.0, 0.0, 0.0], \"showlegend\": false, \"subplot\": \"polar16\", \"theta\": [-165.0, -150.0, -135.0, -120.0, -105.0, -90.0, -75.0, -30.0, 165.0], \"type\": \"barpolar\"}, {\"hoverlabel\": {\"namelength\": 0}, \"hovertemplate\": \"binned_pass_length=very_short<br>Frequency=%{r}<br>Angle=%{theta}\", \"legendgroup\": \"B\", \"marker\": {\"color\": \"rgb(252, 219, 3)\"}, \"name\": \"binned_pass_length=very_short\", \"r\": [1.0], \"showlegend\": false, \"subplot\": \"polar16\", \"theta\": [-60.0], \"type\": \"barpolar\"}, {\"hoverlabel\": {\"namelength\": 0}, \"hovertemplate\": \"binned_pass_length=medium<br>Frequency=%{r}<br>Angle=%{theta}\", \"legendgroup\": \"B\", \"marker\": {\"color\": \"rgb(252, 123, 3)\"}, \"name\": \"binned_pass_length=medium\", \"r\": [1.0, 3.0, 4.0, 2.0, 1.0, 1.0, 1.0], \"showlegend\": false, \"subplot\": \"polar16\", \"theta\": [-45.0, 30.0, 45.0, 90.0, 105.0, 120.0, 150.0], \"type\": \"barpolar\"}, {\"hoverlabel\": {\"namelength\": 0}, \"hovertemplate\": \"binned_pass_length=long<br>Frequency=%{r}<br>Angle=%{theta}\", \"legendgroup\": \"B\", \"marker\": {\"color\": \"rgb(252, 10, 3)\"}, \"name\": \"binned_pass_length=long\", \"r\": [2.0, 3.0, 3.0, 1.0], \"showlegend\": false, \"subplot\": \"polar16\", \"theta\": [-15.0, 15.0, 60.0, 135.0], \"type\": \"barpolar\"}, {\"hoverlabel\": {\"namelength\": 0}, \"hovertemplate\": \"binned_pass_length=very_long<br>Frequency=%{r}<br>Angle=%{theta}\", \"legendgroup\": \"B\", \"marker\": {\"color\": \"rgb(252, 3, 3)\"}, \"name\": \"binned_pass_length=very_long\", \"r\": [4.0], \"showlegend\": false, \"subplot\": \"polar16\", \"theta\": [0.0], \"type\": \"barpolar\"}, {\"hoverlabel\": {\"namelength\": 0}, \"hovertemplate\": \"binned_pass_length=short<br>Frequency=%{r}<br>Angle=%{theta}\", \"legendgroup\": \"B\", \"marker\": {\"color\": \"rgb(252, 177, 3)\"}, \"name\": \"binned_pass_length=short\", \"r\": [3.0], \"showlegend\": false, \"subplot\": \"polar16\", \"theta\": [75.0], \"type\": \"barpolar\"}, {\"hoverlabel\": {\"namelength\": 0}, \"hovertemplate\": \"binned_pass_length=No Pass<br>Frequency=%{r}<br>Angle=%{theta}\", \"legendgroup\": \"B\", \"marker\": {\"color\": \"#19d3f3\"}, \"name\": \"binned_pass_length=No Pass\", \"r\": [0.0, 0.0, 0.0, 0.0], \"showlegend\": false, \"subplot\": \"polar15\", \"theta\": [-165.0, -135.0, -120.0, 75.0], \"type\": \"barpolar\"}, {\"hoverlabel\": {\"namelength\": 0}, \"hovertemplate\": \"binned_pass_length=very_short<br>Frequency=%{r}<br>Angle=%{theta}\", \"legendgroup\": \"B\", \"marker\": {\"color\": \"rgb(252, 219, 3)\"}, \"name\": \"binned_pass_length=very_short\", \"r\": [1.0], \"showlegend\": false, \"subplot\": \"polar15\", \"theta\": [-150.0], \"type\": \"barpolar\"}, {\"hoverlabel\": {\"namelength\": 0}, \"hovertemplate\": \"binned_pass_length=short<br>Frequency=%{r}<br>Angle=%{theta}\", \"legendgroup\": \"B\", \"marker\": {\"color\": \"rgb(252, 177, 3)\"}, \"name\": \"binned_pass_length=short\", \"r\": [1.0, 5.0, 2.0, 2.0, 1.0, 1.0, 1.0, 2.0, 1.0, 2.0, 2.0], \"showlegend\": false, \"subplot\": \"polar15\", \"theta\": [-105.0, -60.0, -15.0, 0.0, 30.0, 60.0, 105.0, 120.0, 135.0, 150.0, 165.0], \"type\": \"barpolar\"}, {\"hoverlabel\": {\"namelength\": 0}, \"hovertemplate\": \"binned_pass_length=medium<br>Frequency=%{r}<br>Angle=%{theta}\", \"legendgroup\": \"B\", \"marker\": {\"color\": \"rgb(252, 123, 3)\"}, \"name\": \"binned_pass_length=medium\", \"r\": [2.0, 2.0, 2.0, 2.0, 1.0, 1.0], \"showlegend\": false, \"subplot\": \"polar15\", \"theta\": [-90.0, -75.0, -45.0, 15.0, 45.0, 90.0], \"type\": \"barpolar\"}, {\"hoverlabel\": {\"namelength\": 0}, \"hovertemplate\": \"binned_pass_length=long<br>Frequency=%{r}<br>Angle=%{theta}\", \"legendgroup\": \"B\", \"marker\": {\"color\": \"rgb(252, 10, 3)\"}, \"name\": \"binned_pass_length=long\", \"r\": [3.0], \"showlegend\": false, \"subplot\": \"polar15\", \"theta\": [-30.0], \"type\": \"barpolar\"}, {\"hoverlabel\": {\"namelength\": 0}, \"hovertemplate\": \"binned_pass_length=No Pass<br>Frequency=%{r}<br>Angle=%{theta}\", \"legendgroup\": \"B\", \"marker\": {\"color\": \"#19d3f3\"}, \"name\": \"binned_pass_length=No Pass\", \"r\": [0.0, 0.0, 0.0, 0.0, 0.0, 0.0, 0.0, 0.0, 0.0, 0.0], \"showlegend\": false, \"subplot\": \"polar14\", \"theta\": [-165.0, -150.0, -135.0, -105.0, -60.0, 0.0, 30.0, 60.0, 105.0, 165.0], \"type\": \"barpolar\"}, {\"hoverlabel\": {\"namelength\": 0}, \"hovertemplate\": \"binned_pass_length=very_short<br>Frequency=%{r}<br>Angle=%{theta}\", \"legendgroup\": \"B\", \"marker\": {\"color\": \"rgb(252, 219, 3)\"}, \"name\": \"binned_pass_length=very_short\", \"r\": [1.0, 1.0, 1.0], \"showlegend\": false, \"subplot\": \"polar14\", \"theta\": [-120.0, -15.0, 135.0], \"type\": \"barpolar\"}, {\"hoverlabel\": {\"namelength\": 0}, \"hovertemplate\": \"binned_pass_length=medium<br>Frequency=%{r}<br>Angle=%{theta}\", \"legendgroup\": \"B\", \"marker\": {\"color\": \"rgb(252, 123, 3)\"}, \"name\": \"binned_pass_length=medium\", \"r\": [2.0, 1.0, 2.0, 2.0], \"showlegend\": false, \"subplot\": \"polar14\", \"theta\": [-90.0, -45.0, 75.0, 90.0], \"type\": \"barpolar\"}, {\"hoverlabel\": {\"namelength\": 0}, \"hovertemplate\": \"binned_pass_length=short<br>Frequency=%{r}<br>Angle=%{theta}\", \"legendgroup\": \"B\", \"marker\": {\"color\": \"rgb(252, 177, 3)\"}, \"name\": \"binned_pass_length=short\", \"r\": [2.0, 1.0, 1.0, 1.0, 1.0], \"showlegend\": false, \"subplot\": \"polar14\", \"theta\": [-75.0, -30.0, 45.0, 120.0, 150.0], \"type\": \"barpolar\"}, {\"hoverlabel\": {\"namelength\": 0}, \"hovertemplate\": \"binned_pass_length=long<br>Frequency=%{r}<br>Angle=%{theta}\", \"legendgroup\": \"B\", \"marker\": {\"color\": \"rgb(252, 10, 3)\"}, \"name\": \"binned_pass_length=long\", \"r\": [2.0], \"showlegend\": false, \"subplot\": \"polar14\", \"theta\": [15.0], \"type\": \"barpolar\"}, {\"hoverlabel\": {\"namelength\": 0}, \"hovertemplate\": \"binned_pass_length=short<br>Frequency=%{r}<br>Angle=%{theta}\", \"legendgroup\": \"B\", \"marker\": {\"color\": \"rgb(252, 177, 3)\"}, \"name\": \"binned_pass_length=short\", \"r\": [2.0, 1.0, 2.0, 1.0, 1.0], \"showlegend\": false, \"subplot\": \"polar12\", \"theta\": [-165.0, -105.0, 45.0, 105.0, 135.0], \"type\": \"barpolar\"}, {\"hoverlabel\": {\"namelength\": 0}, \"hovertemplate\": \"binned_pass_length=No Pass<br>Frequency=%{r}<br>Angle=%{theta}\", \"legendgroup\": \"B\", \"marker\": {\"color\": \"#19d3f3\"}, \"name\": \"binned_pass_length=No Pass\", \"r\": [0.0, 0.0, 0.0, 0.0, 0.0, 0.0, 0.0], \"showlegend\": false, \"subplot\": \"polar12\", \"theta\": [-150.0, -120.0, -30.0, 90.0, 120.0, 150.0, 165.0], \"type\": \"barpolar\"}, {\"hoverlabel\": {\"namelength\": 0}, \"hovertemplate\": \"binned_pass_length=medium<br>Frequency=%{r}<br>Angle=%{theta}\", \"legendgroup\": \"B\", \"marker\": {\"color\": \"rgb(252, 123, 3)\"}, \"name\": \"binned_pass_length=medium\", \"r\": [1.0, 1.0, 3.0, 2.0], \"showlegend\": false, \"subplot\": \"polar12\", \"theta\": [-135.0, -75.0, -45.0, 0.0], \"type\": \"barpolar\"}, {\"hoverlabel\": {\"namelength\": 0}, \"hovertemplate\": \"binned_pass_length=very_short<br>Frequency=%{r}<br>Angle=%{theta}\", \"legendgroup\": \"B\", \"marker\": {\"color\": \"rgb(252, 219, 3)\"}, \"name\": \"binned_pass_length=very_short\", \"r\": [2.0], \"showlegend\": false, \"subplot\": \"polar12\", \"theta\": [-90.0], \"type\": \"barpolar\"}, {\"hoverlabel\": {\"namelength\": 0}, \"hovertemplate\": \"binned_pass_length=very_long<br>Frequency=%{r}<br>Angle=%{theta}\", \"legendgroup\": \"B\", \"marker\": {\"color\": \"rgb(252, 3, 3)\"}, \"name\": \"binned_pass_length=very_long\", \"r\": [2.0, 2.0], \"showlegend\": false, \"subplot\": \"polar12\", \"theta\": [-60.0, 30.0], \"type\": \"barpolar\"}, {\"hoverlabel\": {\"namelength\": 0}, \"hovertemplate\": \"binned_pass_length=long<br>Frequency=%{r}<br>Angle=%{theta}\", \"legendgroup\": \"B\", \"marker\": {\"color\": \"rgb(252, 10, 3)\"}, \"name\": \"binned_pass_length=long\", \"r\": [1.0, 3.0, 3.0, 1.0], \"showlegend\": false, \"subplot\": \"polar12\", \"theta\": [-15.0, 15.0, 60.0, 75.0], \"type\": \"barpolar\"}, {\"hoverlabel\": {\"namelength\": 0}, \"hovertemplate\": \"binned_pass_length=short<br>Frequency=%{r}<br>Angle=%{theta}\", \"legendgroup\": \"B\", \"marker\": {\"color\": \"rgb(252, 177, 3)\"}, \"name\": \"binned_pass_length=short\", \"r\": [1.0, 1.0, 2.0, 1.0, 1.0], \"showlegend\": false, \"subplot\": \"polar11\", \"theta\": [-165.0, 60.0, 75.0, 120.0, 165.0], \"type\": \"barpolar\"}, {\"hoverlabel\": {\"namelength\": 0}, \"hovertemplate\": \"binned_pass_length=No Pass<br>Frequency=%{r}<br>Angle=%{theta}\", \"legendgroup\": \"B\", \"marker\": {\"color\": \"#19d3f3\"}, \"name\": \"binned_pass_length=No Pass\", \"r\": [0.0, 0.0, 0.0, 0.0, 0.0, 0.0, 0.0, 0.0, 0.0, 0.0, 0.0, 0.0, 0.0, 0.0], \"showlegend\": false, \"subplot\": \"polar11\", \"theta\": [-150.0, -135.0, -120.0, -90.0, -60.0, -45.0, -30.0, -15.0, 15.0, 30.0, 45.0, 90.0, 135.0, 150.0], \"type\": \"barpolar\"}, {\"hoverlabel\": {\"namelength\": 0}, \"hovertemplate\": \"binned_pass_length=very_short<br>Frequency=%{r}<br>Angle=%{theta}\", \"legendgroup\": \"B\", \"marker\": {\"color\": \"rgb(252, 219, 3)\"}, \"name\": \"binned_pass_length=very_short\", \"r\": [1.0, 1.0, 2.0], \"showlegend\": false, \"subplot\": \"polar11\", \"theta\": [-105.0, 0.0, 105.0], \"type\": \"barpolar\"}, {\"hoverlabel\": {\"namelength\": 0}, \"hovertemplate\": \"binned_pass_length=medium<br>Frequency=%{r}<br>Angle=%{theta}\", \"legendgroup\": \"B\", \"marker\": {\"color\": \"rgb(252, 123, 3)\"}, \"name\": \"binned_pass_length=medium\", \"r\": [1.0], \"showlegend\": false, \"subplot\": \"polar11\", \"theta\": [-75.0], \"type\": \"barpolar\"}, {\"hoverlabel\": {\"namelength\": 0}, \"hovertemplate\": \"binned_pass_length=short<br>Frequency=%{r}<br>Angle=%{theta}\", \"legendgroup\": \"B\", \"marker\": {\"color\": \"rgb(252, 177, 3)\"}, \"name\": \"binned_pass_length=short\", \"r\": [1.0, 1.0, 2.0, 2.0, 1.0], \"showlegend\": false, \"subplot\": \"polar9\", \"theta\": [-165.0, -15.0, 0.0, 30.0, 150.0], \"type\": \"barpolar\"}, {\"hoverlabel\": {\"namelength\": 0}, \"hovertemplate\": \"binned_pass_length=very_short<br>Frequency=%{r}<br>Angle=%{theta}\", \"legendgroup\": \"B\", \"marker\": {\"color\": \"rgb(252, 219, 3)\"}, \"name\": \"binned_pass_length=very_short\", \"r\": [1.0, 1.0, 1.0, 1.0], \"showlegend\": false, \"subplot\": \"polar9\", \"theta\": [-150.0, -135.0, -45.0, 120.0], \"type\": \"barpolar\"}, {\"hoverlabel\": {\"namelength\": 0}, \"hovertemplate\": \"binned_pass_length=No Pass<br>Frequency=%{r}<br>Angle=%{theta}\", \"legendgroup\": \"B\", \"marker\": {\"color\": \"#19d3f3\"}, \"name\": \"binned_pass_length=No Pass\", \"r\": [0.0, 0.0, 0.0, 0.0, 0.0, 0.0, 0.0, 0.0, 0.0, 0.0], \"showlegend\": false, \"subplot\": \"polar9\", \"theta\": [-120.0, -105.0, -60.0, -30.0, 15.0, 45.0, 60.0, 75.0, 90.0, 135.0], \"type\": \"barpolar\"}, {\"hoverlabel\": {\"namelength\": 0}, \"hovertemplate\": \"binned_pass_length=very_long<br>Frequency=%{r}<br>Angle=%{theta}\", \"legendgroup\": \"B\", \"marker\": {\"color\": \"rgb(252, 3, 3)\"}, \"name\": \"binned_pass_length=very_long\", \"r\": [1.0], \"showlegend\": false, \"subplot\": \"polar9\", \"theta\": [-90.0], \"type\": \"barpolar\"}, {\"hoverlabel\": {\"namelength\": 0}, \"hovertemplate\": \"binned_pass_length=medium<br>Frequency=%{r}<br>Angle=%{theta}\", \"legendgroup\": \"B\", \"marker\": {\"color\": \"rgb(252, 123, 3)\"}, \"name\": \"binned_pass_length=medium\", \"r\": [1.0, 3.0, 2.0], \"showlegend\": false, \"subplot\": \"polar9\", \"theta\": [-75.0, 105.0, 165.0], \"type\": \"barpolar\"}, {\"hoverlabel\": {\"namelength\": 0}, \"hovertemplate\": \"binned_pass_length=short<br>Frequency=%{r}<br>Angle=%{theta}\", \"legendgroup\": \"B\", \"marker\": {\"color\": \"rgb(252, 177, 3)\"}, \"name\": \"binned_pass_length=short\", \"r\": [1.0, 1.0, 1.0], \"showlegend\": false, \"subplot\": \"polar7\", \"theta\": [-165.0, 60.0, 75.0], \"type\": \"barpolar\"}, {\"hoverlabel\": {\"namelength\": 0}, \"hovertemplate\": \"binned_pass_length=very_short<br>Frequency=%{r}<br>Angle=%{theta}\", \"legendgroup\": \"B\", \"marker\": {\"color\": \"rgb(252, 219, 3)\"}, \"name\": \"binned_pass_length=very_short\", \"r\": [1.0, 1.0, 2.0], \"showlegend\": false, \"subplot\": \"polar7\", \"theta\": [-150.0, -60.0, 90.0], \"type\": \"barpolar\"}, {\"hoverlabel\": {\"namelength\": 0}, \"hovertemplate\": \"binned_pass_length=No Pass<br>Frequency=%{r}<br>Angle=%{theta}\", \"legendgroup\": \"B\", \"marker\": {\"color\": \"#19d3f3\"}, \"name\": \"binned_pass_length=No Pass\", \"r\": [0.0, 0.0, 0.0, 0.0, 0.0, 0.0, 0.0, 0.0, 0.0, 0.0, 0.0, 0.0, 0.0, 0.0, 0.0, 0.0, 0.0], \"showlegend\": false, \"subplot\": \"polar7\", \"theta\": [-135.0, -120.0, -105.0, -90.0, -75.0, -45.0, -30.0, -15.0, 0.0, 15.0, 30.0, 45.0, 105.0, 120.0, 135.0, 150.0, 165.0], \"type\": \"barpolar\"}],\n",
       "                        {\"annotations\": [{\"font\": {\"size\": 16}, \"showarrow\": false, \"text\": \"<span style=\\\"  font-size: 20pt;font-family: 'Luckiest Guy';color: #fff;text-shadow:0px -3px 0 #212121,0px -3px 0 #212121,0px  3px 0 #212121,0px  3px 0 #212121,-3px  0px 0 #212121,  3px  0px 0 #212121,-3px  0px 0 #212121,3px  0px 0 #212121,-3px -3px 0 #212121,  3px -3px 0 #212121,-3px  3px 0 #212121,3px  3px 0 #212121,-3px  9px 0 #212121,0px  9px 0 #212121,3px  9px 0 #212121,0 9px 1px rgba(0,0,0,.1),0 0 3px rgba(0,0,0,.1),0 3px 1.5px rgba(0,0,0,.3),0 6px 3px rgba(0,0,0,.2),0 9px 9px rgba(0,0,0,.25),0 12px 12px rgba(0,0,0,.2),0 18px 18px rgba(0,0,0,.15);\\\">Ja-Cheol Koo</span>\", \"x\": 0.292, \"xanchor\": \"center\", \"xref\": \"paper\", \"y\": 0.798, \"yanchor\": \"bottom\", \"yref\": \"paper\"}, {\"font\": {\"size\": 16}, \"showarrow\": false, \"text\": \"<span style=\\\"  font-size: 20pt;font-family: 'Luckiest Guy';color: #fff;text-shadow:0px -3px 0 #212121,0px -3px 0 #212121,0px  3px 0 #212121,0px  3px 0 #212121,-3px  0px 0 #212121,  3px  0px 0 #212121,-3px  0px 0 #212121,3px  0px 0 #212121,-3px -3px 0 #212121,  3px -3px 0 #212121,-3px  3px 0 #212121,3px  3px 0 #212121,-3px  9px 0 #212121,0px  9px 0 #212121,3px  9px 0 #212121,0 9px 1px rgba(0,0,0,.1),0 0 3px rgba(0,0,0,.1),0 3px 1.5px rgba(0,0,0,.3),0 6px 3px rgba(0,0,0,.2),0 9px 9px rgba(0,0,0,.25),0 12px 12px rgba(0,0,0,.2),0 18px 18px rgba(0,0,0,.15);\\\">Heung-Min Son</span>\", \"x\": 0.708, \"xanchor\": \"center\", \"xref\": \"paper\", \"y\": 0.798, \"yanchor\": \"bottom\", \"yref\": \"paper\"}, {\"font\": {\"size\": 16}, \"showarrow\": false, \"text\": \"<span style=\\\"  font-size: 20pt;font-family: 'Luckiest Guy';color: #fff;text-shadow:0px -3px 0 #212121,0px -3px 0 #212121,0px  3px 0 #212121,0px  3px 0 #212121,-3px  0px 0 #212121,  3px  0px 0 #212121,-3px  0px 0 #212121,3px  0px 0 #212121,-3px -3px 0 #212121,  3px -3px 0 #212121,-3px  3px 0 #212121,3px  3px 0 #212121,-3px  9px 0 #212121,0px  9px 0 #212121,3px  9px 0 #212121,0 9px 1px rgba(0,0,0,.1),0 0 3px rgba(0,0,0,.1),0 3px 1.5px rgba(0,0,0,.3),0 6px 3px rgba(0,0,0,.2),0 9px 9px rgba(0,0,0,.25),0 12px 12px rgba(0,0,0,.2),0 18px 18px rgba(0,0,0,.15);\\\">Seon-Min Moon</span>\", \"x\": 0.08399999999999999, \"xanchor\": \"center\", \"xref\": \"paper\", \"y\": 0.5960000000000001, \"yanchor\": \"bottom\", \"yref\": \"paper\"}, {\"font\": {\"size\": 16}, \"showarrow\": false, \"text\": \"<span style=\\\"  font-size: 20pt;font-family: 'Luckiest Guy';color: #fff;text-shadow:0px -3px 0 #212121,0px -3px 0 #212121,0px  3px 0 #212121,0px  3px 0 #212121,-3px  0px 0 #212121,  3px  0px 0 #212121,-3px  0px 0 #212121,3px  0px 0 #212121,-3px -3px 0 #212121,  3px -3px 0 #212121,-3px  3px 0 #212121,3px  3px 0 #212121,-3px  9px 0 #212121,0px  9px 0 #212121,3px  9px 0 #212121,0 9px 1px rgba(0,0,0,.1),0 0 3px rgba(0,0,0,.1),0 3px 1.5px rgba(0,0,0,.3),0 6px 3px rgba(0,0,0,.2),0 9px 9px rgba(0,0,0,.25),0 12px 12px rgba(0,0,0,.2),0 18px 18px rgba(0,0,0,.15);\\\">Woo-Young Jung</span>\", \"x\": 0.292, \"xanchor\": \"center\", \"xref\": \"paper\", \"y\": 0.5960000000000001, \"yanchor\": \"bottom\", \"yref\": \"paper\"}, {\"font\": {\"size\": 16}, \"showarrow\": false, \"text\": \"<span style=\\\"  font-size: 20pt;font-family: 'Luckiest Guy';color: #fff;text-shadow:0px -3px 0 #212121,0px -3px 0 #212121,0px  3px 0 #212121,0px  3px 0 #212121,-3px  0px 0 #212121,  3px  0px 0 #212121,-3px  0px 0 #212121,3px  0px 0 #212121,-3px -3px 0 #212121,  3px -3px 0 #212121,-3px  3px 0 #212121,3px  3px 0 #212121,-3px  9px 0 #212121,0px  9px 0 #212121,3px  9px 0 #212121,0 9px 1px rgba(0,0,0,.1),0 0 3px rgba(0,0,0,.1),0 3px 1.5px rgba(0,0,0,.3),0 6px 3px rgba(0,0,0,.2),0 9px 9px rgba(0,0,0,.25),0 12px 12px rgba(0,0,0,.2),0 18px 18px rgba(0,0,0,.15);\\\">Hyun-Soo Jang</span>\", \"x\": 0.708, \"xanchor\": \"center\", \"xref\": \"paper\", \"y\": 0.5960000000000001, \"yanchor\": \"bottom\", \"yref\": \"paper\"}, {\"font\": {\"size\": 16}, \"showarrow\": false, \"text\": \"<span style=\\\"  font-size: 20pt;font-family: 'Luckiest Guy';color: #fff;text-shadow:0px -3px 0 #212121,0px -3px 0 #212121,0px  3px 0 #212121,0px  3px 0 #212121,-3px  0px 0 #212121,  3px  0px 0 #212121,-3px  0px 0 #212121,3px  0px 0 #212121,-3px -3px 0 #212121,  3px -3px 0 #212121,-3px  3px 0 #212121,3px  3px 0 #212121,-3px  9px 0 #212121,0px  9px 0 #212121,3px  9px 0 #212121,0 9px 1px rgba(0,0,0,.1),0 0 3px rgba(0,0,0,.1),0 3px 1.5px rgba(0,0,0,.3),0 6px 3px rgba(0,0,0,.2),0 9px 9px rgba(0,0,0,.25),0 12px 12px rgba(0,0,0,.2),0 18px 18px rgba(0,0,0,.15);\\\">Jae-Sung Lee</span>\", \"x\": 0.9159999999999999, \"xanchor\": \"center\", \"xref\": \"paper\", \"y\": 0.5960000000000001, \"yanchor\": \"bottom\", \"yref\": \"paper\"}, {\"font\": {\"size\": 16}, \"showarrow\": false, \"text\": \"<span style=\\\"  font-size: 20pt;font-family: 'Luckiest Guy';color: #fff;text-shadow:0px -3px 0 #212121,0px -3px 0 #212121,0px  3px 0 #212121,0px  3px 0 #212121,-3px  0px 0 #212121,  3px  0px 0 #212121,-3px  0px 0 #212121,3px  0px 0 #212121,-3px -3px 0 #212121,  3px -3px 0 #212121,-3px  3px 0 #212121,3px  3px 0 #212121,-3px  9px 0 #212121,0px  9px 0 #212121,3px  9px 0 #212121,0 9px 1px rgba(0,0,0,.1),0 0 3px rgba(0,0,0,.1),0 3px 1.5px rgba(0,0,0,.3),0 6px 3px rgba(0,0,0,.2),0 9px 9px rgba(0,0,0,.25),0 12px 12px rgba(0,0,0,.2),0 18px 18px rgba(0,0,0,.15);\\\">Chul Hong</span>\", \"x\": 0.08399999999999999, \"xanchor\": \"center\", \"xref\": \"paper\", \"y\": 0.394, \"yanchor\": \"bottom\", \"yref\": \"paper\"}, {\"font\": {\"size\": 16}, \"showarrow\": false, \"text\": \"<span style=\\\"  font-size: 20pt;font-family: 'Luckiest Guy';color: #fff;text-shadow:0px -3px 0 #212121,0px -3px 0 #212121,0px  3px 0 #212121,0px  3px 0 #212121,-3px  0px 0 #212121,  3px  0px 0 #212121,-3px  0px 0 #212121,3px  0px 0 #212121,-3px -3px 0 #212121,  3px -3px 0 #212121,-3px  3px 0 #212121,3px  3px 0 #212121,-3px  9px 0 #212121,0px  9px 0 #212121,3px  9px 0 #212121,0 9px 1px rgba(0,0,0,.1),0 0 3px rgba(0,0,0,.1),0 3px 1.5px rgba(0,0,0,.3),0 6px 3px rgba(0,0,0,.2),0 9px 9px rgba(0,0,0,.25),0 12px 12px rgba(0,0,0,.2),0 18px 18px rgba(0,0,0,.15);\\\">Young-Gwon Kim</span>\", \"x\": 0.292, \"xanchor\": \"center\", \"xref\": \"paper\", \"y\": 0.394, \"yanchor\": \"bottom\", \"yref\": \"paper\"}, {\"font\": {\"size\": 16}, \"showarrow\": false, \"text\": \"<span style=\\\"  font-size: 20pt;font-family: 'Luckiest Guy';color: #fff;text-shadow:0px -3px 0 #212121,0px -3px 0 #212121,0px  3px 0 #212121,0px  3px 0 #212121,-3px  0px 0 #212121,  3px  0px 0 #212121,-3px  0px 0 #212121,3px  0px 0 #212121,-3px -3px 0 #212121,  3px -3px 0 #212121,-3px  3px 0 #212121,3px  3px 0 #212121,-3px  9px 0 #212121,0px  9px 0 #212121,3px  9px 0 #212121,0 9px 1px rgba(0,0,0,.1),0 0 3px rgba(0,0,0,.1),0 3px 1.5px rgba(0,0,0,.3),0 6px 3px rgba(0,0,0,.2),0 9px 9px rgba(0,0,0,.25),0 12px 12px rgba(0,0,0,.2),0 18px 18px rgba(0,0,0,.15);\\\">Young-Sun Yun</span>\", \"x\": 0.708, \"xanchor\": \"center\", \"xref\": \"paper\", \"y\": 0.394, \"yanchor\": \"bottom\", \"yref\": \"paper\"}, {\"font\": {\"size\": 16}, \"showarrow\": false, \"text\": \"<span style=\\\"  font-size: 20pt;font-family: 'Luckiest Guy';color: #fff;text-shadow:0px -3px 0 #212121,0px -3px 0 #212121,0px  3px 0 #212121,0px  3px 0 #212121,-3px  0px 0 #212121,  3px  0px 0 #212121,-3px  0px 0 #212121,3px  0px 0 #212121,-3px -3px 0 #212121,  3px -3px 0 #212121,-3px  3px 0 #212121,3px  3px 0 #212121,-3px  9px 0 #212121,0px  9px 0 #212121,3px  9px 0 #212121,0 9px 1px rgba(0,0,0,.1),0 0 3px rgba(0,0,0,.1),0 3px 1.5px rgba(0,0,0,.3),0 6px 3px rgba(0,0,0,.2),0 9px 9px rgba(0,0,0,.25),0 12px 12px rgba(0,0,0,.2),0 18px 18px rgba(0,0,0,.15);\\\">Yong Lee</span>\", \"x\": 0.9159999999999999, \"xanchor\": \"center\", \"xref\": \"paper\", \"y\": 0.394, \"yanchor\": \"bottom\", \"yref\": \"paper\"}, {\"font\": {\"size\": 16}, \"showarrow\": false, \"text\": \"<span style=\\\"  font-size: 20pt;font-family: 'Luckiest Guy';color: #fff;text-shadow:0px -3px 0 #212121,0px -3px 0 #212121,0px  3px 0 #212121,0px  3px 0 #212121,-3px  0px 0 #212121,  3px  0px 0 #212121,-3px  0px 0 #212121,3px  0px 0 #212121,-3px -3px 0 #212121,  3px -3px 0 #212121,-3px  3px 0 #212121,3px  3px 0 #212121,-3px  9px 0 #212121,0px  9px 0 #212121,3px  9px 0 #212121,0 9px 1px rgba(0,0,0,.1),0 0 3px rgba(0,0,0,.1),0 3px 1.5px rgba(0,0,0,.3),0 6px 3px rgba(0,0,0,.2),0 9px 9px rgba(0,0,0,.25),0 12px 12px rgba(0,0,0,.2),0 18px 18px rgba(0,0,0,.15);\\\">Hyun-Woo Cho</span>\", \"x\": 0.5, \"xanchor\": \"center\", \"xref\": \"paper\", \"y\": 0.192, \"yanchor\": \"bottom\", \"yref\": \"paper\"}], \"height\": 1800, \"images\": [{\"layer\": \"below\", \"opacity\": 1.0, \"sizex\": 7, \"sizey\": 5, \"sizing\": \"stretch\", \"source\": \"data:image/png;base64,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\", \"x\": -1, \"xref\": \"x\", \"y\": 4, \"yref\": \"y\"}], \"legend\": {\"bgcolor\": \"green\", \"bordercolor\": \"#FFFFFF\", \"borderwidth\": 2, \"font\": {\"color\": \"white\", \"family\": \"sans-serif\", \"size\": 12}, \"traceorder\": \"normal\", \"x\": 0, \"y\": 1}, \"polar\": {\"angularaxis\": {\"color\": \"rgba(0,0,0,0)\", \"direction\": \"clockwise\", \"gridcolor\": \"rgba(0,0,0,0)\", \"linecolor\": \"rgba(0,0,0,0)\", \"rotation\": 90, \"visible\": false}, \"bgcolor\": \"rgba(0,0,0,0)\", \"domain\": {\"x\": [0.0, 0.16799999999999998], \"y\": [0.808, 1.0]}, \"radialaxis\": {\"color\": \"rgba(0,0,0,0)\", \"gridcolor\": \"rgba(0,0,0,0)\", \"linecolor\": \"rgba(0,0,0,0)\", \"visible\": false}}, \"polar10\": {\"angularaxis\": {\"color\": \"rgba(0,0,0,0)\", \"direction\": \"clockwise\", \"gridcolor\": \"rgba(0,0,0,0)\", \"linecolor\": \"rgba(0,0,0,0)\", \"rotation\": 90, \"visible\": false}, \"bgcolor\": \"rgba(0,0,0,0)\", \"domain\": {\"x\": [0.832, 1.0], \"y\": [0.6060000000000001, 0.798]}, \"radialaxis\": {\"color\": \"rgba(0,0,0,0)\", \"gridcolor\": \"rgba(0,0,0,0)\", \"linecolor\": \"rgba(0,0,0,0)\", \"visible\": false}}, \"polar11\": {\"angularaxis\": {\"color\": \"rgba(0,0,0,0)\", \"direction\": \"clockwise\", \"gridcolor\": \"rgba(0,0,0,0)\", \"linecolor\": \"rgba(0,0,0,0)\", \"rotation\": 90, \"visible\": false}, \"bgcolor\": \"rgba(0,0,0,0)\", \"domain\": {\"x\": [0.0, 0.16799999999999998], \"y\": [0.404, 0.5960000000000001]}, \"radialaxis\": {\"color\": \"rgba(0,0,0,0)\", \"gridcolor\": \"rgba(0,0,0,0)\", \"linecolor\": \"rgba(0,0,0,0)\", \"visible\": false}}, \"polar12\": {\"angularaxis\": {\"color\": \"rgba(0,0,0,0)\", \"direction\": \"clockwise\", \"gridcolor\": \"rgba(0,0,0,0)\", \"linecolor\": \"rgba(0,0,0,0)\", \"rotation\": 90, \"visible\": false}, \"bgcolor\": \"rgba(0,0,0,0)\", \"domain\": {\"x\": [0.208, 0.376], \"y\": [0.404, 0.5960000000000001]}, \"radialaxis\": {\"color\": \"rgba(0,0,0,0)\", \"gridcolor\": \"rgba(0,0,0,0)\", \"linecolor\": \"rgba(0,0,0,0)\", \"visible\": false}}, \"polar13\": {\"angularaxis\": {\"color\": \"rgba(0,0,0,0)\", \"direction\": \"clockwise\", \"gridcolor\": \"rgba(0,0,0,0)\", \"linecolor\": \"rgba(0,0,0,0)\", \"rotation\": 90, \"visible\": false}, \"bgcolor\": \"rgba(0,0,0,0)\", \"domain\": {\"x\": [0.416, 0.584], \"y\": [0.404, 0.5960000000000001]}, \"radialaxis\": {\"color\": \"rgba(0,0,0,0)\", \"gridcolor\": \"rgba(0,0,0,0)\", \"linecolor\": \"rgba(0,0,0,0)\", \"visible\": false}}, \"polar14\": {\"angularaxis\": {\"color\": \"rgba(0,0,0,0)\", \"direction\": \"clockwise\", \"gridcolor\": \"rgba(0,0,0,0)\", \"linecolor\": \"rgba(0,0,0,0)\", \"rotation\": 90, \"visible\": false}, \"bgcolor\": \"rgba(0,0,0,0)\", \"domain\": {\"x\": [0.624, 0.792], \"y\": [0.404, 0.5960000000000001]}, \"radialaxis\": {\"color\": \"rgba(0,0,0,0)\", \"gridcolor\": \"rgba(0,0,0,0)\", \"linecolor\": \"rgba(0,0,0,0)\", \"visible\": false}}, \"polar15\": {\"angularaxis\": {\"color\": \"rgba(0,0,0,0)\", \"direction\": \"clockwise\", \"gridcolor\": \"rgba(0,0,0,0)\", \"linecolor\": \"rgba(0,0,0,0)\", \"rotation\": 90, \"visible\": false}, \"bgcolor\": \"rgba(0,0,0,0)\", \"domain\": {\"x\": [0.832, 1.0], \"y\": [0.404, 0.5960000000000001]}, \"radialaxis\": {\"color\": \"rgba(0,0,0,0)\", \"gridcolor\": \"rgba(0,0,0,0)\", \"linecolor\": \"rgba(0,0,0,0)\", \"visible\": false}}, \"polar16\": {\"angularaxis\": {\"color\": \"rgba(0,0,0,0)\", \"direction\": \"clockwise\", \"gridcolor\": \"rgba(0,0,0,0)\", \"linecolor\": \"rgba(0,0,0,0)\", \"rotation\": 90, \"visible\": false}, \"bgcolor\": \"rgba(0,0,0,0)\", \"domain\": {\"x\": [0.0, 0.16799999999999998], \"y\": [0.202, 0.394]}, \"radialaxis\": {\"color\": \"rgba(0,0,0,0)\", \"gridcolor\": \"rgba(0,0,0,0)\", \"linecolor\": \"rgba(0,0,0,0)\", \"visible\": false}}, \"polar17\": {\"angularaxis\": {\"color\": \"rgba(0,0,0,0)\", \"direction\": \"clockwise\", \"gridcolor\": \"rgba(0,0,0,0)\", \"linecolor\": \"rgba(0,0,0,0)\", \"rotation\": 90, \"visible\": false}, \"bgcolor\": \"rgba(0,0,0,0)\", \"domain\": {\"x\": [0.208, 0.376], \"y\": [0.202, 0.394]}, \"radialaxis\": {\"color\": \"rgba(0,0,0,0)\", \"gridcolor\": \"rgba(0,0,0,0)\", \"linecolor\": \"rgba(0,0,0,0)\", \"visible\": false}}, \"polar18\": {\"angularaxis\": {\"color\": \"rgba(0,0,0,0)\", \"direction\": \"clockwise\", \"gridcolor\": \"rgba(0,0,0,0)\", \"linecolor\": \"rgba(0,0,0,0)\", \"rotation\": 90, \"visible\": false}, \"bgcolor\": \"rgba(0,0,0,0)\", \"domain\": {\"x\": [0.416, 0.584], \"y\": [0.202, 0.394]}, \"radialaxis\": {\"color\": \"rgba(0,0,0,0)\", \"gridcolor\": \"rgba(0,0,0,0)\", \"linecolor\": \"rgba(0,0,0,0)\", \"visible\": false}}, \"polar19\": {\"angularaxis\": {\"color\": \"rgba(0,0,0,0)\", \"direction\": \"clockwise\", \"gridcolor\": \"rgba(0,0,0,0)\", \"linecolor\": \"rgba(0,0,0,0)\", \"rotation\": 90, \"visible\": false}, \"bgcolor\": \"rgba(0,0,0,0)\", \"domain\": {\"x\": [0.624, 0.792], \"y\": [0.202, 0.394]}, \"radialaxis\": {\"color\": \"rgba(0,0,0,0)\", \"gridcolor\": \"rgba(0,0,0,0)\", \"linecolor\": \"rgba(0,0,0,0)\", \"visible\": false}}, \"polar2\": {\"angularaxis\": {\"color\": \"rgba(0,0,0,0)\", \"direction\": \"clockwise\", \"gridcolor\": \"rgba(0,0,0,0)\", \"linecolor\": \"rgba(0,0,0,0)\", \"rotation\": 90, \"visible\": false}, \"bgcolor\": \"rgba(0,0,0,0)\", \"domain\": {\"x\": [0.208, 0.376], \"y\": [0.808, 1.0]}, \"radialaxis\": {\"color\": \"rgba(0,0,0,0)\", \"gridcolor\": \"rgba(0,0,0,0)\", \"linecolor\": \"rgba(0,0,0,0)\", \"visible\": false}}, \"polar20\": {\"angularaxis\": {\"color\": \"rgba(0,0,0,0)\", \"direction\": \"clockwise\", \"gridcolor\": \"rgba(0,0,0,0)\", \"linecolor\": \"rgba(0,0,0,0)\", \"rotation\": 90, \"visible\": false}, \"bgcolor\": \"rgba(0,0,0,0)\", \"domain\": {\"x\": [0.832, 1.0], \"y\": [0.202, 0.394]}, \"radialaxis\": {\"color\": \"rgba(0,0,0,0)\", \"gridcolor\": \"rgba(0,0,0,0)\", \"linecolor\": \"rgba(0,0,0,0)\", \"visible\": false}}, \"polar21\": {\"angularaxis\": {\"color\": \"rgba(0,0,0,0)\", \"direction\": \"clockwise\", \"gridcolor\": \"rgba(0,0,0,0)\", \"linecolor\": \"rgba(0,0,0,0)\", \"rotation\": 90, \"visible\": false}, \"bgcolor\": \"rgba(0,0,0,0)\", \"domain\": {\"x\": [0.0, 0.16799999999999998], \"y\": [0.0, 0.192]}, \"radialaxis\": {\"color\": \"rgba(0,0,0,0)\", \"gridcolor\": \"rgba(0,0,0,0)\", \"linecolor\": \"rgba(0,0,0,0)\", \"visible\": false}}, \"polar22\": {\"angularaxis\": {\"color\": \"rgba(0,0,0,0)\", \"direction\": \"clockwise\", \"gridcolor\": \"rgba(0,0,0,0)\", \"linecolor\": \"rgba(0,0,0,0)\", \"rotation\": 90, \"visible\": false}, \"bgcolor\": \"rgba(0,0,0,0)\", \"domain\": {\"x\": [0.208, 0.376], \"y\": [0.0, 0.192]}, \"radialaxis\": {\"color\": \"rgba(0,0,0,0)\", \"gridcolor\": \"rgba(0,0,0,0)\", \"linecolor\": \"rgba(0,0,0,0)\", \"visible\": false}}, \"polar23\": {\"angularaxis\": {\"color\": \"rgba(0,0,0,0)\", \"direction\": \"clockwise\", \"gridcolor\": \"rgba(0,0,0,0)\", \"linecolor\": \"rgba(0,0,0,0)\", \"rotation\": 90, \"visible\": false}, \"bgcolor\": \"rgba(0,0,0,0)\", \"domain\": {\"x\": [0.416, 0.584], \"y\": [0.0, 0.192]}, \"radialaxis\": {\"color\": \"rgba(0,0,0,0)\", \"gridcolor\": \"rgba(0,0,0,0)\", \"linecolor\": \"rgba(0,0,0,0)\", \"visible\": false}}, \"polar24\": {\"angularaxis\": {\"color\": \"rgba(0,0,0,0)\", \"direction\": \"clockwise\", \"gridcolor\": \"rgba(0,0,0,0)\", \"linecolor\": \"rgba(0,0,0,0)\", \"rotation\": 90, \"visible\": false}, \"bgcolor\": \"rgba(0,0,0,0)\", \"domain\": {\"x\": [0.624, 0.792], \"y\": [0.0, 0.192]}, \"radialaxis\": {\"color\": \"rgba(0,0,0,0)\", \"gridcolor\": \"rgba(0,0,0,0)\", \"linecolor\": \"rgba(0,0,0,0)\", \"visible\": false}}, \"polar25\": {\"angularaxis\": {\"color\": \"rgba(0,0,0,0)\", \"direction\": \"clockwise\", \"gridcolor\": \"rgba(0,0,0,0)\", \"linecolor\": \"rgba(0,0,0,0)\", \"rotation\": 90, \"visible\": false}, \"bgcolor\": \"rgba(0,0,0,0)\", \"domain\": {\"x\": [0.832, 1.0], \"y\": [0.0, 0.192]}, \"radialaxis\": {\"color\": \"rgba(0,0,0,0)\", \"gridcolor\": \"rgba(0,0,0,0)\", \"linecolor\": \"rgba(0,0,0,0)\", \"visible\": false}}, \"polar3\": {\"angularaxis\": {\"color\": \"rgba(0,0,0,0)\", \"direction\": \"clockwise\", \"gridcolor\": \"rgba(0,0,0,0)\", \"linecolor\": \"rgba(0,0,0,0)\", \"rotation\": 90, \"visible\": false}, \"bgcolor\": \"rgba(0,0,0,0)\", \"domain\": {\"x\": [0.416, 0.584], \"y\": [0.808, 1.0]}, \"radialaxis\": {\"color\": \"rgba(0,0,0,0)\", \"gridcolor\": \"rgba(0,0,0,0)\", \"linecolor\": \"rgba(0,0,0,0)\", \"visible\": false}}, \"polar4\": {\"angularaxis\": {\"color\": \"rgba(0,0,0,0)\", \"direction\": \"clockwise\", \"gridcolor\": \"rgba(0,0,0,0)\", \"linecolor\": \"rgba(0,0,0,0)\", \"rotation\": 90, \"visible\": false}, \"bgcolor\": \"rgba(0,0,0,0)\", \"domain\": {\"x\": [0.624, 0.792], \"y\": [0.808, 1.0]}, \"radialaxis\": {\"color\": \"rgba(0,0,0,0)\", \"gridcolor\": \"rgba(0,0,0,0)\", \"linecolor\": \"rgba(0,0,0,0)\", \"visible\": false}}, \"polar5\": {\"angularaxis\": {\"color\": \"rgba(0,0,0,0)\", \"direction\": \"clockwise\", \"gridcolor\": \"rgba(0,0,0,0)\", \"linecolor\": \"rgba(0,0,0,0)\", \"rotation\": 90, \"visible\": false}, \"bgcolor\": \"rgba(0,0,0,0)\", \"domain\": {\"x\": [0.832, 1.0], \"y\": [0.808, 1.0]}, \"radialaxis\": {\"color\": \"rgba(0,0,0,0)\", \"gridcolor\": \"rgba(0,0,0,0)\", \"linecolor\": \"rgba(0,0,0,0)\", \"visible\": false}}, \"polar6\": {\"angularaxis\": {\"color\": \"rgba(0,0,0,0)\", \"direction\": \"clockwise\", \"gridcolor\": \"rgba(0,0,0,0)\", \"linecolor\": \"rgba(0,0,0,0)\", \"rotation\": 90, \"visible\": false}, \"bgcolor\": \"rgba(0,0,0,0)\", \"domain\": {\"x\": [0.0, 0.16799999999999998], \"y\": [0.6060000000000001, 0.798]}, \"radialaxis\": {\"color\": \"rgba(0,0,0,0)\", \"gridcolor\": \"rgba(0,0,0,0)\", \"linecolor\": \"rgba(0,0,0,0)\", \"visible\": false}}, \"polar7\": {\"angularaxis\": {\"color\": \"rgba(0,0,0,0)\", \"direction\": \"clockwise\", \"gridcolor\": \"rgba(0,0,0,0)\", \"linecolor\": \"rgba(0,0,0,0)\", \"rotation\": 90, \"visible\": false}, \"bgcolor\": \"rgba(0,0,0,0)\", \"domain\": {\"x\": [0.208, 0.376], \"y\": [0.6060000000000001, 0.798]}, \"radialaxis\": {\"color\": \"rgba(0,0,0,0)\", \"gridcolor\": \"rgba(0,0,0,0)\", \"linecolor\": \"rgba(0,0,0,0)\", \"visible\": false}}, \"polar8\": {\"angularaxis\": {\"color\": \"rgba(0,0,0,0)\", \"direction\": \"clockwise\", \"gridcolor\": \"rgba(0,0,0,0)\", \"linecolor\": \"rgba(0,0,0,0)\", \"rotation\": 90, \"visible\": false}, \"bgcolor\": \"rgba(0,0,0,0)\", \"domain\": {\"x\": [0.416, 0.584], \"y\": [0.6060000000000001, 0.798]}, \"radialaxis\": {\"color\": \"rgba(0,0,0,0)\", \"gridcolor\": \"rgba(0,0,0,0)\", \"linecolor\": \"rgba(0,0,0,0)\", \"visible\": false}}, \"polar9\": {\"angularaxis\": {\"color\": \"rgba(0,0,0,0)\", \"direction\": \"clockwise\", \"gridcolor\": \"rgba(0,0,0,0)\", \"linecolor\": \"rgba(0,0,0,0)\", \"rotation\": 90, \"visible\": false}, \"bgcolor\": \"rgba(0,0,0,0)\", \"domain\": {\"x\": [0.624, 0.792], \"y\": [0.6060000000000001, 0.798]}, \"radialaxis\": {\"color\": \"rgba(0,0,0,0)\", \"gridcolor\": \"rgba(0,0,0,0)\", \"linecolor\": \"rgba(0,0,0,0)\", \"visible\": false}}, \"showlegend\": true, \"template\": {\"data\": {\"bar\": [{\"error_x\": {\"color\": \"#2a3f5f\"}, \"error_y\": {\"color\": \"#2a3f5f\"}, \"marker\": {\"line\": {\"color\": \"#E5ECF6\", \"width\": 0.5}}, \"type\": \"bar\"}], \"barpolar\": [{\"marker\": {\"line\": {\"color\": \"#E5ECF6\", \"width\": 0.5}}, \"type\": \"barpolar\"}], \"carpet\": [{\"aaxis\": {\"endlinecolor\": \"#2a3f5f\", \"gridcolor\": \"white\", \"linecolor\": \"white\", \"minorgridcolor\": \"white\", \"startlinecolor\": \"#2a3f5f\"}, \"baxis\": {\"endlinecolor\": \"#2a3f5f\", \"gridcolor\": \"white\", \"linecolor\": \"white\", \"minorgridcolor\": \"white\", \"startlinecolor\": \"#2a3f5f\"}, \"type\": \"carpet\"}], \"choropleth\": [{\"colorbar\": {\"outlinewidth\": 0, \"ticks\": \"\"}, \"type\": \"choropleth\"}], \"contour\": [{\"colorbar\": {\"outlinewidth\": 0, \"ticks\": \"\"}, \"colorscale\": [[0.0, \"#0d0887\"], [0.1111111111111111, \"#46039f\"], [0.2222222222222222, \"#7201a8\"], [0.3333333333333333, \"#9c179e\"], [0.4444444444444444, \"#bd3786\"], [0.5555555555555556, \"#d8576b\"], [0.6666666666666666, \"#ed7953\"], [0.7777777777777778, \"#fb9f3a\"], [0.8888888888888888, \"#fdca26\"], [1.0, \"#f0f921\"]], \"type\": \"contour\"}], \"contourcarpet\": [{\"colorbar\": {\"outlinewidth\": 0, \"ticks\": \"\"}, \"type\": \"contourcarpet\"}], \"heatmap\": [{\"colorbar\": {\"outlinewidth\": 0, \"ticks\": \"\"}, \"colorscale\": [[0.0, \"#0d0887\"], [0.1111111111111111, \"#46039f\"], [0.2222222222222222, \"#7201a8\"], [0.3333333333333333, \"#9c179e\"], [0.4444444444444444, \"#bd3786\"], [0.5555555555555556, \"#d8576b\"], [0.6666666666666666, \"#ed7953\"], [0.7777777777777778, \"#fb9f3a\"], [0.8888888888888888, \"#fdca26\"], [1.0, \"#f0f921\"]], \"type\": \"heatmap\"}], \"heatmapgl\": [{\"colorbar\": {\"outlinewidth\": 0, \"ticks\": \"\"}, \"colorscale\": [[0.0, \"#0d0887\"], [0.1111111111111111, \"#46039f\"], [0.2222222222222222, \"#7201a8\"], [0.3333333333333333, \"#9c179e\"], [0.4444444444444444, \"#bd3786\"], [0.5555555555555556, \"#d8576b\"], [0.6666666666666666, \"#ed7953\"], [0.7777777777777778, \"#fb9f3a\"], [0.8888888888888888, \"#fdca26\"], [1.0, \"#f0f921\"]], \"type\": \"heatmapgl\"}], \"histogram\": [{\"marker\": {\"colorbar\": {\"outlinewidth\": 0, \"ticks\": \"\"}}, \"type\": \"histogram\"}], \"histogram2d\": [{\"colorbar\": {\"outlinewidth\": 0, \"ticks\": \"\"}, \"colorscale\": [[0.0, \"#0d0887\"], [0.1111111111111111, \"#46039f\"], [0.2222222222222222, \"#7201a8\"], [0.3333333333333333, \"#9c179e\"], [0.4444444444444444, \"#bd3786\"], [0.5555555555555556, \"#d8576b\"], [0.6666666666666666, \"#ed7953\"], [0.7777777777777778, \"#fb9f3a\"], [0.8888888888888888, \"#fdca26\"], [1.0, \"#f0f921\"]], \"type\": \"histogram2d\"}], \"histogram2dcontour\": [{\"colorbar\": {\"outlinewidth\": 0, \"ticks\": \"\"}, \"colorscale\": [[0.0, \"#0d0887\"], [0.1111111111111111, \"#46039f\"], [0.2222222222222222, \"#7201a8\"], [0.3333333333333333, \"#9c179e\"], [0.4444444444444444, \"#bd3786\"], [0.5555555555555556, \"#d8576b\"], [0.6666666666666666, \"#ed7953\"], [0.7777777777777778, \"#fb9f3a\"], [0.8888888888888888, \"#fdca26\"], [1.0, \"#f0f921\"]], \"type\": \"histogram2dcontour\"}], \"mesh3d\": [{\"colorbar\": {\"outlinewidth\": 0, \"ticks\": \"\"}, \"type\": \"mesh3d\"}], \"parcoords\": [{\"line\": {\"colorbar\": {\"outlinewidth\": 0, \"ticks\": \"\"}}, \"type\": \"parcoords\"}], \"pie\": [{\"automargin\": true, \"type\": \"pie\"}], \"scatter\": [{\"marker\": {\"colorbar\": {\"outlinewidth\": 0, \"ticks\": \"\"}}, \"type\": \"scatter\"}], \"scatter3d\": [{\"line\": {\"colorbar\": {\"outlinewidth\": 0, \"ticks\": \"\"}}, \"marker\": {\"colorbar\": {\"outlinewidth\": 0, \"ticks\": \"\"}}, \"type\": \"scatter3d\"}], \"scattercarpet\": [{\"marker\": {\"colorbar\": {\"outlinewidth\": 0, \"ticks\": \"\"}}, \"type\": \"scattercarpet\"}], \"scattergeo\": [{\"marker\": {\"colorbar\": {\"outlinewidth\": 0, \"ticks\": \"\"}}, \"type\": \"scattergeo\"}], \"scattergl\": [{\"marker\": {\"colorbar\": {\"outlinewidth\": 0, \"ticks\": \"\"}}, \"type\": \"scattergl\"}], \"scattermapbox\": [{\"marker\": {\"colorbar\": {\"outlinewidth\": 0, \"ticks\": \"\"}}, \"type\": \"scattermapbox\"}], \"scatterpolar\": [{\"marker\": {\"colorbar\": {\"outlinewidth\": 0, \"ticks\": \"\"}}, \"type\": \"scatterpolar\"}], \"scatterpolargl\": [{\"marker\": {\"colorbar\": {\"outlinewidth\": 0, \"ticks\": \"\"}}, \"type\": \"scatterpolargl\"}], \"scatterternary\": [{\"marker\": {\"colorbar\": {\"outlinewidth\": 0, \"ticks\": \"\"}}, \"type\": \"scatterternary\"}], \"surface\": [{\"colorbar\": {\"outlinewidth\": 0, \"ticks\": \"\"}, \"colorscale\": [[0.0, \"#0d0887\"], [0.1111111111111111, \"#46039f\"], [0.2222222222222222, \"#7201a8\"], [0.3333333333333333, \"#9c179e\"], [0.4444444444444444, \"#bd3786\"], [0.5555555555555556, \"#d8576b\"], [0.6666666666666666, \"#ed7953\"], [0.7777777777777778, \"#fb9f3a\"], [0.8888888888888888, \"#fdca26\"], [1.0, \"#f0f921\"]], \"type\": \"surface\"}], \"table\": [{\"cells\": {\"fill\": {\"color\": \"#EBF0F8\"}, \"line\": {\"color\": \"white\"}}, \"header\": {\"fill\": {\"color\": \"#C8D4E3\"}, \"line\": {\"color\": \"white\"}}, \"type\": \"table\"}]}, \"layout\": {\"annotationdefaults\": {\"arrowcolor\": \"#2a3f5f\", \"arrowhead\": 0, \"arrowwidth\": 1}, \"coloraxis\": {\"colorbar\": {\"outlinewidth\": 0, \"ticks\": \"\"}}, \"colorscale\": {\"diverging\": [[0, \"#8e0152\"], [0.1, \"#c51b7d\"], [0.2, \"#de77ae\"], [0.3, \"#f1b6da\"], [0.4, \"#fde0ef\"], [0.5, \"#f7f7f7\"], [0.6, \"#e6f5d0\"], [0.7, \"#b8e186\"], [0.8, \"#7fbc41\"], [0.9, \"#4d9221\"], [1, \"#276419\"]], \"sequential\": [[0.0, \"#0d0887\"], [0.1111111111111111, \"#46039f\"], [0.2222222222222222, \"#7201a8\"], [0.3333333333333333, \"#9c179e\"], [0.4444444444444444, \"#bd3786\"], [0.5555555555555556, \"#d8576b\"], [0.6666666666666666, \"#ed7953\"], [0.7777777777777778, \"#fb9f3a\"], [0.8888888888888888, \"#fdca26\"], [1.0, \"#f0f921\"]], \"sequentialminus\": [[0.0, \"#0d0887\"], [0.1111111111111111, \"#46039f\"], [0.2222222222222222, \"#7201a8\"], [0.3333333333333333, \"#9c179e\"], [0.4444444444444444, \"#bd3786\"], [0.5555555555555556, \"#d8576b\"], [0.6666666666666666, \"#ed7953\"], [0.7777777777777778, \"#fb9f3a\"], [0.8888888888888888, \"#fdca26\"], [1.0, \"#f0f921\"]]}, \"colorway\": [\"#636efa\", \"#EF553B\", \"#00cc96\", \"#ab63fa\", \"#FFA15A\", \"#19d3f3\", \"#FF6692\", \"#B6E880\", \"#FF97FF\", \"#FECB52\"], \"font\": {\"color\": \"#2a3f5f\"}, \"geo\": {\"bgcolor\": \"white\", \"lakecolor\": \"white\", \"landcolor\": \"#E5ECF6\", \"showlakes\": true, \"showland\": true, \"subunitcolor\": \"white\"}, \"hoverlabel\": {\"align\": \"left\"}, \"hovermode\": \"closest\", \"mapbox\": {\"style\": \"light\"}, \"paper_bgcolor\": \"white\", \"plot_bgcolor\": \"#E5ECF6\", \"polar\": {\"angularaxis\": {\"gridcolor\": \"white\", \"linecolor\": \"white\", \"ticks\": \"\"}, \"bgcolor\": \"#E5ECF6\", \"radialaxis\": {\"gridcolor\": \"white\", \"linecolor\": \"white\", \"ticks\": \"\"}}, \"scene\": {\"xaxis\": {\"backgroundcolor\": \"#E5ECF6\", \"gridcolor\": \"white\", \"gridwidth\": 2, \"linecolor\": \"white\", \"showbackground\": true, \"ticks\": \"\", \"zerolinecolor\": \"white\"}, \"yaxis\": {\"backgroundcolor\": \"#E5ECF6\", \"gridcolor\": \"white\", \"gridwidth\": 2, \"linecolor\": \"white\", \"showbackground\": true, \"ticks\": \"\", \"zerolinecolor\": \"white\"}, \"zaxis\": {\"backgroundcolor\": \"#E5ECF6\", \"gridcolor\": \"white\", \"gridwidth\": 2, \"linecolor\": \"white\", \"showbackground\": true, \"ticks\": \"\", \"zerolinecolor\": \"white\"}}, \"shapedefaults\": {\"line\": {\"color\": \"#2a3f5f\"}}, \"ternary\": {\"aaxis\": {\"gridcolor\": \"white\", \"linecolor\": \"white\", \"ticks\": \"\"}, \"baxis\": {\"gridcolor\": \"white\", \"linecolor\": \"white\", \"ticks\": \"\"}, \"bgcolor\": \"#E5ECF6\", \"caxis\": {\"gridcolor\": \"white\", \"linecolor\": \"white\", \"ticks\": \"\"}}, \"title\": {\"x\": 0.05}, \"xaxis\": {\"automargin\": true, \"gridcolor\": \"white\", \"linecolor\": \"white\", \"ticks\": \"\", \"title\": {\"standoff\": 15}, \"zerolinecolor\": \"white\", \"zerolinewidth\": 2}, \"yaxis\": {\"automargin\": true, \"gridcolor\": \"white\", \"linecolor\": \"white\", \"ticks\": \"\", \"title\": {\"standoff\": 15}, \"zerolinecolor\": \"white\", \"zerolinewidth\": 2}}}, \"title\": {\"text\": \"<span style=\\\"  font-size: 30pt;font-family: 'Arial';color: White;text-shadow:0px -3px 0 #212121,0px -3px 0 #212121,0px  3px 0 #212121,0px  3px 0 #212121,-3px  0px 0 #212121,  3px  0px 0 #212121,-3px  0px 0 #212121,3px  0px 0 #212121,-3px -3px 0 #212121,  3px -3px 0 #212121,-3px  3px 0 #212121,3px  3px 0 #212121,-3px  9px 0 #212121,0px  9px 0 #212121,3px  9px 0 #212121,0 9px 1px rgba(0,0,0,.1),0 0 3px rgba(0,0,0,.1),0 3px 1.5px rgba(0,0,0,.3),0 6px 3px rgba(0,0,0,.2),0 9px 9px rgba(0,0,0,.25),0 12px 12px rgba(0,0,0,.2),0 18px 18px rgba(0,0,0,.15);\\\">South Korea Pass Wagon</span>\", \"x\": 0.5, \"xref\": \"paper\", \"y\": 0.9}, \"width\": 1600, \"xaxis\": {\"showgrid\": false, \"showline\": false, \"zeroline\": false}, \"yaxis\": {\"showgrid\": false, \"showline\": false, \"zeroline\": false}},\n",
       "                        {\"responsive\": true}\n",
       "                    ).then(function(){\n",
       "                            \n",
       "var gd = document.getElementById('a72d5f82-1f62-4cb4-9eff-4f42d11895ec');\n",
       "var x = new MutationObserver(function (mutations, observer) {{\n",
       "        var display = window.getComputedStyle(gd).display;\n",
       "        if (!display || display === 'none') {{\n",
       "            console.log([gd, 'removed!']);\n",
       "            Plotly.purge(gd);\n",
       "            observer.disconnect();\n",
       "        }}\n",
       "}});\n",
       "\n",
       "// Listen for the removal of the full notebook cells\n",
       "var notebookContainer = gd.closest('#notebook-container');\n",
       "if (notebookContainer) {{\n",
       "    x.observe(notebookContainer, {childList: true});\n",
       "}}\n",
       "\n",
       "// Listen for the clearing of the current output cell\n",
       "var outputEl = gd.closest('.output');\n",
       "if (outputEl) {{\n",
       "    x.observe(outputEl, {childList: true});\n",
       "}}\n",
       "\n",
       "                        })\n",
       "                };\n",
       "                });\n",
       "            </script>\n",
       "        </div>"
      ]
     },
     "metadata": {},
     "output_type": "display_data"
    }
   ],
   "source": [
    "fig2"
   ]
  },
  {
   "cell_type": "code",
   "execution_count": 166,
   "metadata": {},
   "outputs": [],
   "source": [
    "fig2.write_html('south_korea.html')"
   ]
  },
  {
   "cell_type": "code",
   "execution_count": null,
   "metadata": {},
   "outputs": [],
   "source": []
  }
 ],
 "metadata": {
  "kernelspec": {
   "display_name": "Python 3",
   "language": "python",
   "name": "python3"
  },
  "language_info": {
   "codemirror_mode": {
    "name": "ipython",
    "version": 3
   },
   "file_extension": ".py",
   "mimetype": "text/x-python",
   "name": "python",
   "nbconvert_exporter": "python",
   "pygments_lexer": "ipython3",
   "version": "3.6.4"
  }
 },
 "nbformat": 4,
 "nbformat_minor": 2
}
